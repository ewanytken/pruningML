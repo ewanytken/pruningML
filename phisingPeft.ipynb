{
 "cells": [
  {
   "cell_type": "code",
   "execution_count": 2,
   "outputs": [],
   "source": [
    "from datasets import load_dataset, DatasetDict, Dataset"
   ],
   "metadata": {
    "collapsed": false,
    "pycharm": {
     "name": "#%%\n"
    }
   }
  },
  {
   "cell_type": "code",
   "execution_count": 3,
   "outputs": [
    {
     "name": "stdout",
     "output_type": "stream",
     "text": [
      "WARNING:tensorflow:From C:\\Users\\Alex\\anaconda\\Lib\\site-packages\\keras\\src\\losses.py:2976: The name tf.losses.sparse_softmax_cross_entropy is deprecated. Please use tf.compat.v1.losses.sparse_softmax_cross_entropy instead.\n",
      "\n"
     ]
    }
   ],
   "source": [
    "from transformers import (\n",
    "    AutoTokenizer,\n",
    "    AutoConfig,\n",
    "    AutoModelForSequenceClassification,\n",
    "    DataCollatorWithPadding,\n",
    "    TrainingArguments,\n",
    "    Trainer\n",
    ")\n",
    "import torch.nn as nn\n",
    "\n",
    "from peft import PeftModel, PeftConfig, get_peft_model, LoraConfig"
   ],
   "metadata": {
    "collapsed": false,
    "pycharm": {
     "name": "#%%\n"
    }
   }
  },
  {
   "cell_type": "code",
   "execution_count": 4,
   "outputs": [],
   "source": [
    "import logging\n",
    "logger = logging.getLogger(__name__)\n",
    "logging.basicConfig(format='%(asctime)s %(levelname)s:%(message)s', level=logging.INFO, datefmt='%I:%M:%S')"
   ],
   "metadata": {
    "collapsed": false,
    "pycharm": {
     "name": "#%%\n"
    }
   }
  },
  {
   "cell_type": "code",
   "execution_count": 5,
   "outputs": [],
   "source": [
    "import torch\n",
    "import numpy as np\n",
    "import evaluate"
   ],
   "metadata": {
    "collapsed": false,
    "pycharm": {
     "name": "#%%\n"
    }
   }
  },
  {
   "cell_type": "code",
   "execution_count": 6,
   "outputs": [],
   "source": [
    "modelName = 'google-bert/bert-base-uncased'"
   ],
   "metadata": {
    "collapsed": false,
    "pycharm": {
     "name": "#%%\n"
    }
   }
  },
  {
   "cell_type": "code",
   "execution_count": 7,
   "outputs": [
    {
     "name": "stderr",
     "output_type": "stream",
     "text": [
      "Some weights of BertForSequenceClassification were not initialized from the model checkpoint at google-bert/bert-base-uncased and are newly initialized: ['classifier.bias', 'classifier.weight']\n",
      "You should probably TRAIN this model on a down-stream task to be able to use it for predictions and inference.\n"
     ]
    }
   ],
   "source": [
    "id2label = {0: \"Safe\", 1: \"Not Safe\"}\n",
    "label2id = {\"Safe\": 0, \"Not Safe\": 1}\n",
    "\n",
    "model = AutoModelForSequenceClassification.from_pretrained(\n",
    "    modelName, num_labels=2, id2label=id2label, label2id=label2id\n",
    ")"
   ],
   "metadata": {
    "collapsed": false,
    "pycharm": {
     "name": "#%%\n"
    }
   }
  },
  {
   "cell_type": "code",
   "execution_count": 8,
   "outputs": [
    {
     "data": {
      "text/plain": "BertForSequenceClassification(\n  (bert): BertModel(\n    (embeddings): BertEmbeddings(\n      (word_embeddings): Embedding(30522, 768, padding_idx=0)\n      (position_embeddings): Embedding(512, 768)\n      (token_type_embeddings): Embedding(2, 768)\n      (LayerNorm): LayerNorm((768,), eps=1e-12, elementwise_affine=True)\n      (dropout): Dropout(p=0.1, inplace=False)\n    )\n    (encoder): BertEncoder(\n      (layer): ModuleList(\n        (0-11): 12 x BertLayer(\n          (attention): BertAttention(\n            (self): BertSdpaSelfAttention(\n              (query): Linear(in_features=768, out_features=768, bias=True)\n              (key): Linear(in_features=768, out_features=768, bias=True)\n              (value): Linear(in_features=768, out_features=768, bias=True)\n              (dropout): Dropout(p=0.1, inplace=False)\n            )\n            (output): BertSelfOutput(\n              (dense): Linear(in_features=768, out_features=768, bias=True)\n              (LayerNorm): LayerNorm((768,), eps=1e-12, elementwise_affine=True)\n              (dropout): Dropout(p=0.1, inplace=False)\n            )\n          )\n          (intermediate): BertIntermediate(\n            (dense): Linear(in_features=768, out_features=3072, bias=True)\n            (intermediate_act_fn): GELUActivation()\n          )\n          (output): BertOutput(\n            (dense): Linear(in_features=3072, out_features=768, bias=True)\n            (LayerNorm): LayerNorm((768,), eps=1e-12, elementwise_affine=True)\n            (dropout): Dropout(p=0.1, inplace=False)\n          )\n        )\n      )\n    )\n    (pooler): BertPooler(\n      (dense): Linear(in_features=768, out_features=768, bias=True)\n      (activation): Tanh()\n    )\n  )\n  (dropout): Dropout(p=0.1, inplace=False)\n  (classifier): Linear(in_features=768, out_features=2, bias=True)\n)"
     },
     "execution_count": 8,
     "metadata": {},
     "output_type": "execute_result"
    }
   ],
   "source": [
    "model"
   ],
   "metadata": {
    "collapsed": false,
    "pycharm": {
     "name": "#%%\n"
    }
   }
  },
  {
   "cell_type": "code",
   "execution_count": 9,
   "outputs": [
    {
     "data": {
      "text/plain": "DatasetDict({\n    train: Dataset({\n        features: ['text', 'label'],\n        num_rows: 100000\n    })\n})"
     },
     "execution_count": 9,
     "metadata": {},
     "output_type": "execute_result"
    }
   ],
   "source": [
    "dataset = load_dataset(\"csv\", data_files=\"././phishing_dataset_full.csv\")\n",
    "dataset"
   ],
   "metadata": {
    "collapsed": false,
    "pycharm": {
     "name": "#%%\n"
    }
   }
  },
  {
   "cell_type": "code",
   "execution_count": 10,
   "outputs": [
    {
     "data": {
      "text/plain": "DatasetDict({\n    train: Dataset({\n        features: ['text', 'label'],\n        num_rows: 80000\n    })\n    test: Dataset({\n        features: ['text', 'label'],\n        num_rows: 20000\n    })\n})"
     },
     "execution_count": 10,
     "metadata": {},
     "output_type": "execute_result"
    }
   ],
   "source": [
    "dataset = dataset['train'].train_test_split(test_size=0.2)\n",
    "dataset"
   ],
   "metadata": {
    "collapsed": false,
    "pycharm": {
     "name": "#%%\n"
    }
   }
  },
  {
   "cell_type": "code",
   "execution_count": 11,
   "outputs": [
    {
     "data": {
      "text/plain": "['https://www.cnn.com',\n 'https://www.microsoft.com',\n 'https://www.zoom.us',\n 'https://www.wikipedia.org',\n 'https://www.paypal.com',\n 'https://www.google.com',\n 'https://www.etsy.com',\n 'https://www.reddit.com',\n 'https://www.google.com',\n 'https://www.ebay.com',\n 'https://www.airbnb.com',\n 'https://www.wikipedia.org',\n 'https://www.linkedin.com',\n 'https://www.youtube.com',\n 'http://backupsync.biz/profile',\n 'http://datacrypto.biz/update',\n 'http://paypalfinance.edu/login',\n 'http://twitterstore.net/password',\n 'http://communityupdate.biz/profile',\n 'https://www.stackoverflow.com',\n 'https://www.youtube.com',\n 'https://www.stackoverflow.com',\n 'https://www.zoom.us',\n 'https://www.facebook.com',\n 'http://paypalcrypto.gov/account',\n 'https://www.amazon.com',\n 'https://www.instagram.com',\n 'http://instagramforum.com/account',\n 'https://www.linkedin.com',\n 'http://infocommunity.edu/secure',\n 'http://memberhelp.org/confirm',\n 'http://shopbuy.info/confirm',\n 'https://www.microsoft.com',\n 'https://www.apple.com',\n 'http://offersecure.io/dashboard',\n 'https://www.amazon.com',\n 'https://www.adobe.com',\n 'http://facebookblockchain.biz/profile',\n 'https://www.facebook.com',\n 'http://blogconfirm.co/confirm',\n 'http://bankbank.gov/update',\n 'https://www.dropbox.com',\n 'http://verifywallet.me/dashboard',\n 'https://www.stackoverflow.com',\n 'http://serviceuser.com/secure',\n 'http://marketmarket.gov/dashboard',\n 'http://datamicrosoft.com/profile',\n 'http://syncverify.biz/reset',\n 'http://cloudverify.org/reset',\n 'https://www.reddit.com',\n 'http://customershop.co/account',\n 'http://customermicrosoft.co/password',\n 'http://storageinstagram.edu/secure',\n 'https://www.airbnb.com',\n 'https://www.facebook.com',\n 'http://infodata.me/secure',\n 'https://www.facebook.com',\n 'http://walletsecure.biz/login',\n 'http://creditcrypto.org/account',\n 'https://www.theguardian.com',\n 'https://www.zoom.us',\n 'http://userhelp.edu/profile',\n 'http://supportverify.info/verify',\n 'https://www.cnn.com',\n 'https://www.stackoverflow.com',\n 'http://shopinstagram.co/profile',\n 'https://www.apple.com',\n 'http://updateupdate.biz/dashboard',\n 'https://www.slack.com',\n 'http://confirmaccount.io/secure',\n 'http://buydiscount.co/reset',\n 'http://servicemail.me/reset',\n 'https://www.microsoft.com',\n 'http://walletcredit.biz/login',\n 'https://www.etsy.com',\n 'http://googledebit.org/verify',\n 'https://www.instagram.com',\n 'http://salebackup.gov/account',\n 'http://netflixinvest.edu/dashboard',\n 'http://spotifycommunity.com/verify',\n 'https://www.youtube.com',\n 'http://memberdiscount.biz/dashboard',\n 'http://supportmicrosoft.org/confirm',\n 'https://www.google.com',\n 'https://www.google.com',\n 'http://investdrive.co/login',\n 'http://cryptouser.com/profile',\n 'http://updatenetflix.com/verify',\n 'https://www.etsy.com',\n 'https://www.youtube.com',\n 'http://communitydiscount.gov/login',\n 'http://drivewallet.biz/secure',\n 'https://www.youtube.com',\n 'http://securefacebook.io/dashboard',\n 'https://www.nytimes.com',\n 'http://paypalblog.me/account',\n 'https://www.apple.com',\n 'https://www.wikipedia.org',\n 'http://loginlogin.net/profile',\n 'https://www.nytimes.com',\n 'https://www.apple.com',\n 'https://www.adobe.com',\n 'https://www.netflix.com',\n 'https://www.airbnb.com',\n 'https://www.stackoverflow.com',\n 'http://buyexchange.net/account',\n 'https://www.apple.com',\n 'http://marketverify.biz/secure',\n 'http://microsoftcloud.info/secure',\n 'http://bankconfirm.gov/verify',\n 'http://buyinfo.org/account',\n 'http://updateservice.biz/profile',\n 'http://saleverify.io/verify',\n 'https://www.google.com',\n 'https://www.spotify.com',\n 'http://confirmlinkedin.me/verify',\n 'https://www.slack.com',\n 'http://cryptocrypto.net/login',\n 'https://www.nytimes.com',\n 'https://www.slack.com',\n 'http://buymarket.gov/update',\n 'https://www.github.com',\n 'http://maildata.io/password',\n 'http://instagramcloud.io/secure',\n 'http://dealsecure.biz/login',\n 'https://www.dropbox.com',\n 'https://www.spotify.com',\n 'http://amazonamazon.info/confirm',\n 'http://dealmarket.net/verify',\n 'https://www.youtube.com',\n 'http://bloginfo.info/reset',\n 'http://supportuser.edu/password',\n 'https://www.linkedin.com',\n 'http://cryptostore.io/verify',\n 'https://www.amazon.com',\n 'http://linkedinpaypal.co/update',\n 'http://facebookblog.biz/update',\n 'https://www.netflix.com',\n 'http://financespotify.edu/profile',\n 'http://dealtwitter.edu/profile',\n 'https://www.slack.com',\n 'https://www.github.com',\n 'https://www.amazon.com',\n 'https://www.zoom.us',\n 'http://googlecredit.biz/login',\n 'https://www.nytimes.com',\n 'http://infostore.biz/reset',\n 'https://www.reddit.com',\n 'http://facebookshop.info/secure',\n 'http://debitexchange.biz/login',\n 'http://mailfinance.com/verify',\n 'http://foruminstagram.gov/verify',\n 'https://www.netflix.com',\n 'http://accountaccount.io/update',\n 'https://www.github.com',\n 'https://www.netflix.com',\n 'https://www.youtube.com',\n 'https://www.stackoverflow.com',\n 'http://netflixsync.co/confirm',\n 'https://www.bbc.com',\n 'https://www.theguardian.com',\n 'http://buypaypal.info/secure',\n 'https://www.etsy.com',\n 'https://www.google.com',\n 'http://backupapple.com/confirm',\n 'https://www.cnn.com',\n 'http://syncmarket.gov/confirm',\n 'http://communitycredit.co/secure',\n 'https://www.reddit.com',\n 'https://www.twitter.com',\n 'https://www.reddit.com',\n 'http://forumamazon.me/password',\n 'http://datablockchain.net/account',\n 'https://www.spotify.com',\n 'https://www.microsoft.com',\n 'http://offerwallet.co/dashboard',\n 'http://investblog.me/account',\n 'http://netflixmail.co/verify',\n 'http://updatecrypto.co/password',\n 'https://www.amazon.com',\n 'http://investfacebook.biz/confirm',\n 'https://www.reddit.com',\n 'https://www.youtube.com',\n 'http://marketshop.net/confirm',\n 'http://blockchainsupport.biz/reset',\n 'http://driveverify.org/reset',\n 'http://forumtwitter.net/reset',\n 'http://microsoftexchange.co/update',\n 'http://debitpaypal.gov/secure',\n 'https://www.chase.com',\n 'https://www.slack.com',\n 'http://communitydeal.me/dashboard',\n 'https://www.instagram.com',\n 'https://www.github.com',\n 'https://www.dropbox.com',\n 'https://www.wellsfargo.com',\n 'http://memberconfirm.me/confirm',\n 'https://www.twitter.com',\n 'http://exchangebackup.biz/login',\n 'http://storagebuy.co/login',\n 'http://supportblog.edu/password',\n 'http://cloudinfo.gov/update',\n 'http://paypalapple.info/login',\n 'http://facebookapple.gov/confirm',\n 'http://accountexchange.me/dashboard',\n 'https://www.amazon.com',\n 'https://www.google.com',\n 'http://updateapple.me/account',\n 'https://www.facebook.com',\n 'https://www.spotify.com',\n 'http://securedata.me/confirm',\n 'http://dealservice.net/reset',\n 'http://dealsale.co/reset',\n 'https://www.nytimes.com',\n 'https://www.ebay.com',\n 'https://www.apple.com',\n 'https://www.dropbox.com',\n 'https://www.washingtonpost.com',\n 'http://twitterapple.edu/login',\n 'https://www.youtube.com',\n 'https://www.instagram.com',\n 'https://www.github.com',\n 'http://logininfo.org/verify',\n 'https://www.spotify.com',\n 'http://shoplinkedin.co/verify',\n 'http://storagecommunity.edu/account',\n 'https://www.instagram.com',\n 'http://creditfinance.me/login',\n 'http://discountsupport.co/account',\n 'http://bankwallet.co/reset',\n 'https://www.reddit.com',\n 'https://www.github.com',\n 'http://cryptosync.me/dashboard',\n 'http://drivestore.com/secure',\n 'http://communitymail.gov/secure',\n 'http://updateforum.net/login',\n 'https://www.paypal.com',\n 'http://cryptoconfirm.com/verify',\n 'http://updatepaypal.edu/reset',\n 'http://useraccount.edu/reset',\n 'https://www.google.com',\n 'https://www.etsy.com',\n 'http://instagramdeal.io/profile',\n 'https://www.ebay.com',\n 'https://www.chase.com',\n 'http://memberstorage.gov/verify',\n 'https://www.washingtonpost.com',\n 'http://backuptwitter.gov/verify',\n 'https://www.wellsfargo.com',\n 'https://www.google.com',\n 'https://www.washingtonpost.com',\n 'http://selloffer.io/secure',\n 'https://www.theguardian.com',\n 'https://www.nytimes.com',\n 'http://amazonlinkedin.io/secure',\n 'http://drivemail.io/login',\n 'http://syncblockchain.biz/login',\n 'https://www.reddit.com',\n 'http://buysecure.biz/profile',\n 'https://www.slack.com',\n 'https://www.wikipedia.org',\n 'http://drivedeal.org/password',\n 'https://www.chase.com',\n 'https://www.etsy.com',\n 'http://servicecloud.co/secure',\n 'https://www.twitter.com',\n 'http://salesecure.co/verify',\n 'http://blogconfirm.me/login',\n 'http://mailexchange.me/confirm',\n 'http://instagramservice.info/verify',\n 'http://googlesupport.biz/secure',\n 'http://driveuser.co/secure',\n 'http://synctwitter.com/account',\n 'https://www.slack.com',\n 'https://www.netflix.com',\n 'http://creditupdate.org/account',\n 'http://securemicrosoft.edu/update',\n 'https://www.github.com',\n 'http://offerexchange.edu/profile',\n 'http://verifybackup.co/profile',\n 'http://customersale.com/confirm',\n 'http://mailpaypal.io/reset',\n 'https://www.spotify.com',\n 'http://investbuy.edu/confirm',\n 'https://www.stackoverflow.com',\n 'http://investdebit.org/secure',\n 'http://helpmarket.edu/password',\n 'http://cloudstore.io/reset',\n 'https://www.facebook.com',\n 'http://discountinvest.com/confirm',\n 'https://www.ebay.com',\n 'https://www.netflix.com',\n 'http://serviceconfirm.info/reset',\n 'https://www.zoom.us',\n 'https://www.cnn.com',\n 'http://securestorage.info/login',\n 'https://www.wellsfargo.com',\n 'https://www.bbc.com',\n 'https://www.bbc.com',\n 'https://www.dropbox.com',\n 'https://www.microsoft.com',\n 'http://securesecure.net/login',\n 'http://memberbank.me/update',\n 'http://instagramtwitter.com/verify',\n 'https://www.stackoverflow.com',\n 'http://facebookdebit.com/confirm',\n 'https://www.washingtonpost.com',\n 'http://googlefinance.net/account',\n 'https://www.cnn.com',\n 'http://confirmblockchain.gov/secure',\n 'http://verifysecure.biz/profile',\n 'https://www.reddit.com',\n 'http://facebookshop.info/profile',\n 'https://www.apple.com',\n 'https://www.bbc.com',\n 'https://www.cnn.com',\n 'http://discountbackup.net/confirm',\n 'https://www.slack.com',\n 'http://blockchainapple.com/reset',\n 'https://www.zoom.us',\n 'https://www.amazon.com',\n 'https://www.cnn.com',\n 'http://servicebank.org/reset',\n 'http://facebookshop.com/verify',\n 'http://blockchainsync.io/verify',\n 'https://www.zoom.us',\n 'http://netflixmicrosoft.me/confirm',\n 'http://financeuser.gov/reset',\n 'http://sellcredit.biz/dashboard',\n 'http://cryptosale.info/password',\n 'https://www.apple.com',\n 'https://www.bbc.com',\n 'http://offeruser.io/update',\n 'http://serviceshop.net/update',\n 'http://dealinvest.org/profile',\n 'http://secureservice.org/confirm',\n 'https://www.washingtonpost.com',\n 'https://www.zoom.us',\n 'https://www.microsoft.com',\n 'https://www.cnn.com',\n 'http://serviceservice.gov/reset',\n 'https://www.reddit.com',\n 'https://www.facebook.com',\n 'http://storageamazon.gov/confirm',\n 'http://infoupdate.biz/dashboard',\n 'http://facebookpaypal.io/login',\n 'https://www.dropbox.com',\n 'https://www.linkedin.com',\n 'http://paypalbank.biz/profile',\n 'http://userstore.net/secure',\n 'http://investexchange.info/account',\n 'https://www.netflix.com',\n 'http://blockchainbackup.org/confirm',\n 'http://drivemarket.io/profile',\n 'https://www.twitter.com',\n 'http://discountsupport.gov/update',\n 'http://customerapple.biz/verify',\n 'http://customerinstagram.co/verify',\n 'http://cryptohelp.biz/profile',\n 'http://storeblockchain.info/password',\n 'https://www.wellsfargo.com',\n 'https://www.instagram.com',\n 'http://servicespotify.com/profile',\n 'http://twittersupport.net/dashboard',\n 'https://www.amazon.com',\n 'https://www.chase.com',\n 'https://www.airbnb.com',\n 'http://googlemember.com/password',\n 'https://www.netflix.com',\n 'http://creditwallet.co/dashboard',\n 'https://www.bbc.com',\n 'https://www.google.com',\n 'https://www.linkedin.com',\n 'http://storecrypto.biz/profile',\n 'https://www.chase.com',\n 'https://www.zoom.us',\n 'http://storetwitter.com/reset',\n 'http://shoplinkedin.biz/account',\n 'http://debithelp.com/reset',\n 'http://mailshop.org/dashboard',\n 'https://www.etsy.com',\n 'http://microsoftnetflix.co/update',\n 'http://selllinkedin.io/account',\n 'https://www.github.com',\n 'https://www.dropbox.com',\n 'http://twittergoogle.info/confirm',\n 'http://facebookdata.gov/secure',\n 'http://buyshop.me/confirm',\n 'http://infowallet.gov/dashboard',\n 'http://accountupdate.io/login',\n 'http://customerspotify.gov/update',\n 'http://offerfinance.gov/login',\n 'http://twitterconfirm.info/verify',\n 'https://www.github.com',\n 'https://www.washingtonpost.com',\n 'http://netflixbackup.org/update',\n 'http://mailinfo.biz/login',\n 'http://investdebit.edu/dashboard',\n 'https://www.instagram.com',\n 'http://syncblockchain.info/account',\n 'https://www.slack.com',\n 'http://datadata.org/confirm',\n 'http://financefinance.io/login',\n 'http://offerspotify.info/profile',\n 'http://bankbuy.io/account',\n 'https://www.twitter.com',\n 'http://paypalpaypal.info/reset',\n 'http://cloudbackup.me/secure',\n 'https://www.google.com',\n 'https://www.youtube.com',\n 'http://infosupport.edu/update',\n 'https://www.stackoverflow.com',\n 'https://www.wellsfargo.com',\n 'http://maildata.net/confirm',\n 'http://investdeal.io/login',\n 'https://www.twitter.com',\n 'https://www.nytimes.com',\n 'https://www.dropbox.com',\n 'http://paypalwallet.me/account',\n 'http://financesupport.net/reset',\n 'http://exchangeverify.com/secure',\n 'http://marketapple.biz/password',\n 'https://www.facebook.com',\n 'https://www.dropbox.com',\n 'https://www.github.com',\n 'https://www.twitter.com',\n 'https://www.spotify.com',\n 'http://forumcrypto.edu/dashboard',\n 'https://www.google.com',\n 'https://www.nytimes.com',\n 'http://sellgoogle.me/update',\n 'http://usergoogle.io/account',\n 'http://servicecloud.com/verify',\n 'https://www.washingtonpost.com',\n 'http://paypalforum.me/dashboard',\n 'http://walletinvest.edu/confirm',\n 'http://discountdebit.io/verify',\n 'https://www.linkedin.com',\n 'http://communitysupport.io/account',\n 'http://helpsale.com/password',\n 'https://www.github.com',\n 'https://www.netflix.com',\n 'http://updatesecure.info/confirm',\n 'https://www.bbc.com',\n 'https://www.ebay.com',\n 'https://www.wikipedia.org',\n 'http://forumcommunity.io/update',\n 'http://communitybank.edu/update',\n 'https://www.amazon.com',\n 'https://www.dropbox.com',\n 'http://synctwitter.me/dashboard',\n 'http://communitysecure.me/profile',\n 'https://www.ebay.com',\n 'https://www.dropbox.com',\n 'https://www.airbnb.com',\n 'https://www.instagram.com',\n 'http://buysale.edu/login',\n 'http://supportcloud.co/profile',\n 'https://www.airbnb.com',\n 'https://www.airbnb.com',\n 'https://www.stackoverflow.com',\n 'https://www.airbnb.com',\n 'http://cloudpaypal.biz/verify',\n 'http://storeamazon.info/profile',\n 'http://marketbank.co/confirm',\n 'http://cryptospotify.com/account',\n 'https://www.netflix.com',\n 'https://www.cnn.com',\n 'http://marketdata.com/password',\n 'https://www.microsoft.com',\n 'http://googleamazon.info/profile',\n 'http://spotifyshop.com/confirm',\n 'http://cloudoffer.me/confirm',\n 'https://www.reddit.com',\n 'http://membermember.gov/reset',\n 'https://www.slack.com',\n 'http://blockchainbuy.me/verify',\n 'https://www.adobe.com',\n 'https://www.amazon.com',\n 'http://drivecloud.co/login',\n 'https://www.bbc.com',\n 'https://www.airbnb.com',\n 'https://www.microsoft.com',\n 'https://www.apple.com',\n 'https://www.google.com',\n 'http://buycustomer.com/profile',\n 'http://servicespotify.edu/password',\n 'https://www.paypal.com',\n 'http://servicesync.co/update',\n 'http://storagebackup.gov/profile',\n 'http://buyspotify.co/verify',\n 'https://www.washingtonpost.com',\n 'http://blockchainblog.biz/reset',\n 'https://www.chase.com',\n 'https://www.github.com',\n 'http://securefacebook.io/verify',\n 'https://www.chase.com',\n 'http://twitterconfirm.edu/login',\n 'http://exchangeinstagram.me/dashboard',\n 'http://helpuser.org/secure',\n 'https://www.facebook.com',\n 'https://www.bbc.com',\n 'https://www.cnn.com',\n 'https://www.cnn.com',\n 'https://www.cnn.com',\n 'https://www.instagram.com',\n 'http://supportaccount.edu/login',\n 'http://shopshop.gov/password',\n 'https://www.nytimes.com',\n 'http://twitterfacebook.gov/account',\n 'http://saleforum.me/login',\n 'http://userupdate.org/reset',\n 'http://storageupdate.me/login',\n 'http://microsoftlogin.biz/profile',\n 'http://amazoncustomer.me/dashboard',\n 'http://offersale.net/account',\n 'http://bankshop.biz/confirm',\n 'http://memberblockchain.biz/dashboard',\n 'http://facebookdiscount.org/secure',\n 'http://dataverify.edu/login',\n 'http://twittermarket.org/login',\n 'https://www.twitter.com',\n 'https://www.paypal.com',\n 'http://buystore.me/dashboard',\n 'http://linkedinhelp.co/update',\n 'https://www.stackoverflow.com',\n 'http://bankcloud.edu/login',\n 'https://www.youtube.com',\n 'http://customerfacebook.io/password',\n 'https://www.microsoft.com',\n 'http://forumgoogle.org/reset',\n 'http://creditwallet.org/secure',\n 'http://backupsell.edu/login',\n 'https://www.stackoverflow.com',\n 'https://www.theguardian.com',\n 'http://mailblog.org/account',\n 'http://spotifysell.edu/dashboard',\n 'https://www.amazon.com',\n 'http://communitymember.me/reset',\n 'https://www.paypal.com',\n 'https://www.spotify.com',\n 'http://blockchainmicrosoft.co/account',\n 'https://www.cnn.com',\n 'http://logincloud.me/verify',\n 'https://www.washingtonpost.com',\n 'https://www.airbnb.com',\n 'http://storewallet.net/password',\n 'https://www.stackoverflow.com',\n 'https://www.theguardian.com',\n 'http://twitterexchange.com/secure',\n 'https://www.spotify.com',\n 'https://www.slack.com',\n 'http://markethelp.co/password',\n 'https://www.zoom.us',\n 'https://www.chase.com',\n 'http://sellwallet.com/profile',\n 'https://www.linkedin.com',\n 'http://paypaldeal.co/verify',\n 'https://www.twitter.com',\n 'https://www.theguardian.com',\n 'http://bloguser.co/confirm',\n 'http://amazonoffer.info/reset',\n 'http://creditinstagram.gov/verify',\n 'https://www.zoom.us',\n 'https://www.spotify.com',\n 'http://customerwallet.io/account',\n 'https://www.dropbox.com',\n 'https://www.microsoft.com',\n 'http://cryptoexchange.co/dashboard',\n 'http://facebooksecure.biz/secure',\n 'http://buyuser.me/secure',\n 'https://www.stackoverflow.com',\n 'http://accountdebit.edu/account',\n 'https://www.ebay.com',\n 'https://www.nytimes.com',\n 'https://www.microsoft.com',\n 'http://marketaccount.biz/confirm',\n 'http://debitbackup.biz/login',\n 'https://www.github.com',\n 'https://www.reddit.com',\n 'https://www.adobe.com',\n 'https://www.wikipedia.org',\n 'https://www.facebook.com',\n 'http://infobackup.io/password',\n 'http://microsofthelp.me/dashboard',\n 'http://bankexchange.net/update',\n 'http://forumupdate.edu/reset',\n 'https://www.microsoft.com',\n 'https://www.stackoverflow.com',\n 'http://financeblockchain.info/profile',\n 'https://www.youtube.com',\n 'https://www.linkedin.com',\n 'https://www.cnn.com',\n 'http://amazonforum.co/dashboard',\n 'https://www.instagram.com',\n 'https://www.github.com',\n 'https://www.paypal.com',\n 'http://financebuy.info/password',\n 'https://www.wikipedia.org',\n 'https://www.github.com',\n 'http://cryptoblockchain.co/verify',\n 'https://www.linkedin.com',\n 'http://linkedinwallet.info/login',\n 'http://shopstorage.edu/login',\n 'http://walletcustomer.com/confirm',\n 'https://www.adobe.com',\n 'http://accountinstagram.biz/password',\n 'http://confirmoffer.co/password',\n 'https://www.wikipedia.org',\n 'https://www.paypal.com',\n 'http://exchangebackup.co/update',\n 'http://supportdiscount.biz/login',\n 'http://storelinkedin.org/login',\n 'http://userblog.net/update',\n 'https://www.reddit.com',\n 'http://financecloud.info/account',\n 'http://bankmicrosoft.edu/dashboard',\n 'https://www.zoom.us',\n 'http://amazondrive.io/confirm',\n 'http://twittershop.biz/login',\n 'https://www.reddit.com',\n 'https://www.paypal.com',\n 'https://www.facebook.com',\n 'https://www.netflix.com',\n 'http://verifyconfirm.gov/login',\n 'https://www.airbnb.com',\n 'https://www.wellsfargo.com',\n 'http://marketcustomer.org/account',\n 'http://linkedinsupport.me/dashboard',\n 'http://walletdrive.biz/secure',\n 'http://selldeal.me/dashboard',\n 'http://storemail.io/reset',\n 'https://www.netflix.com',\n 'https://www.bbc.com',\n 'https://www.youtube.com',\n 'https://www.reddit.com',\n 'http://forumbank.net/profile',\n 'https://www.washingtonpost.com',\n 'https://www.zoom.us',\n 'https://www.amazon.com',\n 'https://www.slack.com',\n 'https://www.airbnb.com',\n 'https://www.apple.com',\n 'https://www.cnn.com',\n 'http://logincustomer.biz/secure',\n 'http://storagecommunity.biz/confirm',\n 'http://linkedinaccount.org/dashboard',\n 'https://www.netflix.com',\n 'https://www.spotify.com',\n 'http://spotifyforum.io/secure',\n 'http://offergoogle.gov/account',\n 'https://www.airbnb.com',\n 'https://www.nytimes.com',\n 'https://www.google.com',\n 'http://buyblockchain.gov/confirm',\n 'https://www.zoom.us',\n 'http://financefinance.net/reset',\n 'http://amazondrive.com/update',\n 'https://www.apple.com',\n 'https://www.slack.com',\n 'http://dealstore.info/password',\n 'http://paypalmarket.biz/account',\n 'https://www.nytimes.com',\n 'https://www.washingtonpost.com',\n 'https://www.chase.com',\n 'https://www.adobe.com',\n 'https://www.microsoft.com',\n 'https://www.google.com',\n 'https://www.netflix.com',\n 'http://verifywallet.co/password',\n 'http://debitmail.me/update',\n 'http://investforum.biz/verify',\n 'https://www.dropbox.com',\n 'https://www.adobe.com',\n 'https://www.microsoft.com',\n 'http://customerstorage.org/update',\n 'https://www.youtube.com',\n 'http://linkedinfacebook.biz/account',\n 'https://www.amazon.com',\n 'https://www.adobe.com',\n 'https://www.linkedin.com',\n 'https://www.google.com',\n 'http://verifynetflix.io/profile',\n 'https://www.facebook.com',\n 'http://secureamazon.info/reset',\n 'https://www.stackoverflow.com',\n 'https://www.wellsfargo.com',\n 'https://www.airbnb.com',\n 'https://www.microsoft.com',\n 'https://www.netflix.com',\n 'http://cryptomarket.biz/dashboard',\n 'https://www.spotify.com',\n 'https://www.paypal.com',\n 'http://updateaccount.co/confirm',\n 'http://blockchaindrive.biz/update',\n 'http://saleupdate.co/login',\n 'http://blockchaincloud.co/password',\n 'http://helpcloud.edu/confirm',\n 'https://www.cnn.com',\n 'http://microsofttwitter.edu/secure',\n 'http://communitylinkedin.io/profile',\n 'http://customerlogin.edu/login',\n 'http://confirmdebit.edu/secure',\n 'http://creditaccount.biz/account',\n 'https://www.spotify.com',\n 'http://sellinvest.gov/secure',\n 'http://markettwitter.info/verify',\n 'https://www.google.com',\n 'http://linkedinservice.io/password',\n 'http://creditmicrosoft.gov/reset',\n 'https://www.google.com',\n 'https://www.cnn.com',\n 'http://discountsync.edu/account',\n 'http://accountmarket.co/profile',\n 'http://customerverify.net/secure',\n 'http://supportnetflix.edu/verify',\n 'http://accountinvest.me/confirm',\n 'http://backupsecure.com/profile',\n 'https://www.airbnb.com',\n 'https://www.ebay.com',\n 'https://www.wikipedia.org',\n 'https://www.dropbox.com',\n 'https://www.cnn.com',\n 'https://www.github.com',\n 'https://www.adobe.com',\n 'http://communitysync.net/login',\n 'http://infoinfo.org/verify',\n 'https://www.wikipedia.org',\n 'https://www.zoom.us',\n 'https://www.amazon.com',\n 'https://www.adobe.com',\n 'https://www.wikipedia.org',\n 'https://www.bbc.com',\n 'http://storageinfo.info/account',\n 'https://www.zoom.us',\n 'http://paypalpaypal.co/account',\n 'https://www.spotify.com',\n 'http://twittergoogle.com/login',\n 'https://www.youtube.com',\n 'https://www.spotify.com',\n 'http://supportshop.biz/secure',\n 'http://accountfacebook.info/verify',\n 'https://www.reddit.com',\n 'http://googlespotify.org/password',\n 'http://storagesecure.biz/confirm',\n 'http://creditmail.gov/profile',\n 'https://www.cnn.com',\n 'https://www.facebook.com',\n 'http://updatesell.info/password',\n 'https://www.microsoft.com',\n 'https://www.etsy.com',\n 'https://www.theguardian.com',\n 'http://amazonexchange.io/profile',\n 'https://www.wellsfargo.com',\n 'http://walletcrypto.edu/account',\n 'http://marketsell.biz/secure',\n 'http://memberfacebook.io/update',\n 'https://www.instagram.com',\n 'http://investshop.co/reset',\n 'http://verifygoogle.com/verify',\n 'http://updateaccount.net/profile',\n 'https://www.instagram.com',\n 'https://www.nytimes.com',\n 'http://paypaloffer.info/reset',\n 'http://financeblockchain.biz/login',\n 'https://www.wikipedia.org',\n 'http://shopamazon.edu/login',\n 'https://www.paypal.com',\n 'http://infomicrosoft.info/secure',\n 'https://www.wikipedia.org',\n 'https://www.paypal.com',\n 'https://www.etsy.com',\n 'http://creditsync.info/verify',\n 'http://servicehelp.co/login',\n 'http://marketaccount.co/confirm',\n 'https://www.airbnb.com',\n 'http://creditwallet.biz/login',\n 'http://appleinstagram.gov/login',\n 'http://spotifyblog.co/account',\n 'https://www.nytimes.com',\n 'http://buymail.info/reset',\n 'http://appleinvest.co/secure',\n 'http://debitupdate.info/account',\n 'http://googlebank.com/verify',\n 'https://www.google.com',\n 'http://paypalbackup.com/secure',\n 'http://walletinstagram.io/profile',\n 'http://netflixlinkedin.io/dashboard',\n 'http://salediscount.edu/dashboard',\n 'http://appleforum.io/profile',\n 'http://selluser.me/login',\n 'http://helpdata.biz/password',\n 'http://updatebuy.io/secure',\n 'http://userdata.biz/reset',\n 'http://updatestore.edu/account',\n 'https://www.youtube.com',\n 'https://www.spotify.com',\n 'http://maillinkedin.co/login',\n 'https://www.wellsfargo.com',\n 'http://financeamazon.org/verify',\n 'http://driveverify.co/update',\n 'https://www.nytimes.com',\n 'https://www.github.com',\n 'https://www.zoom.us',\n 'https://www.wellsfargo.com',\n 'http://offerlinkedin.co/reset',\n 'http://spotifycredit.io/confirm',\n 'http://buyblog.com/secure',\n 'http://netflixcloud.edu/profile',\n 'http://supportwallet.com/profile',\n 'http://blockchainapple.info/dashboard',\n 'http://backupsync.info/account',\n 'https://www.spotify.com',\n 'http://sellstorage.net/account',\n 'http://datacrypto.biz/confirm',\n 'http://amazoninfo.me/secure',\n 'https://www.apple.com',\n 'http://securetwitter.co/reset',\n 'http://verifyinstagram.biz/confirm',\n 'https://www.washingtonpost.com',\n 'http://dealapple.edu/account',\n 'http://shoppaypal.net/profile',\n 'http://updatebank.edu/account',\n 'http://servicelinkedin.org/password',\n 'http://netflixinfo.org/login',\n 'http://communityconfirm.info/secure',\n 'http://googleservice.edu/dashboard',\n 'https://www.wellsfargo.com',\n 'http://driveinfo.biz/account',\n 'http://loginstorage.io/profile',\n 'https://www.adobe.com',\n 'https://www.netflix.com',\n 'http://marketverify.com/password',\n 'https://www.theguardian.com',\n 'http://shoplinkedin.biz/confirm',\n 'https://www.spotify.com',\n 'http://paypalmarket.io/login',\n 'http://paypalconfirm.gov/secure',\n 'http://confirmdrive.info/update',\n 'https://www.amazon.com',\n 'http://googlenetflix.biz/confirm',\n 'http://securesync.biz/update',\n 'https://www.dropbox.com',\n 'https://www.zoom.us',\n 'http://cryptooffer.org/login',\n 'http://microsoftverify.com/reset',\n 'https://www.airbnb.com',\n 'http://facebooksell.biz/profile',\n 'http://membermember.gov/secure',\n 'https://www.instagram.com',\n 'https://www.dropbox.com',\n 'https://www.linkedin.com',\n 'https://www.microsoft.com',\n 'http://accountsale.net/password',\n 'https://www.paypal.com',\n 'http://dealcredit.gov/login',\n 'http://blogblog.gov/secure',\n 'https://www.netflix.com',\n 'https://www.amazon.com',\n 'http://instagramlinkedin.org/login',\n 'https://www.nytimes.com',\n 'https://www.instagram.com',\n 'http://creditbackup.co/account',\n 'https://www.adobe.com',\n 'http://exchangeservice.edu/update',\n 'http://storehelp.net/verify',\n 'http://linkedinapple.org/dashboard',\n 'https://www.spotify.com',\n 'https://www.linkedin.com',\n 'http://dealfinance.info/profile',\n 'http://creditshop.net/reset',\n 'https://www.facebook.com',\n 'https://www.etsy.com',\n 'https://www.bbc.com',\n 'https://www.theguardian.com',\n 'https://www.adobe.com',\n 'https://www.ebay.com',\n 'https://www.airbnb.com',\n 'http://shopconfirm.net/secure',\n 'http://twitterblockchain.biz/login',\n 'http://customercrypto.org/password',\n 'https://www.chase.com',\n 'https://www.microsoft.com',\n 'http://secureblog.co/login',\n 'https://www.github.com',\n 'http://datawallet.me/account',\n 'http://servicestorage.com/dashboard',\n 'http://loginsecure.me/password',\n 'http://confirmmail.net/dashboard',\n 'https://www.theguardian.com',\n 'http://marketinstagram.org/login',\n 'http://storagedata.co/password',\n 'http://walletdiscount.info/password',\n 'http://servicedebit.gov/account',\n 'https://www.slack.com',\n 'http://blogblog.co/reset',\n 'https://www.adobe.com',\n 'http://sellapple.org/account',\n 'https://www.instagram.com',\n 'http://netflixinstagram.edu/account',\n 'http://blockchaindeal.org/secure',\n 'https://www.dropbox.com',\n 'https://www.stackoverflow.com',\n 'http://walletcredit.com/profile',\n 'http://sellservice.biz/confirm',\n 'http://datablog.edu/reset',\n 'https://www.etsy.com',\n 'https://www.apple.com',\n 'https://www.paypal.com',\n 'http://cloudcrypto.me/dashboard',\n 'http://communitydata.edu/confirm',\n 'https://www.twitter.com',\n 'http://userbank.io/reset',\n 'http://cryptomember.org/reset',\n 'http://financesupport.co/password',\n 'http://syncsync.org/reset',\n 'https://www.wellsfargo.com',\n 'http://linkedinupdate.co/confirm',\n 'https://www.washingtonpost.com',\n 'https://www.spotify.com',\n 'https://www.adobe.com',\n 'http://financesale.org/verify',\n 'http://dealdebit.net/password',\n 'http://mailsecure.gov/reset',\n 'http://financeinstagram.io/password',\n 'http://storelinkedin.co/reset',\n 'http://serviceblockchain.co/update',\n 'https://www.wikipedia.org',\n 'https://www.github.com',\n 'https://www.zoom.us',\n 'http://cloudcommunity.info/profile',\n 'http://linkedinlogin.me/dashboard',\n 'https://www.twitter.com',\n 'https://www.washingtonpost.com',\n 'http://serviceoffer.gov/profile',\n 'https://www.theguardian.com',\n 'https://www.slack.com',\n 'http://confirminstagram.info/reset',\n 'http://debitfinance.org/account',\n 'https://www.cnn.com',\n 'https://www.microsoft.com',\n 'http://accountdebit.biz/confirm',\n 'https://www.theguardian.com',\n 'http://confirminfo.biz/password',\n 'https://www.dropbox.com',\n 'https://www.washingtonpost.com',\n 'https://www.github.com',\n 'https://www.ebay.com',\n 'http://helpstore.co/update',\n 'http://financeupdate.biz/dashboard',\n 'https://www.bbc.com',\n 'https://www.microsoft.com',\n 'http://driveshop.info/secure',\n 'https://www.reddit.com',\n 'http://blockchainmicrosoft.net/secure',\n 'https://www.bbc.com',\n 'https://www.github.com',\n 'https://www.instagram.com',\n 'https://www.zoom.us',\n 'https://www.wikipedia.org',\n 'http://financegoogle.gov/reset',\n 'https://www.airbnb.com',\n 'http://updatemarket.info/update',\n 'https://www.spotify.com',\n 'http://walletmail.com/account',\n 'https://www.instagram.com',\n 'http://investfinance.me/password',\n 'https://www.ebay.com',\n 'https://www.microsoft.com',\n 'http://confirmnetflix.io/login',\n 'https://www.slack.com',\n 'http://updatedrive.info/update',\n 'http://mailupdate.co/dashboard',\n 'https://www.nytimes.com',\n 'http://offertwitter.co/password',\n 'http://updatestorage.net/account',\n 'https://www.apple.com',\n 'http://updatefinance.me/confirm',\n 'https://www.netflix.com',\n 'http://googlestorage.com/password',\n 'https://www.zoom.us',\n 'http://storageconfirm.biz/verify',\n 'https://www.twitter.com',\n 'http://infocommunity.com/dashboard',\n 'http://dealsync.com/confirm',\n 'https://www.etsy.com',\n 'http://walletsale.info/update',\n 'https://www.facebook.com',\n 'http://forumpaypal.info/account',\n 'https://www.dropbox.com',\n 'https://www.ebay.com',\n 'http://googlestorage.edu/update',\n 'https://www.apple.com',\n 'https://www.microsoft.com',\n 'https://www.twitter.com',\n 'https://www.cnn.com',\n 'https://www.chase.com',\n 'https://www.amazon.com',\n 'https://www.wellsfargo.com',\n 'http://infohelp.net/secure',\n ...]"
     },
     "execution_count": 11,
     "metadata": {},
     "output_type": "execute_result"
    }
   ],
   "source": [
    "dataset['test'][\"text\"]"
   ],
   "metadata": {
    "collapsed": false,
    "pycharm": {
     "name": "#%%\n"
    }
   }
  },
  {
   "cell_type": "code",
   "execution_count": 12,
   "outputs": [],
   "source": [
    "tokenizer = AutoTokenizer.from_pretrained(modelName)"
   ],
   "metadata": {
    "collapsed": false,
    "pycharm": {
     "name": "#%%\n"
    }
   }
  },
  {
   "cell_type": "code",
   "execution_count": 13,
   "outputs": [
    {
     "name": "stderr",
     "output_type": "stream",
     "text": [
      "06:02:49 INFO:embeddings.word_embeddings.weight\n",
      "06:02:49 INFO:embeddings.position_embeddings.weight\n",
      "06:02:49 INFO:embeddings.token_type_embeddings.weight\n",
      "06:02:49 INFO:embeddings.LayerNorm.weight\n",
      "06:02:49 INFO:embeddings.LayerNorm.bias\n",
      "06:02:49 INFO:encoder.layer.0.attention.self.query.weight\n",
      "06:02:49 INFO:encoder.layer.0.attention.self.query.bias\n",
      "06:02:49 INFO:encoder.layer.0.attention.self.key.weight\n",
      "06:02:49 INFO:encoder.layer.0.attention.self.key.bias\n",
      "06:02:49 INFO:encoder.layer.0.attention.self.value.weight\n",
      "06:02:49 INFO:encoder.layer.0.attention.self.value.bias\n",
      "06:02:49 INFO:encoder.layer.0.attention.output.dense.weight\n",
      "06:02:49 INFO:encoder.layer.0.attention.output.dense.bias\n",
      "06:02:49 INFO:encoder.layer.0.attention.output.LayerNorm.weight\n",
      "06:02:49 INFO:encoder.layer.0.attention.output.LayerNorm.bias\n",
      "06:02:49 INFO:encoder.layer.0.intermediate.dense.weight\n",
      "06:02:49 INFO:encoder.layer.0.intermediate.dense.bias\n",
      "06:02:49 INFO:encoder.layer.0.output.dense.weight\n",
      "06:02:49 INFO:encoder.layer.0.output.dense.bias\n",
      "06:02:49 INFO:encoder.layer.0.output.LayerNorm.weight\n",
      "06:02:49 INFO:encoder.layer.0.output.LayerNorm.bias\n",
      "06:02:49 INFO:encoder.layer.1.attention.self.query.weight\n",
      "06:02:49 INFO:encoder.layer.1.attention.self.query.bias\n",
      "06:02:49 INFO:encoder.layer.1.attention.self.key.weight\n",
      "06:02:49 INFO:encoder.layer.1.attention.self.key.bias\n",
      "06:02:49 INFO:encoder.layer.1.attention.self.value.weight\n",
      "06:02:49 INFO:encoder.layer.1.attention.self.value.bias\n",
      "06:02:49 INFO:encoder.layer.1.attention.output.dense.weight\n",
      "06:02:49 INFO:encoder.layer.1.attention.output.dense.bias\n",
      "06:02:49 INFO:encoder.layer.1.attention.output.LayerNorm.weight\n",
      "06:02:49 INFO:encoder.layer.1.attention.output.LayerNorm.bias\n",
      "06:02:49 INFO:encoder.layer.1.intermediate.dense.weight\n",
      "06:02:49 INFO:encoder.layer.1.intermediate.dense.bias\n",
      "06:02:49 INFO:encoder.layer.1.output.dense.weight\n",
      "06:02:49 INFO:encoder.layer.1.output.dense.bias\n",
      "06:02:49 INFO:encoder.layer.1.output.LayerNorm.weight\n",
      "06:02:49 INFO:encoder.layer.1.output.LayerNorm.bias\n",
      "06:02:49 INFO:encoder.layer.2.attention.self.query.weight\n",
      "06:02:49 INFO:encoder.layer.2.attention.self.query.bias\n",
      "06:02:49 INFO:encoder.layer.2.attention.self.key.weight\n",
      "06:02:49 INFO:encoder.layer.2.attention.self.key.bias\n",
      "06:02:49 INFO:encoder.layer.2.attention.self.value.weight\n",
      "06:02:49 INFO:encoder.layer.2.attention.self.value.bias\n",
      "06:02:49 INFO:encoder.layer.2.attention.output.dense.weight\n",
      "06:02:49 INFO:encoder.layer.2.attention.output.dense.bias\n",
      "06:02:49 INFO:encoder.layer.2.attention.output.LayerNorm.weight\n",
      "06:02:49 INFO:encoder.layer.2.attention.output.LayerNorm.bias\n",
      "06:02:49 INFO:encoder.layer.2.intermediate.dense.weight\n",
      "06:02:49 INFO:encoder.layer.2.intermediate.dense.bias\n",
      "06:02:49 INFO:encoder.layer.2.output.dense.weight\n",
      "06:02:49 INFO:encoder.layer.2.output.dense.bias\n",
      "06:02:49 INFO:encoder.layer.2.output.LayerNorm.weight\n",
      "06:02:49 INFO:encoder.layer.2.output.LayerNorm.bias\n",
      "06:02:49 INFO:encoder.layer.3.attention.self.query.weight\n",
      "06:02:49 INFO:encoder.layer.3.attention.self.query.bias\n",
      "06:02:49 INFO:encoder.layer.3.attention.self.key.weight\n",
      "06:02:49 INFO:encoder.layer.3.attention.self.key.bias\n",
      "06:02:49 INFO:encoder.layer.3.attention.self.value.weight\n",
      "06:02:49 INFO:encoder.layer.3.attention.self.value.bias\n",
      "06:02:49 INFO:encoder.layer.3.attention.output.dense.weight\n",
      "06:02:49 INFO:encoder.layer.3.attention.output.dense.bias\n",
      "06:02:49 INFO:encoder.layer.3.attention.output.LayerNorm.weight\n",
      "06:02:49 INFO:encoder.layer.3.attention.output.LayerNorm.bias\n",
      "06:02:49 INFO:encoder.layer.3.intermediate.dense.weight\n",
      "06:02:49 INFO:encoder.layer.3.intermediate.dense.bias\n",
      "06:02:49 INFO:encoder.layer.3.output.dense.weight\n",
      "06:02:49 INFO:encoder.layer.3.output.dense.bias\n",
      "06:02:49 INFO:encoder.layer.3.output.LayerNorm.weight\n",
      "06:02:49 INFO:encoder.layer.3.output.LayerNorm.bias\n",
      "06:02:49 INFO:encoder.layer.4.attention.self.query.weight\n",
      "06:02:49 INFO:encoder.layer.4.attention.self.query.bias\n",
      "06:02:49 INFO:encoder.layer.4.attention.self.key.weight\n",
      "06:02:49 INFO:encoder.layer.4.attention.self.key.bias\n",
      "06:02:49 INFO:encoder.layer.4.attention.self.value.weight\n",
      "06:02:49 INFO:encoder.layer.4.attention.self.value.bias\n",
      "06:02:49 INFO:encoder.layer.4.attention.output.dense.weight\n",
      "06:02:49 INFO:encoder.layer.4.attention.output.dense.bias\n",
      "06:02:49 INFO:encoder.layer.4.attention.output.LayerNorm.weight\n",
      "06:02:49 INFO:encoder.layer.4.attention.output.LayerNorm.bias\n",
      "06:02:49 INFO:encoder.layer.4.intermediate.dense.weight\n",
      "06:02:49 INFO:encoder.layer.4.intermediate.dense.bias\n",
      "06:02:49 INFO:encoder.layer.4.output.dense.weight\n",
      "06:02:49 INFO:encoder.layer.4.output.dense.bias\n",
      "06:02:49 INFO:encoder.layer.4.output.LayerNorm.weight\n",
      "06:02:49 INFO:encoder.layer.4.output.LayerNorm.bias\n",
      "06:02:49 INFO:encoder.layer.5.attention.self.query.weight\n",
      "06:02:49 INFO:encoder.layer.5.attention.self.query.bias\n",
      "06:02:49 INFO:encoder.layer.5.attention.self.key.weight\n",
      "06:02:49 INFO:encoder.layer.5.attention.self.key.bias\n",
      "06:02:49 INFO:encoder.layer.5.attention.self.value.weight\n",
      "06:02:49 INFO:encoder.layer.5.attention.self.value.bias\n",
      "06:02:49 INFO:encoder.layer.5.attention.output.dense.weight\n",
      "06:02:49 INFO:encoder.layer.5.attention.output.dense.bias\n",
      "06:02:49 INFO:encoder.layer.5.attention.output.LayerNorm.weight\n",
      "06:02:49 INFO:encoder.layer.5.attention.output.LayerNorm.bias\n",
      "06:02:49 INFO:encoder.layer.5.intermediate.dense.weight\n",
      "06:02:49 INFO:encoder.layer.5.intermediate.dense.bias\n",
      "06:02:49 INFO:encoder.layer.5.output.dense.weight\n",
      "06:02:49 INFO:encoder.layer.5.output.dense.bias\n",
      "06:02:49 INFO:encoder.layer.5.output.LayerNorm.weight\n",
      "06:02:49 INFO:encoder.layer.5.output.LayerNorm.bias\n",
      "06:02:49 INFO:encoder.layer.6.attention.self.query.weight\n",
      "06:02:49 INFO:encoder.layer.6.attention.self.query.bias\n",
      "06:02:49 INFO:encoder.layer.6.attention.self.key.weight\n",
      "06:02:49 INFO:encoder.layer.6.attention.self.key.bias\n",
      "06:02:49 INFO:encoder.layer.6.attention.self.value.weight\n",
      "06:02:49 INFO:encoder.layer.6.attention.self.value.bias\n",
      "06:02:49 INFO:encoder.layer.6.attention.output.dense.weight\n",
      "06:02:49 INFO:encoder.layer.6.attention.output.dense.bias\n",
      "06:02:49 INFO:encoder.layer.6.attention.output.LayerNorm.weight\n",
      "06:02:49 INFO:encoder.layer.6.attention.output.LayerNorm.bias\n",
      "06:02:49 INFO:encoder.layer.6.intermediate.dense.weight\n",
      "06:02:49 INFO:encoder.layer.6.intermediate.dense.bias\n",
      "06:02:49 INFO:encoder.layer.6.output.dense.weight\n",
      "06:02:49 INFO:encoder.layer.6.output.dense.bias\n",
      "06:02:49 INFO:encoder.layer.6.output.LayerNorm.weight\n",
      "06:02:49 INFO:encoder.layer.6.output.LayerNorm.bias\n",
      "06:02:49 INFO:encoder.layer.7.attention.self.query.weight\n",
      "06:02:49 INFO:encoder.layer.7.attention.self.query.bias\n",
      "06:02:49 INFO:encoder.layer.7.attention.self.key.weight\n",
      "06:02:49 INFO:encoder.layer.7.attention.self.key.bias\n",
      "06:02:49 INFO:encoder.layer.7.attention.self.value.weight\n",
      "06:02:49 INFO:encoder.layer.7.attention.self.value.bias\n",
      "06:02:49 INFO:encoder.layer.7.attention.output.dense.weight\n",
      "06:02:49 INFO:encoder.layer.7.attention.output.dense.bias\n",
      "06:02:49 INFO:encoder.layer.7.attention.output.LayerNorm.weight\n",
      "06:02:49 INFO:encoder.layer.7.attention.output.LayerNorm.bias\n",
      "06:02:49 INFO:encoder.layer.7.intermediate.dense.weight\n",
      "06:02:49 INFO:encoder.layer.7.intermediate.dense.bias\n",
      "06:02:49 INFO:encoder.layer.7.output.dense.weight\n",
      "06:02:49 INFO:encoder.layer.7.output.dense.bias\n",
      "06:02:49 INFO:encoder.layer.7.output.LayerNorm.weight\n",
      "06:02:49 INFO:encoder.layer.7.output.LayerNorm.bias\n",
      "06:02:49 INFO:encoder.layer.8.attention.self.query.weight\n",
      "06:02:49 INFO:encoder.layer.8.attention.self.query.bias\n",
      "06:02:49 INFO:encoder.layer.8.attention.self.key.weight\n",
      "06:02:49 INFO:encoder.layer.8.attention.self.key.bias\n",
      "06:02:49 INFO:encoder.layer.8.attention.self.value.weight\n",
      "06:02:49 INFO:encoder.layer.8.attention.self.value.bias\n",
      "06:02:49 INFO:encoder.layer.8.attention.output.dense.weight\n",
      "06:02:49 INFO:encoder.layer.8.attention.output.dense.bias\n",
      "06:02:49 INFO:encoder.layer.8.attention.output.LayerNorm.weight\n",
      "06:02:49 INFO:encoder.layer.8.attention.output.LayerNorm.bias\n",
      "06:02:49 INFO:encoder.layer.8.intermediate.dense.weight\n",
      "06:02:49 INFO:encoder.layer.8.intermediate.dense.bias\n",
      "06:02:49 INFO:encoder.layer.8.output.dense.weight\n",
      "06:02:49 INFO:encoder.layer.8.output.dense.bias\n",
      "06:02:49 INFO:encoder.layer.8.output.LayerNorm.weight\n",
      "06:02:49 INFO:encoder.layer.8.output.LayerNorm.bias\n",
      "06:02:49 INFO:encoder.layer.9.attention.self.query.weight\n",
      "06:02:49 INFO:encoder.layer.9.attention.self.query.bias\n",
      "06:02:49 INFO:encoder.layer.9.attention.self.key.weight\n",
      "06:02:49 INFO:encoder.layer.9.attention.self.key.bias\n",
      "06:02:49 INFO:encoder.layer.9.attention.self.value.weight\n",
      "06:02:49 INFO:encoder.layer.9.attention.self.value.bias\n",
      "06:02:49 INFO:encoder.layer.9.attention.output.dense.weight\n",
      "06:02:49 INFO:encoder.layer.9.attention.output.dense.bias\n",
      "06:02:49 INFO:encoder.layer.9.attention.output.LayerNorm.weight\n",
      "06:02:49 INFO:encoder.layer.9.attention.output.LayerNorm.bias\n",
      "06:02:49 INFO:encoder.layer.9.intermediate.dense.weight\n",
      "06:02:49 INFO:encoder.layer.9.intermediate.dense.bias\n",
      "06:02:49 INFO:encoder.layer.9.output.dense.weight\n",
      "06:02:49 INFO:encoder.layer.9.output.dense.bias\n",
      "06:02:49 INFO:encoder.layer.9.output.LayerNorm.weight\n",
      "06:02:49 INFO:encoder.layer.9.output.LayerNorm.bias\n",
      "06:02:49 INFO:encoder.layer.10.attention.self.query.weight\n",
      "06:02:49 INFO:encoder.layer.10.attention.self.query.bias\n",
      "06:02:49 INFO:encoder.layer.10.attention.self.key.weight\n",
      "06:02:49 INFO:encoder.layer.10.attention.self.key.bias\n",
      "06:02:49 INFO:encoder.layer.10.attention.self.value.weight\n",
      "06:02:49 INFO:encoder.layer.10.attention.self.value.bias\n",
      "06:02:49 INFO:encoder.layer.10.attention.output.dense.weight\n",
      "06:02:49 INFO:encoder.layer.10.attention.output.dense.bias\n",
      "06:02:49 INFO:encoder.layer.10.attention.output.LayerNorm.weight\n",
      "06:02:49 INFO:encoder.layer.10.attention.output.LayerNorm.bias\n",
      "06:02:49 INFO:encoder.layer.10.intermediate.dense.weight\n",
      "06:02:49 INFO:encoder.layer.10.intermediate.dense.bias\n",
      "06:02:49 INFO:encoder.layer.10.output.dense.weight\n",
      "06:02:49 INFO:encoder.layer.10.output.dense.bias\n",
      "06:02:49 INFO:encoder.layer.10.output.LayerNorm.weight\n",
      "06:02:49 INFO:encoder.layer.10.output.LayerNorm.bias\n",
      "06:02:49 INFO:encoder.layer.11.attention.self.query.weight\n",
      "06:02:49 INFO:encoder.layer.11.attention.self.query.bias\n",
      "06:02:49 INFO:encoder.layer.11.attention.self.key.weight\n",
      "06:02:49 INFO:encoder.layer.11.attention.self.key.bias\n",
      "06:02:49 INFO:encoder.layer.11.attention.self.value.weight\n",
      "06:02:49 INFO:encoder.layer.11.attention.self.value.bias\n",
      "06:02:49 INFO:encoder.layer.11.attention.output.dense.weight\n",
      "06:02:49 INFO:encoder.layer.11.attention.output.dense.bias\n",
      "06:02:49 INFO:encoder.layer.11.attention.output.LayerNorm.weight\n",
      "06:02:49 INFO:encoder.layer.11.attention.output.LayerNorm.bias\n",
      "06:02:49 INFO:encoder.layer.11.intermediate.dense.weight\n",
      "06:02:49 INFO:encoder.layer.11.intermediate.dense.bias\n",
      "06:02:49 INFO:encoder.layer.11.output.dense.weight\n",
      "06:02:49 INFO:encoder.layer.11.output.dense.bias\n",
      "06:02:49 INFO:encoder.layer.11.output.LayerNorm.weight\n",
      "06:02:49 INFO:encoder.layer.11.output.LayerNorm.bias\n",
      "06:02:49 INFO:pooler.dense.weight\n",
      "06:02:49 INFO:pooler.dense.bias\n"
     ]
    }
   ],
   "source": [
    "# Freeze parameters:\n",
    "for name, param in model.base_model.named_parameters():\n",
    "    logger.info(name)\n",
    "    param.requires_grad = False\n"
   ],
   "metadata": {
    "collapsed": false,
    "pycharm": {
     "name": "#%%\n"
    }
   }
  },
  {
   "cell_type": "code",
   "execution_count": 14,
   "outputs": [
    {
     "name": "stderr",
     "output_type": "stream",
     "text": [
      "06:02:49 INFO:pooler.dense.weight\n",
      "06:02:49 INFO:pooler.dense.bias\n"
     ]
    }
   ],
   "source": [
    "# Unfreeze some parameters:\n",
    "for name, param in model.base_model.named_parameters():\n",
    "    if \"pooler\" in name:\n",
    "        logger.info(name)\n",
    "        param.requires_grad = True"
   ],
   "metadata": {
    "collapsed": false,
    "pycharm": {
     "name": "#%%\n"
    }
   }
  },
  {
   "cell_type": "code",
   "execution_count": 15,
   "outputs": [
    {
     "data": {
      "text/plain": "Parameter containing:\ntensor([[ 0.0066,  0.0061,  0.0325,  ...,  0.0164,  0.0039, -0.0274],\n        [ 0.0250,  0.0081,  0.0074,  ..., -0.0200,  0.0098,  0.0007]],\n       requires_grad=True)"
     },
     "execution_count": 15,
     "metadata": {},
     "output_type": "execute_result"
    }
   ],
   "source": [
    "model.classifier.weight"
   ],
   "metadata": {
    "collapsed": false,
    "pycharm": {
     "name": "#%%\n"
    }
   }
  },
  {
   "cell_type": "code",
   "execution_count": 16,
   "outputs": [
    {
     "data": {
      "text/plain": "Parameter containing:\ntensor([[-0.0013, -0.0381, -0.0158,  ...,  0.0244, -0.0008,  0.0240],\n        [ 0.0020,  0.0151,  0.0033,  ...,  0.0180, -0.0023,  0.0231],\n        [-0.0386,  0.0145,  0.0621,  ...,  0.0374, -0.0105, -0.0395],\n        ...,\n        [-0.0111,  0.0136,  0.0541,  ...,  0.0666,  0.0017, -0.0090],\n        [ 0.0001,  0.0024, -0.0125,  ...,  0.0046, -0.0014, -0.0079],\n        [ 0.0415,  0.0751,  0.0305,  ...,  0.0317,  0.0479,  0.0080]],\n       requires_grad=True)"
     },
     "execution_count": 16,
     "metadata": {},
     "output_type": "execute_result"
    }
   ],
   "source": [
    "model.base_model.pooler.dense.weight"
   ],
   "metadata": {
    "collapsed": false,
    "pycharm": {
     "name": "#%%\n"
    }
   }
  },
  {
   "cell_type": "code",
   "execution_count": 17,
   "outputs": [
    {
     "data": {
      "text/plain": "False"
     },
     "execution_count": 17,
     "metadata": {},
     "output_type": "execute_result"
    }
   ],
   "source": [
    "model.base_model.embeddings.word_embeddings.weight.requires_grad"
   ],
   "metadata": {
    "collapsed": false,
    "pycharm": {
     "name": "#%%\n"
    }
   }
  },
  {
   "cell_type": "code",
   "execution_count": 18,
   "outputs": [
    {
     "data": {
      "text/plain": "Map:   0%|          | 0/80000 [00:00<?, ? examples/s]",
      "application/vnd.jupyter.widget-view+json": {
       "version_major": 2,
       "version_minor": 0,
       "model_id": "f1db2a529bb24e939a164c246582dcbe"
      }
     },
     "metadata": {},
     "output_type": "display_data"
    },
    {
     "data": {
      "text/plain": "Map:   0%|          | 0/20000 [00:00<?, ? examples/s]",
      "application/vnd.jupyter.widget-view+json": {
       "version_major": 2,
       "version_minor": 0,
       "model_id": "18a57c5f81584879b1bab9618bb955d1"
      }
     },
     "metadata": {},
     "output_type": "display_data"
    }
   ],
   "source": [
    "def preprocess_function(examples):\n",
    "    return tokenizer(examples[\"text\"], truncation=True)\n",
    "\n",
    "tokenized_dataset = dataset.map(preprocess_function, batched=True)"
   ],
   "metadata": {
    "collapsed": false,
    "pycharm": {
     "name": "#%%\n"
    }
   }
  },
  {
   "cell_type": "code",
   "execution_count": 19,
   "outputs": [
    {
     "data": {
      "text/plain": "DatasetDict({\n    train: Dataset({\n        features: ['text', 'label', 'input_ids', 'token_type_ids', 'attention_mask'],\n        num_rows: 80000\n    })\n    test: Dataset({\n        features: ['text', 'label', 'input_ids', 'token_type_ids', 'attention_mask'],\n        num_rows: 20000\n    })\n})"
     },
     "execution_count": 19,
     "metadata": {},
     "output_type": "execute_result"
    }
   ],
   "source": [
    "tokenized_dataset"
   ],
   "metadata": {
    "collapsed": false,
    "pycharm": {
     "name": "#%%\n"
    }
   }
  },
  {
   "cell_type": "code",
   "execution_count": 20,
   "outputs": [],
   "source": [
    "data_collator = DataCollatorWithPadding(tokenizer=tokenizer)"
   ],
   "metadata": {
    "collapsed": false,
    "pycharm": {
     "name": "#%%\n"
    }
   }
  },
  {
   "cell_type": "code",
   "execution_count": 21,
   "outputs": [],
   "source": [
    "accuracy = evaluate.load(\"accuracy\")\n",
    "auc_score = evaluate.load(\"roc_auc\")\n",
    "\n",
    "def compute_metrics(eval_pred):\n",
    "    predictions, labels = eval_pred\n",
    "\n",
    "    probabilities = np.exp(predictions) / np.exp(predictions).sum(-1, keepdims=True)\n",
    "    positive_class_probs = probabilities[:, 1]\n",
    "#     logging.info(positive_class_probs)\n",
    "    auc = np.round(auc_score.compute(prediction_scores=positive_class_probs,\n",
    "                                    references=labels)['roc_auc'], 3)\n",
    "\n",
    "    predicted_classes = np.argmax(predictions, axis=1)\n",
    "#     logging.info(predicted_classes)\n",
    "\n",
    "    acc = np.round(accuracy.compute(predictions=predicted_classes,\n",
    "                                    references=labels)['accuracy'], 3)\n",
    "\n",
    "    return {\"Accuracy\": acc, \"AUC\": auc}"
   ],
   "metadata": {
    "collapsed": false,
    "pycharm": {
     "name": "#%%\n"
    }
   }
  },
  {
   "cell_type": "code",
   "execution_count": 22,
   "outputs": [],
   "source": [
    "lr=2e-4\n",
    "batch_size=16\n",
    "num_epochs=3\n",
    "\n",
    "training_args=TrainingArguments(\n",
    "    output_dir=modelName + \"-RETRAIN\",\n",
    "    learning_rate=lr,\n",
    "    per_device_train_batch_size=batch_size,\n",
    "    per_device_eval_batch_size=batch_size,\n",
    "    num_train_epochs=num_epochs,\n",
    "    logging_strategy=\"epoch\",\n",
    "    eval_strategy=\"epoch\",\n",
    "    save_strategy=\"epoch\",\n",
    "    load_best_model_at_end=True,\n",
    "\n",
    "    gradient_accumulation_steps=4,\n",
    "    warmup_steps=2\n",
    ")"
   ],
   "metadata": {
    "collapsed": false,
    "pycharm": {
     "name": "#%%\n"
    }
   }
  },
  {
   "cell_type": "code",
   "execution_count": 23,
   "outputs": [
    {
     "data": {
      "text/plain": "<IPython.core.display.HTML object>",
      "text/html": "Tracking run with wandb version 0.16.3"
     },
     "metadata": {},
     "output_type": "display_data"
    },
    {
     "data": {
      "text/plain": "<IPython.core.display.HTML object>",
      "text/html": "W&B syncing is set to <code>`offline`<code> in this directory.  <br/>Run <code>`wandb online`<code> or set <code>WANDB_MODE=online<code> to enable cloud syncing."
     },
     "metadata": {},
     "output_type": "display_data"
    },
    {
     "data": {
      "text/html": "<button onClick=\"this.nextSibling.style.display='block';this.style.display='none';\">Display W&B run</button><iframe src='?jupyter=true' style='border:none;width:100%;height:420px;display:none;'></iframe>",
      "text/plain": "<wandb.sdk.wandb_run.Run at 0x1ea66960690>"
     },
     "execution_count": 23,
     "metadata": {},
     "output_type": "execute_result"
    }
   ],
   "source": [
    "import os\n",
    "import wandb\n",
    "\n",
    "\n",
    "os.environ[\"WANDB_MODE\"] = \"offline\"\n",
    "wandb.init(\n",
    "    project=\"my-awesome-project\")"
   ],
   "metadata": {
    "collapsed": false,
    "pycharm": {
     "name": "#%%\n"
    }
   }
  },
  {
   "cell_type": "code",
   "execution_count": 24,
   "outputs": [],
   "source": [
    "trainer=Trainer(\n",
    "    model=model,\n",
    "    args=training_args,\n",
    "    train_dataset=tokenized_dataset[\"train\"],\n",
    "    eval_dataset=tokenized_dataset[\"test\"],\n",
    "    processing_class=tokenizer,\n",
    "    data_collator=data_collator,\n",
    "    compute_metrics=compute_metrics\n",
    ")"
   ],
   "metadata": {
    "collapsed": false,
    "pycharm": {
     "name": "#%%\n"
    }
   }
  },
  {
   "cell_type": "code",
   "execution_count": 25,
   "outputs": [],
   "source": [
    "# trainer.train()"
   ],
   "metadata": {
    "collapsed": false,
    "pycharm": {
     "name": "#%%\n"
    }
   }
  },
  {
   "cell_type": "code",
   "execution_count": 26,
   "outputs": [
    {
     "data": {
      "text/plain": "BertForSequenceClassification(\n  (bert): BertModel(\n    (embeddings): BertEmbeddings(\n      (word_embeddings): Embedding(30522, 768, padding_idx=0)\n      (position_embeddings): Embedding(512, 768)\n      (token_type_embeddings): Embedding(2, 768)\n      (LayerNorm): LayerNorm((768,), eps=1e-12, elementwise_affine=True)\n      (dropout): Dropout(p=0.1, inplace=False)\n    )\n    (encoder): BertEncoder(\n      (layer): ModuleList(\n        (0-11): 12 x BertLayer(\n          (attention): BertAttention(\n            (self): BertSdpaSelfAttention(\n              (query): Linear(in_features=768, out_features=768, bias=True)\n              (key): Linear(in_features=768, out_features=768, bias=True)\n              (value): Linear(in_features=768, out_features=768, bias=True)\n              (dropout): Dropout(p=0.1, inplace=False)\n            )\n            (output): BertSelfOutput(\n              (dense): Linear(in_features=768, out_features=768, bias=True)\n              (LayerNorm): LayerNorm((768,), eps=1e-12, elementwise_affine=True)\n              (dropout): Dropout(p=0.1, inplace=False)\n            )\n          )\n          (intermediate): BertIntermediate(\n            (dense): Linear(in_features=768, out_features=3072, bias=True)\n            (intermediate_act_fn): GELUActivation()\n          )\n          (output): BertOutput(\n            (dense): Linear(in_features=3072, out_features=768, bias=True)\n            (LayerNorm): LayerNorm((768,), eps=1e-12, elementwise_affine=True)\n            (dropout): Dropout(p=0.1, inplace=False)\n          )\n        )\n      )\n    )\n    (pooler): BertPooler(\n      (dense): Linear(in_features=768, out_features=768, bias=True)\n      (activation): Tanh()\n    )\n  )\n  (dropout): Dropout(p=0.1, inplace=False)\n  (classifier): Linear(in_features=768, out_features=2, bias=True)\n)"
     },
     "execution_count": 26,
     "metadata": {},
     "output_type": "execute_result"
    }
   ],
   "source": [
    "modelFT = AutoModelForSequenceClassification.from_pretrained(\n",
    "    \"./google-bert/bert-base-uncased-RETRAIN/checkpoint-6250\", num_labels=2, id2label=id2label, label2id=label2id\n",
    ")\n",
    "modelFT.eval()"
   ],
   "metadata": {
    "collapsed": false,
    "pycharm": {
     "name": "#%%\n"
    }
   }
  },
  {
   "cell_type": "code",
   "execution_count": 27,
   "outputs": [
    {
     "data": {
      "text/plain": "Parameter containing:\ntensor([[ 0.0446, -0.0400, -0.0211,  ...,  0.0245,  0.0138,  0.0311],\n        [-0.0476,  0.0127, -0.0014,  ...,  0.0076, -0.0114,  0.0263],\n        [ 0.0020,  0.0155,  0.0565,  ...,  0.0299,  0.0097, -0.0286],\n        ...,\n        [ 0.0229,  0.0195,  0.0531,  ...,  0.0672,  0.0130, -0.0083],\n        [ 0.0489,  0.0083, -0.0118,  ...,  0.0055,  0.0099, -0.0017],\n        [-0.0051,  0.0713,  0.0322,  ...,  0.0321,  0.0365,  0.0028]],\n       requires_grad=True)"
     },
     "execution_count": 27,
     "metadata": {},
     "output_type": "execute_result"
    }
   ],
   "source": [
    "modelFT.base_model.pooler.dense.weight"
   ],
   "metadata": {
    "collapsed": false,
    "pycharm": {
     "name": "#%%\n"
    }
   }
  },
  {
   "cell_type": "code",
   "execution_count": 28,
   "outputs": [
    {
     "data": {
      "text/plain": "Parameter containing:\ntensor([[ 0.0112, -0.0614,  0.0133,  ...,  0.0240,  0.0577, -0.0578],\n        [-0.0369,  0.0230, -0.0444,  ..., -0.0502, -0.0186,  0.0218]],\n       requires_grad=True)"
     },
     "execution_count": 28,
     "metadata": {},
     "output_type": "execute_result"
    }
   ],
   "source": [
    "modelFT.classifier.weight"
   ],
   "metadata": {
    "collapsed": false,
    "pycharm": {
     "name": "#%%\n"
    }
   }
  },
  {
   "cell_type": "code",
   "execution_count": 29,
   "outputs": [],
   "source": [
    "tokenizerFT = AutoTokenizer.from_pretrained(\"./google-bert/bert-base-uncased-RETRAIN/checkpoint-6250\", use_fast=True)"
   ],
   "metadata": {
    "collapsed": false,
    "pycharm": {
     "name": "#%%\n"
    }
   }
  },
  {
   "cell_type": "code",
   "execution_count": 40,
   "outputs": [
    {
     "name": "stderr",
     "output_type": "stream",
     "text": [
      "06:15:38 INFO:tensor([[0.8346, 0.1654]], grad_fn=<SoftmaxBackward0>)\n"
     ]
    }
   ],
   "source": [
    "prompt = \"http\\\\www.ya.ru\"\n",
    "inputs = tokenizerFT(prompt, return_tensors=\"pt\")\n",
    "outputs = modelFT(inputs[\"input_ids\"])\n",
    "out = nn.Softmax(dim=1)(outputs[\"logits\"])\n",
    "logger.info(out)"
   ],
   "metadata": {
    "collapsed": false,
    "pycharm": {
     "name": "#%%\n"
    }
   }
  },
  {
   "cell_type": "code",
   "execution_count": 41,
   "outputs": [
    {
     "name": "stderr",
     "output_type": "stream",
     "text": [
      "07:33:17 INFO:Prob: 0, Label: 0\n",
      "07:33:18 INFO:Prob: 0, Label: 0\n",
      "07:33:18 INFO:Prob: 0, Label: 0\n",
      "07:33:18 INFO:Prob: 0, Label: 0\n",
      "07:33:18 INFO:Prob: 0, Label: 0\n",
      "07:33:18 INFO:Prob: 0, Label: 0\n",
      "07:33:18 INFO:Prob: 0, Label: 0\n",
      "07:33:18 INFO:Prob: 0, Label: 0\n",
      "07:33:18 INFO:Prob: 0, Label: 0\n",
      "07:33:18 INFO:Prob: 0, Label: 0\n",
      "07:33:19 INFO:Prob: 0, Label: 0\n",
      "07:33:19 INFO:Prob: 0, Label: 0\n",
      "07:33:19 INFO:Prob: 0, Label: 0\n",
      "07:33:19 INFO:Prob: 0, Label: 0\n",
      "07:33:19 INFO:Prob: 1, Label: 1\n",
      "07:33:19 INFO:Prob: 1, Label: 1\n",
      "07:33:19 INFO:Prob: 1, Label: 1\n",
      "07:33:19 INFO:Prob: 1, Label: 1\n",
      "07:33:19 INFO:Prob: 1, Label: 1\n",
      "07:33:19 INFO:Prob: 0, Label: 0\n",
      "07:33:19 INFO:Prob: 0, Label: 0\n",
      "07:33:20 INFO:Prob: 0, Label: 0\n",
      "07:33:20 INFO:Prob: 0, Label: 0\n",
      "07:33:20 INFO:Prob: 0, Label: 0\n",
      "07:33:20 INFO:Prob: 1, Label: 1\n",
      "07:33:20 INFO:Prob: 0, Label: 0\n",
      "07:33:20 INFO:Prob: 0, Label: 0\n",
      "07:33:20 INFO:Prob: 1, Label: 1\n",
      "07:33:20 INFO:Prob: 0, Label: 0\n",
      "07:33:20 INFO:Prob: 1, Label: 1\n"
     ]
    }
   ],
   "source": [
    "for i, prompt in enumerate(dataset['test'][\"text\"][:30]):\n",
    "    inputs = tokenizerFT(prompt, return_tensors=\"pt\")\n",
    "    outputs = modelFT(inputs[\"input_ids\"])\n",
    "    out = nn.Softmax(dim=1)(outputs[\"logits\"])\n",
    "    outMax = torch.argmax(out)\n",
    "    label = dataset['test'][\"label\"][i]\n",
    "    logger.info(f\"Prob: {outMax}, Label: {label}\")"
   ],
   "metadata": {
    "collapsed": false,
    "pycharm": {
     "name": "#%%\n"
    }
   }
  },
  {
   "cell_type": "code",
   "execution_count": 36,
   "outputs": [
    {
     "data": {
      "text/plain": "BertForSequenceClassification(\n  (bert): BertModel(\n    (embeddings): BertEmbeddings(\n      (word_embeddings): Embedding(30522, 768, padding_idx=0)\n      (position_embeddings): Embedding(512, 768)\n      (token_type_embeddings): Embedding(2, 768)\n      (LayerNorm): LayerNorm((768,), eps=1e-12, elementwise_affine=True)\n      (dropout): Dropout(p=0.1, inplace=False)\n    )\n    (encoder): BertEncoder(\n      (layer): ModuleList(\n        (0-11): 12 x BertLayer(\n          (attention): BertAttention(\n            (self): BertSdpaSelfAttention(\n              (query): Linear(in_features=768, out_features=768, bias=True)\n              (key): Linear(in_features=768, out_features=768, bias=True)\n              (value): Linear(in_features=768, out_features=768, bias=True)\n              (dropout): Dropout(p=0.1, inplace=False)\n            )\n            (output): BertSelfOutput(\n              (dense): Linear(in_features=768, out_features=768, bias=True)\n              (LayerNorm): LayerNorm((768,), eps=1e-12, elementwise_affine=True)\n              (dropout): Dropout(p=0.1, inplace=False)\n            )\n          )\n          (intermediate): BertIntermediate(\n            (dense): Linear(in_features=768, out_features=3072, bias=True)\n            (intermediate_act_fn): GELUActivation()\n          )\n          (output): BertOutput(\n            (dense): Linear(in_features=3072, out_features=768, bias=True)\n            (LayerNorm): LayerNorm((768,), eps=1e-12, elementwise_affine=True)\n            (dropout): Dropout(p=0.1, inplace=False)\n          )\n        )\n      )\n    )\n    (pooler): BertPooler(\n      (dense): Linear(in_features=768, out_features=768, bias=True)\n      (activation): Tanh()\n    )\n  )\n  (dropout): Dropout(p=0.1, inplace=False)\n  (classifier): Linear(in_features=768, out_features=2, bias=True)\n)"
     },
     "execution_count": 36,
     "metadata": {},
     "output_type": "execute_result"
    }
   ],
   "source": [
    "model.to(\"cpu\")"
   ],
   "metadata": {
    "collapsed": false,
    "pycharm": {
     "name": "#%%\n"
    }
   }
  },
  {
   "cell_type": "code",
   "execution_count": 37,
   "outputs": [
    {
     "name": "stderr",
     "output_type": "stream",
     "text": [
      "06:04:42 INFO:tensor([[0.4265, 0.5735]], grad_fn=<SoftmaxBackward0>)\n",
      "06:04:42 INFO:tensor([[0.4418, 0.5582]], grad_fn=<SoftmaxBackward0>)\n",
      "06:04:42 INFO:tensor([[0.4484, 0.5516]], grad_fn=<SoftmaxBackward0>)\n",
      "06:04:42 INFO:tensor([[0.4257, 0.5743]], grad_fn=<SoftmaxBackward0>)\n",
      "06:04:42 INFO:tensor([[0.4362, 0.5638]], grad_fn=<SoftmaxBackward0>)\n",
      "06:04:42 INFO:tensor([[0.4343, 0.5657]], grad_fn=<SoftmaxBackward0>)\n",
      "06:04:42 INFO:tensor([[0.4485, 0.5515]], grad_fn=<SoftmaxBackward0>)\n",
      "06:04:42 INFO:tensor([[0.4423, 0.5577]], grad_fn=<SoftmaxBackward0>)\n",
      "06:04:42 INFO:tensor([[0.4343, 0.5657]], grad_fn=<SoftmaxBackward0>)\n",
      "06:04:42 INFO:tensor([[0.4362, 0.5638]], grad_fn=<SoftmaxBackward0>)\n",
      "06:04:42 INFO:tensor([[0.4371, 0.5629]], grad_fn=<SoftmaxBackward0>)\n",
      "06:04:42 INFO:tensor([[0.4257, 0.5743]], grad_fn=<SoftmaxBackward0>)\n",
      "06:04:42 INFO:tensor([[0.4217, 0.5783]], grad_fn=<SoftmaxBackward0>)\n",
      "06:04:42 INFO:tensor([[0.4310, 0.5690]], grad_fn=<SoftmaxBackward0>)\n",
      "06:04:42 INFO:tensor([[0.4312, 0.5688]], grad_fn=<SoftmaxBackward0>)\n",
      "06:04:42 INFO:tensor([[0.4573, 0.5427]], grad_fn=<SoftmaxBackward0>)\n",
      "06:04:42 INFO:tensor([[0.4298, 0.5702]], grad_fn=<SoftmaxBackward0>)\n",
      "06:04:43 INFO:tensor([[0.4223, 0.5777]], grad_fn=<SoftmaxBackward0>)\n",
      "06:04:43 INFO:tensor([[0.4387, 0.5613]], grad_fn=<SoftmaxBackward0>)\n",
      "06:04:43 INFO:tensor([[0.4430, 0.5570]], grad_fn=<SoftmaxBackward0>)\n",
      "06:04:43 INFO:tensor([[0.4310, 0.5690]], grad_fn=<SoftmaxBackward0>)\n",
      "06:04:43 INFO:tensor([[0.4430, 0.5570]], grad_fn=<SoftmaxBackward0>)\n",
      "06:04:43 INFO:tensor([[0.4484, 0.5516]], grad_fn=<SoftmaxBackward0>)\n",
      "06:04:43 INFO:tensor([[0.4251, 0.5749]], grad_fn=<SoftmaxBackward0>)\n",
      "06:04:43 INFO:tensor([[0.4399, 0.5601]], grad_fn=<SoftmaxBackward0>)\n",
      "06:04:43 INFO:tensor([[0.4389, 0.5611]], grad_fn=<SoftmaxBackward0>)\n",
      "06:04:43 INFO:tensor([[0.4308, 0.5692]], grad_fn=<SoftmaxBackward0>)\n",
      "06:04:43 INFO:tensor([[0.4295, 0.5705]], grad_fn=<SoftmaxBackward0>)\n",
      "06:04:43 INFO:tensor([[0.4217, 0.5783]], grad_fn=<SoftmaxBackward0>)\n",
      "06:04:43 INFO:tensor([[0.4429, 0.5571]], grad_fn=<SoftmaxBackward0>)\n"
     ]
    }
   ],
   "source": [
    "for prompt in dataset['test'][\"text\"][:30]:\n",
    "    inputs = tokenizer(prompt, return_tensors=\"pt\")\n",
    "    outputs = model(inputs[\"input_ids\"])\n",
    "    out = nn.Softmax(dim=1)(outputs[\"logits\"])\n",
    "    logger.info(out)"
   ],
   "metadata": {
    "collapsed": false,
    "pycharm": {
     "name": "#%%\n"
    }
   }
  },
  {
   "cell_type": "markdown",
   "source": [],
   "metadata": {
    "collapsed": false,
    "pycharm": {
     "name": "#%% md\n"
    }
   }
  },
  {
   "cell_type": "code",
   "execution_count": null,
   "outputs": [],
   "source": [],
   "metadata": {
    "collapsed": false,
    "pycharm": {
     "name": "#%%\n"
    }
   }
  }
 ],
 "metadata": {
  "kernelspec": {
   "display_name": "Python 3",
   "language": "python",
   "name": "python3"
  },
  "language_info": {
   "codemirror_mode": {
    "name": "ipython",
    "version": 2
   },
   "file_extension": ".py",
   "mimetype": "text/x-python",
   "name": "python",
   "nbconvert_exporter": "python",
   "pygments_lexer": "ipython2",
   "version": "2.7.6"
  }
 },
 "nbformat": 4,
 "nbformat_minor": 0
}