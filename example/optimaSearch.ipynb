{
 "cells": [
  {
   "cell_type": "code",
   "execution_count": 1,
   "outputs": [],
   "source": [
    "import copy\n",
    "import torch\n",
    "\n",
    "from datasets import load_dataset, DatasetDict, Dataset\n",
    "from transformers import (\n",
    "    AutoTokenizer,\n",
    "    AutoModelForSequenceClassification\n",
    ")\n",
    "from data import RationalWeight\n",
    "from data import Enumerator\n",
    "\n",
    "%load_ext autoreload\n",
    "%autoreload 2"
   ],
   "metadata": {
    "collapsed": false,
    "pycharm": {
     "name": "#%%\n"
    }
   }
  },
  {
   "cell_type": "code",
   "execution_count": 2,
   "outputs": [
    {
     "name": "stdout",
     "output_type": "stream",
     "text": [
      "WARNING:tensorflow:From C:\\Users\\Alex\\anaconda\\Lib\\site-packages\\keras\\src\\losses.py:2976: The name tf.losses.sparse_softmax_cross_entropy is deprecated. Please use tf.compat.v1.losses.sparse_softmax_cross_entropy instead.\n",
      "\n"
     ]
    }
   ],
   "source": [
    "id2label = {0: \"Negative\", 1: \"Positive\"}\n",
    "label2id = {\"Negative\": 0, \"Positive\": 1}\n",
    "data_files = {'train': 'train.parquet', 'test': 'test.parquet'}\n",
    "dataset = load_dataset('../datasets/imdbstfd', data_files=data_files)\n",
    "dataset = dataset.shuffle(seed=88)\n",
    "model = AutoModelForSequenceClassification.from_pretrained(\n",
    "    \"../models/bert-base-uncased-IMDB-retrain\", num_labels=2, id2label=id2label, label2id=label2id\n",
    ")\n",
    "model.eval()\n",
    "tokenizer = AutoTokenizer.from_pretrained(\"../models/bert-base-uncased-IMDB-retrain\", use_fast=True)"
   ],
   "metadata": {
    "collapsed": false,
    "pycharm": {
     "name": "#%%\n"
    }
   }
  },
  {
   "cell_type": "code",
   "execution_count": 3,
   "outputs": [],
   "source": [
    "rational = RationalWeight(model, tokenizer, dataset)"
   ],
   "metadata": {
    "collapsed": false,
    "pycharm": {
     "name": "#%%\n"
    }
   }
  },
  {
   "cell_type": "code",
   "execution_count": 4,
   "outputs": [],
   "source": [
    "enumerator = Enumerator(rational)"
   ],
   "metadata": {
    "collapsed": false,
    "pycharm": {
     "name": "#%%\n"
    }
   }
  },
  {
   "cell_type": "code",
   "execution_count": 5,
   "outputs": [
    {
     "name": "stdout",
     "output_type": "stream",
     "text": [
      "bert.embeddings.word_embeddings.weight\n",
      "bert.embeddings.position_embeddings.weight\n",
      "bert.embeddings.token_type_embeddings.weight\n",
      "bert.embeddings.LayerNorm.weight\n",
      "bert.embeddings.LayerNorm.bias\n",
      "bert.encoder.layer.0.attention.self.query.weight\n",
      "bert.encoder.layer.0.attention.self.query.bias\n",
      "bert.encoder.layer.0.attention.self.key.weight\n",
      "bert.encoder.layer.0.attention.self.key.bias\n",
      "bert.encoder.layer.0.attention.self.value.weight\n",
      "bert.encoder.layer.0.attention.self.value.bias\n",
      "bert.encoder.layer.0.attention.output.dense.weight\n",
      "bert.encoder.layer.0.attention.output.dense.bias\n",
      "bert.encoder.layer.0.attention.output.LayerNorm.weight\n",
      "bert.encoder.layer.0.attention.output.LayerNorm.bias\n",
      "bert.encoder.layer.0.intermediate.dense.weight\n",
      "bert.encoder.layer.0.intermediate.dense.bias\n",
      "bert.encoder.layer.0.output.dense.weight\n",
      "bert.encoder.layer.0.output.dense.bias\n",
      "bert.encoder.layer.0.output.LayerNorm.weight\n",
      "bert.encoder.layer.0.output.LayerNorm.bias\n",
      "bert.encoder.layer.1.attention.self.query.weight\n",
      "bert.encoder.layer.1.attention.self.query.bias\n",
      "bert.encoder.layer.1.attention.self.key.weight\n",
      "bert.encoder.layer.1.attention.self.key.bias\n",
      "bert.encoder.layer.1.attention.self.value.weight\n",
      "bert.encoder.layer.1.attention.self.value.bias\n",
      "bert.encoder.layer.1.attention.output.dense.weight\n",
      "bert.encoder.layer.1.attention.output.dense.bias\n",
      "bert.encoder.layer.1.attention.output.LayerNorm.weight\n",
      "bert.encoder.layer.1.attention.output.LayerNorm.bias\n",
      "bert.encoder.layer.1.intermediate.dense.weight\n",
      "bert.encoder.layer.1.intermediate.dense.bias\n",
      "bert.encoder.layer.1.output.dense.weight\n",
      "bert.encoder.layer.1.output.dense.bias\n",
      "bert.encoder.layer.1.output.LayerNorm.weight\n",
      "bert.encoder.layer.1.output.LayerNorm.bias\n",
      "bert.encoder.layer.2.attention.self.query.weight\n",
      "bert.encoder.layer.2.attention.self.query.bias\n",
      "bert.encoder.layer.2.attention.self.key.weight\n",
      "bert.encoder.layer.2.attention.self.key.bias\n",
      "bert.encoder.layer.2.attention.self.value.weight\n",
      "bert.encoder.layer.2.attention.self.value.bias\n",
      "bert.encoder.layer.2.attention.output.dense.weight\n",
      "bert.encoder.layer.2.attention.output.dense.bias\n",
      "bert.encoder.layer.2.attention.output.LayerNorm.weight\n",
      "bert.encoder.layer.2.attention.output.LayerNorm.bias\n",
      "bert.encoder.layer.2.intermediate.dense.weight\n",
      "bert.encoder.layer.2.intermediate.dense.bias\n",
      "bert.encoder.layer.2.output.dense.weight\n",
      "bert.encoder.layer.2.output.dense.bias\n",
      "bert.encoder.layer.2.output.LayerNorm.weight\n",
      "bert.encoder.layer.2.output.LayerNorm.bias\n",
      "bert.encoder.layer.3.attention.self.query.weight\n",
      "bert.encoder.layer.3.attention.self.query.bias\n",
      "bert.encoder.layer.3.attention.self.key.weight\n",
      "bert.encoder.layer.3.attention.self.key.bias\n",
      "bert.encoder.layer.3.attention.self.value.weight\n",
      "bert.encoder.layer.3.attention.self.value.bias\n",
      "bert.encoder.layer.3.attention.output.dense.weight\n",
      "bert.encoder.layer.3.attention.output.dense.bias\n",
      "bert.encoder.layer.3.attention.output.LayerNorm.weight\n",
      "bert.encoder.layer.3.attention.output.LayerNorm.bias\n",
      "bert.encoder.layer.3.intermediate.dense.weight\n",
      "bert.encoder.layer.3.intermediate.dense.bias\n",
      "bert.encoder.layer.3.output.dense.weight\n",
      "bert.encoder.layer.3.output.dense.bias\n",
      "bert.encoder.layer.3.output.LayerNorm.weight\n",
      "bert.encoder.layer.3.output.LayerNorm.bias\n",
      "bert.encoder.layer.4.attention.self.query.weight\n",
      "bert.encoder.layer.4.attention.self.query.bias\n",
      "bert.encoder.layer.4.attention.self.key.weight\n",
      "bert.encoder.layer.4.attention.self.key.bias\n",
      "bert.encoder.layer.4.attention.self.value.weight\n",
      "bert.encoder.layer.4.attention.self.value.bias\n",
      "bert.encoder.layer.4.attention.output.dense.weight\n",
      "bert.encoder.layer.4.attention.output.dense.bias\n",
      "bert.encoder.layer.4.attention.output.LayerNorm.weight\n",
      "bert.encoder.layer.4.attention.output.LayerNorm.bias\n",
      "bert.encoder.layer.4.intermediate.dense.weight\n",
      "bert.encoder.layer.4.intermediate.dense.bias\n",
      "bert.encoder.layer.4.output.dense.weight\n",
      "bert.encoder.layer.4.output.dense.bias\n",
      "bert.encoder.layer.4.output.LayerNorm.weight\n",
      "bert.encoder.layer.4.output.LayerNorm.bias\n",
      "bert.encoder.layer.5.attention.self.query.weight\n",
      "bert.encoder.layer.5.attention.self.query.bias\n",
      "bert.encoder.layer.5.attention.self.key.weight\n",
      "bert.encoder.layer.5.attention.self.key.bias\n",
      "bert.encoder.layer.5.attention.self.value.weight\n",
      "bert.encoder.layer.5.attention.self.value.bias\n",
      "bert.encoder.layer.5.attention.output.dense.weight\n",
      "bert.encoder.layer.5.attention.output.dense.bias\n",
      "bert.encoder.layer.5.attention.output.LayerNorm.weight\n",
      "bert.encoder.layer.5.attention.output.LayerNorm.bias\n",
      "bert.encoder.layer.5.intermediate.dense.weight\n",
      "bert.encoder.layer.5.intermediate.dense.bias\n",
      "bert.encoder.layer.5.output.dense.weight\n",
      "bert.encoder.layer.5.output.dense.bias\n",
      "bert.encoder.layer.5.output.LayerNorm.weight\n",
      "bert.encoder.layer.5.output.LayerNorm.bias\n",
      "bert.encoder.layer.6.attention.self.query.weight\n",
      "bert.encoder.layer.6.attention.self.query.bias\n",
      "bert.encoder.layer.6.attention.self.key.weight\n",
      "bert.encoder.layer.6.attention.self.key.bias\n",
      "bert.encoder.layer.6.attention.self.value.weight\n",
      "bert.encoder.layer.6.attention.self.value.bias\n",
      "bert.encoder.layer.6.attention.output.dense.weight\n",
      "bert.encoder.layer.6.attention.output.dense.bias\n",
      "bert.encoder.layer.6.attention.output.LayerNorm.weight\n",
      "bert.encoder.layer.6.attention.output.LayerNorm.bias\n",
      "bert.encoder.layer.6.intermediate.dense.weight\n",
      "bert.encoder.layer.6.intermediate.dense.bias\n",
      "bert.encoder.layer.6.output.dense.weight\n",
      "bert.encoder.layer.6.output.dense.bias\n",
      "bert.encoder.layer.6.output.LayerNorm.weight\n",
      "bert.encoder.layer.6.output.LayerNorm.bias\n",
      "bert.encoder.layer.7.attention.self.query.weight\n",
      "bert.encoder.layer.7.attention.self.query.bias\n",
      "bert.encoder.layer.7.attention.self.key.weight\n",
      "bert.encoder.layer.7.attention.self.key.bias\n",
      "bert.encoder.layer.7.attention.self.value.weight\n",
      "bert.encoder.layer.7.attention.self.value.bias\n",
      "bert.encoder.layer.7.attention.output.dense.weight\n",
      "bert.encoder.layer.7.attention.output.dense.bias\n",
      "bert.encoder.layer.7.attention.output.LayerNorm.weight\n",
      "bert.encoder.layer.7.attention.output.LayerNorm.bias\n",
      "bert.encoder.layer.7.intermediate.dense.weight\n",
      "bert.encoder.layer.7.intermediate.dense.bias\n",
      "bert.encoder.layer.7.output.dense.weight\n",
      "bert.encoder.layer.7.output.dense.bias\n",
      "bert.encoder.layer.7.output.LayerNorm.weight\n",
      "bert.encoder.layer.7.output.LayerNorm.bias\n",
      "bert.encoder.layer.8.attention.self.query.weight\n",
      "bert.encoder.layer.8.attention.self.query.bias\n",
      "bert.encoder.layer.8.attention.self.key.weight\n",
      "bert.encoder.layer.8.attention.self.key.bias\n",
      "bert.encoder.layer.8.attention.self.value.weight\n",
      "bert.encoder.layer.8.attention.self.value.bias\n",
      "bert.encoder.layer.8.attention.output.dense.weight\n",
      "bert.encoder.layer.8.attention.output.dense.bias\n",
      "bert.encoder.layer.8.attention.output.LayerNorm.weight\n",
      "bert.encoder.layer.8.attention.output.LayerNorm.bias\n",
      "bert.encoder.layer.8.intermediate.dense.weight\n",
      "bert.encoder.layer.8.intermediate.dense.bias\n",
      "bert.encoder.layer.8.output.dense.weight\n",
      "bert.encoder.layer.8.output.dense.bias\n",
      "bert.encoder.layer.8.output.LayerNorm.weight\n",
      "bert.encoder.layer.8.output.LayerNorm.bias\n",
      "bert.encoder.layer.9.attention.self.query.weight\n",
      "bert.encoder.layer.9.attention.self.query.bias\n",
      "bert.encoder.layer.9.attention.self.key.weight\n",
      "bert.encoder.layer.9.attention.self.key.bias\n",
      "bert.encoder.layer.9.attention.self.value.weight\n",
      "bert.encoder.layer.9.attention.self.value.bias\n",
      "bert.encoder.layer.9.attention.output.dense.weight\n",
      "bert.encoder.layer.9.attention.output.dense.bias\n",
      "bert.encoder.layer.9.attention.output.LayerNorm.weight\n",
      "bert.encoder.layer.9.attention.output.LayerNorm.bias\n",
      "bert.encoder.layer.9.intermediate.dense.weight\n",
      "bert.encoder.layer.9.intermediate.dense.bias\n",
      "bert.encoder.layer.9.output.dense.weight\n",
      "bert.encoder.layer.9.output.dense.bias\n",
      "bert.encoder.layer.9.output.LayerNorm.weight\n",
      "bert.encoder.layer.9.output.LayerNorm.bias\n",
      "bert.encoder.layer.10.attention.self.query.weight\n",
      "bert.encoder.layer.10.attention.self.query.bias\n",
      "bert.encoder.layer.10.attention.self.key.weight\n",
      "bert.encoder.layer.10.attention.self.key.bias\n",
      "bert.encoder.layer.10.attention.self.value.weight\n",
      "bert.encoder.layer.10.attention.self.value.bias\n",
      "bert.encoder.layer.10.attention.output.dense.weight\n",
      "bert.encoder.layer.10.attention.output.dense.bias\n",
      "bert.encoder.layer.10.attention.output.LayerNorm.weight\n",
      "bert.encoder.layer.10.attention.output.LayerNorm.bias\n",
      "bert.encoder.layer.10.intermediate.dense.weight\n",
      "bert.encoder.layer.10.intermediate.dense.bias\n",
      "bert.encoder.layer.10.output.dense.weight\n",
      "bert.encoder.layer.10.output.dense.bias\n",
      "bert.encoder.layer.10.output.LayerNorm.weight\n",
      "bert.encoder.layer.10.output.LayerNorm.bias\n",
      "bert.encoder.layer.11.attention.self.query.weight\n",
      "bert.encoder.layer.11.attention.self.query.bias\n",
      "bert.encoder.layer.11.attention.self.key.weight\n",
      "bert.encoder.layer.11.attention.self.key.bias\n",
      "bert.encoder.layer.11.attention.self.value.weight\n",
      "bert.encoder.layer.11.attention.self.value.bias\n",
      "bert.encoder.layer.11.attention.output.dense.weight\n",
      "bert.encoder.layer.11.attention.output.dense.bias\n",
      "bert.encoder.layer.11.attention.output.LayerNorm.weight\n",
      "bert.encoder.layer.11.attention.output.LayerNorm.bias\n",
      "bert.encoder.layer.11.intermediate.dense.weight\n",
      "bert.encoder.layer.11.intermediate.dense.bias\n",
      "bert.encoder.layer.11.output.dense.weight\n",
      "bert.encoder.layer.11.output.dense.bias\n",
      "bert.encoder.layer.11.output.LayerNorm.weight\n",
      "bert.encoder.layer.11.output.LayerNorm.bias\n",
      "bert.pooler.dense.weight\n",
      "bert.pooler.dense.bias\n",
      "classifier.weight\n",
      "classifier.bias\n"
     ]
    }
   ],
   "source": [
    "for name, param in model.named_parameters():\n",
    "    print(name)"
   ],
   "metadata": {
    "collapsed": false,
    "pycharm": {
     "name": "#%%\n"
    }
   }
  },
  {
   "cell_type": "code",
   "execution_count": 6,
   "outputs": [
    {
     "data": {
      "text/plain": "['bert.encoder.layer.0.intermediate.dense.weight',\n 'bert.encoder.layer.0.output.dense.weight',\n 'bert.encoder.layer.1.intermediate.dense.weight',\n 'bert.encoder.layer.1.output.dense.weight',\n 'bert.encoder.layer.2.intermediate.dense.weight',\n 'bert.encoder.layer.2.output.dense.weight',\n 'bert.encoder.layer.3.intermediate.dense.weight',\n 'bert.encoder.layer.3.output.dense.weight',\n 'bert.encoder.layer.4.intermediate.dense.weight',\n 'bert.encoder.layer.4.output.dense.weight',\n 'bert.encoder.layer.5.intermediate.dense.weight',\n 'bert.encoder.layer.5.output.dense.weight',\n 'bert.encoder.layer.6.intermediate.dense.weight',\n 'bert.encoder.layer.6.output.dense.weight',\n 'bert.encoder.layer.7.intermediate.dense.weight',\n 'bert.encoder.layer.7.output.dense.weight',\n 'bert.encoder.layer.8.intermediate.dense.weight',\n 'bert.encoder.layer.8.output.dense.weight',\n 'bert.encoder.layer.9.intermediate.dense.weight',\n 'bert.encoder.layer.9.output.dense.weight',\n 'bert.encoder.layer.10.intermediate.dense.weight',\n 'bert.encoder.layer.10.output.dense.weight',\n 'bert.encoder.layer.11.intermediate.dense.weight',\n 'bert.encoder.layer.11.output.dense.weight',\n 'bert.pooler.dense.weight']"
     },
     "execution_count": 6,
     "metadata": {},
     "output_type": "execute_result"
    }
   ],
   "source": [
    "nameExclude = [\"embeddings\", \"bias\", \"attention\", \"classifier\", \"LayerNorm\"]\n",
    "exclude = []\n",
    "for name, param in model.named_parameters():\n",
    "    for excludeName in nameExclude:\n",
    "        if excludeName in name:\n",
    "            exclude.append(name)\n",
    "\n",
    "layers = list(filter(lambda x: x not in exclude, [name for name, param in model.named_parameters()]))\n",
    "\n",
    "layers"
   ],
   "metadata": {
    "collapsed": false,
    "pycharm": {
     "name": "#%%\n"
    }
   }
  },
  {
   "cell_type": "code",
   "execution_count": 8,
   "outputs": [
    {
     "name": "stdout",
     "output_type": "stream",
     "text": [
      "\n",
      "Number of ZERO: 1628784;\n",
      "Percent of ZERO: 0.69036865234375;\n",
      "        \n",
      "\n"
     ]
    },
    {
     "name": "stderr",
     "output_type": "stream",
     "text": [
      "2025-01-22 21:46:17,115 data INFO {'Accuracy': 0.825, 'ROC_AUC_score': 0.9360613810741688, 'F1': 0.787878787878788, 'Precision': 0.8125, 'Recall': 0.7647058823529411}\n",
      "2025-01-22 21:46:17,115 data INFO {'Accuracy': 0.825, 'ROC_AUC_score': 0.9360613810741688, 'F1': 0.787878787878788, 'Precision': 0.8125, 'Recall': 0.7647058823529411}\n",
      "2025-01-22 21:46:17,116 data INFO {'Accuracy': 0.85, 'ROC_AUC_score': 0.9335038363171356, 'F1': 0.8235294117647058, 'Precision': 0.8235294117647058, 'Recall': 0.8235294117647058}\n",
      "2025-01-22 21:46:17,116 data INFO {'Accuracy': 0.85, 'ROC_AUC_score': 0.9335038363171356, 'F1': 0.8235294117647058, 'Precision': 0.8235294117647058, 'Recall': 0.8235294117647058}\n"
     ]
    },
    {
     "name": "stdout",
     "output_type": "stream",
     "text": [
      "\n",
      "Number of ZERO: 1657422;\n",
      "Percent of ZERO: 0.7025070190429688;\n",
      "        \n",
      "\n"
     ]
    },
    {
     "name": "stderr",
     "output_type": "stream",
     "text": [
      "2025-01-22 21:46:21,848 data INFO {'Accuracy': 0.825, 'ROC_AUC_score': 0.9360613810741688, 'F1': 0.787878787878788, 'Precision': 0.8125, 'Recall': 0.7647058823529411}\n",
      "2025-01-22 21:46:21,848 data INFO {'Accuracy': 0.825, 'ROC_AUC_score': 0.9360613810741688, 'F1': 0.787878787878788, 'Precision': 0.8125, 'Recall': 0.7647058823529411}\n",
      "2025-01-22 21:46:21,849 data INFO {'Accuracy': 0.85, 'ROC_AUC_score': 0.9232736572890026, 'F1': 0.8235294117647058, 'Precision': 0.8235294117647058, 'Recall': 0.8235294117647058}\n",
      "2025-01-22 21:46:21,849 data INFO {'Accuracy': 0.85, 'ROC_AUC_score': 0.9232736572890026, 'F1': 0.8235294117647058, 'Precision': 0.8235294117647058, 'Recall': 0.8235294117647058}\n"
     ]
    },
    {
     "name": "stdout",
     "output_type": "stream",
     "text": [
      "\n",
      "Number of ZERO: 1632206;\n",
      "Percent of ZERO: 0.6918190717697144;\n",
      "        \n",
      "\n"
     ]
    },
    {
     "name": "stderr",
     "output_type": "stream",
     "text": [
      "2025-01-22 21:46:26,752 data INFO {'Accuracy': 0.825, 'ROC_AUC_score': 0.9360613810741688, 'F1': 0.787878787878788, 'Precision': 0.8125, 'Recall': 0.7647058823529411}\n",
      "2025-01-22 21:46:26,752 data INFO {'Accuracy': 0.825, 'ROC_AUC_score': 0.9360613810741688, 'F1': 0.787878787878788, 'Precision': 0.8125, 'Recall': 0.7647058823529411}\n",
      "2025-01-22 21:46:26,753 data INFO {'Accuracy': 0.8, 'ROC_AUC_score': 0.9181585677749361, 'F1': 0.7647058823529412, 'Precision': 0.7647058823529411, 'Recall': 0.7647058823529411}\n",
      "2025-01-22 21:46:26,753 data INFO {'Accuracy': 0.8, 'ROC_AUC_score': 0.9181585677749361, 'F1': 0.7647058823529412, 'Precision': 0.7647058823529411, 'Recall': 0.7647058823529411}\n"
     ]
    },
    {
     "name": "stdout",
     "output_type": "stream",
     "text": [
      "\n",
      "Number of ZERO: 1664266;\n",
      "Percent of ZERO: 0.7054079174995422;\n",
      "        \n",
      "\n"
     ]
    },
    {
     "name": "stderr",
     "output_type": "stream",
     "text": [
      "2025-01-22 21:46:31,750 data INFO {'Accuracy': 0.825, 'ROC_AUC_score': 0.9360613810741688, 'F1': 0.787878787878788, 'Precision': 0.8125, 'Recall': 0.7647058823529411}\n",
      "2025-01-22 21:46:31,750 data INFO {'Accuracy': 0.825, 'ROC_AUC_score': 0.9360613810741688, 'F1': 0.787878787878788, 'Precision': 0.8125, 'Recall': 0.7647058823529411}\n",
      "2025-01-22 21:46:31,751 data INFO {'Accuracy': 0.825, 'ROC_AUC_score': 0.9207161125319694, 'F1': 0.7999999999999999, 'Precision': 0.7777777777777778, 'Recall': 0.8235294117647058}\n",
      "2025-01-22 21:46:31,751 data INFO {'Accuracy': 0.825, 'ROC_AUC_score': 0.9207161125319694, 'F1': 0.7999999999999999, 'Precision': 0.7777777777777778, 'Recall': 0.8235294117647058}\n"
     ]
    },
    {
     "name": "stdout",
     "output_type": "stream",
     "text": [
      "\n",
      "Number of ZERO: 1635629;\n",
      "Percent of ZERO: 0.6932699680328369;\n",
      "        \n",
      "\n"
     ]
    },
    {
     "name": "stderr",
     "output_type": "stream",
     "text": [
      "2025-01-22 21:46:36,612 data INFO {'Accuracy': 0.825, 'ROC_AUC_score': 0.9360613810741688, 'F1': 0.787878787878788, 'Precision': 0.8125, 'Recall': 0.7647058823529411}\n",
      "2025-01-22 21:46:36,612 data INFO {'Accuracy': 0.825, 'ROC_AUC_score': 0.9360613810741688, 'F1': 0.787878787878788, 'Precision': 0.8125, 'Recall': 0.7647058823529411}\n",
      "2025-01-22 21:46:36,614 data INFO {'Accuracy': 0.825, 'ROC_AUC_score': 0.9053708439897699, 'F1': 0.787878787878788, 'Precision': 0.8125, 'Recall': 0.7647058823529411}\n",
      "2025-01-22 21:46:36,614 data INFO {'Accuracy': 0.825, 'ROC_AUC_score': 0.9053708439897699, 'F1': 0.787878787878788, 'Precision': 0.8125, 'Recall': 0.7647058823529411}\n"
     ]
    },
    {
     "name": "stdout",
     "output_type": "stream",
     "text": [
      "\n",
      "Number of ZERO: 1664382;\n",
      "Percent of ZERO: 0.7054570317268372;\n",
      "        \n",
      "\n"
     ]
    },
    {
     "name": "stderr",
     "output_type": "stream",
     "text": [
      "2025-01-22 21:46:41,596 data INFO {'Accuracy': 0.825, 'ROC_AUC_score': 0.9360613810741688, 'F1': 0.787878787878788, 'Precision': 0.8125, 'Recall': 0.7647058823529411}\n",
      "2025-01-22 21:46:41,596 data INFO {'Accuracy': 0.825, 'ROC_AUC_score': 0.9360613810741688, 'F1': 0.787878787878788, 'Precision': 0.8125, 'Recall': 0.7647058823529411}\n",
      "2025-01-22 21:46:41,597 data INFO {'Accuracy': 0.825, 'ROC_AUC_score': 0.8976982097186701, 'F1': 0.787878787878788, 'Precision': 0.8125, 'Recall': 0.7647058823529411}\n",
      "2025-01-22 21:46:41,597 data INFO {'Accuracy': 0.825, 'ROC_AUC_score': 0.8976982097186701, 'F1': 0.787878787878788, 'Precision': 0.8125, 'Recall': 0.7647058823529411}\n"
     ]
    },
    {
     "name": "stdout",
     "output_type": "stream",
     "text": [
      "\n",
      "Number of ZERO: 1636984;\n",
      "Percent of ZERO: 0.6938442587852478;\n",
      "        \n",
      "\n"
     ]
    },
    {
     "name": "stderr",
     "output_type": "stream",
     "text": [
      "2025-01-22 21:46:46,411 data INFO {'Accuracy': 0.825, 'ROC_AUC_score': 0.9360613810741688, 'F1': 0.787878787878788, 'Precision': 0.8125, 'Recall': 0.7647058823529411}\n",
      "2025-01-22 21:46:46,411 data INFO {'Accuracy': 0.825, 'ROC_AUC_score': 0.9360613810741688, 'F1': 0.787878787878788, 'Precision': 0.8125, 'Recall': 0.7647058823529411}\n",
      "2025-01-22 21:46:46,412 data INFO {'Accuracy': 0.825, 'ROC_AUC_score': 0.9232736572890026, 'F1': 0.7741935483870968, 'Precision': 0.8571428571428571, 'Recall': 0.7058823529411765}\n",
      "2025-01-22 21:46:46,412 data INFO {'Accuracy': 0.825, 'ROC_AUC_score': 0.9232736572890026, 'F1': 0.7741935483870968, 'Precision': 0.8571428571428571, 'Recall': 0.7058823529411765}\n"
     ]
    },
    {
     "name": "stdout",
     "output_type": "stream",
     "text": [
      "\n",
      "Number of ZERO: 1675628;\n",
      "Percent of ZERO: 0.7102237343788147;\n",
      "        \n",
      "\n"
     ]
    },
    {
     "name": "stderr",
     "output_type": "stream",
     "text": [
      "2025-01-22 21:46:51,224 data INFO {'Accuracy': 0.825, 'ROC_AUC_score': 0.9360613810741688, 'F1': 0.787878787878788, 'Precision': 0.8125, 'Recall': 0.7647058823529411}\n",
      "2025-01-22 21:46:51,224 data INFO {'Accuracy': 0.825, 'ROC_AUC_score': 0.9360613810741688, 'F1': 0.787878787878788, 'Precision': 0.8125, 'Recall': 0.7647058823529411}\n",
      "2025-01-22 21:46:51,225 data INFO {'Accuracy': 0.8, 'ROC_AUC_score': 0.9181585677749361, 'F1': 0.7500000000000001, 'Precision': 0.8, 'Recall': 0.7058823529411765}\n",
      "2025-01-22 21:46:51,225 data INFO {'Accuracy': 0.8, 'ROC_AUC_score': 0.9181585677749361, 'F1': 0.7500000000000001, 'Precision': 0.8, 'Recall': 0.7058823529411765}\n"
     ]
    },
    {
     "name": "stdout",
     "output_type": "stream",
     "text": [
      "\n",
      "Number of ZERO: 1640331;\n",
      "Percent of ZERO: 0.6952629089355469;\n",
      "        \n",
      "\n"
     ]
    },
    {
     "name": "stderr",
     "output_type": "stream",
     "text": [
      "2025-01-22 21:46:56,387 data INFO {'Accuracy': 0.825, 'ROC_AUC_score': 0.9360613810741688, 'F1': 0.787878787878788, 'Precision': 0.8125, 'Recall': 0.7647058823529411}\n",
      "2025-01-22 21:46:56,387 data INFO {'Accuracy': 0.825, 'ROC_AUC_score': 0.9360613810741688, 'F1': 0.787878787878788, 'Precision': 0.8125, 'Recall': 0.7647058823529411}\n",
      "2025-01-22 21:46:56,388 data INFO {'Accuracy': 0.7, 'ROC_AUC_score': 0.7902813299232736, 'F1': 0.5, 'Precision': 0.8571428571428571, 'Recall': 0.35294117647058826}\n",
      "2025-01-22 21:46:56,388 data INFO {'Accuracy': 0.7, 'ROC_AUC_score': 0.7902813299232736, 'F1': 0.5, 'Precision': 0.8571428571428571, 'Recall': 0.35294117647058826}\n"
     ]
    },
    {
     "name": "stdout",
     "output_type": "stream",
     "text": [
      "\n",
      "Number of ZERO: 1682193;\n",
      "Percent of ZERO: 0.713006317615509;\n",
      "        \n",
      "\n"
     ]
    },
    {
     "name": "stderr",
     "output_type": "stream",
     "text": [
      "2025-01-22 21:47:01,233 data INFO {'Accuracy': 0.825, 'ROC_AUC_score': 0.9360613810741688, 'F1': 0.787878787878788, 'Precision': 0.8125, 'Recall': 0.7647058823529411}\n",
      "2025-01-22 21:47:01,233 data INFO {'Accuracy': 0.825, 'ROC_AUC_score': 0.9360613810741688, 'F1': 0.787878787878788, 'Precision': 0.8125, 'Recall': 0.7647058823529411}\n",
      "2025-01-22 21:47:01,234 data INFO {'Accuracy': 0.85, 'ROC_AUC_score': 0.9283887468030692, 'F1': 0.7857142857142858, 'Precision': 1.0, 'Recall': 0.6470588235294118}\n",
      "2025-01-22 21:47:01,234 data INFO {'Accuracy': 0.85, 'ROC_AUC_score': 0.9283887468030692, 'F1': 0.7857142857142858, 'Precision': 1.0, 'Recall': 0.6470588235294118}\n"
     ]
    },
    {
     "name": "stdout",
     "output_type": "stream",
     "text": [
      "\n",
      "Number of ZERO: 1638902;\n",
      "Percent of ZERO: 0.6946572065353394;\n",
      "        \n",
      "\n"
     ]
    },
    {
     "name": "stderr",
     "output_type": "stream",
     "text": [
      "2025-01-22 21:47:06,162 data INFO {'Accuracy': 0.825, 'ROC_AUC_score': 0.9360613810741688, 'F1': 0.787878787878788, 'Precision': 0.8125, 'Recall': 0.7647058823529411}\n",
      "2025-01-22 21:47:06,162 data INFO {'Accuracy': 0.825, 'ROC_AUC_score': 0.9360613810741688, 'F1': 0.787878787878788, 'Precision': 0.8125, 'Recall': 0.7647058823529411}\n",
      "2025-01-22 21:47:06,163 data INFO {'Accuracy': 0.8, 'ROC_AUC_score': 0.8925831202046035, 'F1': 0.6923076923076924, 'Precision': 1.0, 'Recall': 0.5294117647058824}\n",
      "2025-01-22 21:47:06,163 data INFO {'Accuracy': 0.8, 'ROC_AUC_score': 0.8925831202046035, 'F1': 0.6923076923076924, 'Precision': 1.0, 'Recall': 0.5294117647058824}\n"
     ]
    },
    {
     "name": "stdout",
     "output_type": "stream",
     "text": [
      "\n",
      "Number of ZERO: 1680943;\n",
      "Percent of ZERO: 0.7124765515327454;\n",
      "        \n",
      "\n"
     ]
    },
    {
     "name": "stderr",
     "output_type": "stream",
     "text": [
      "2025-01-22 21:47:11,251 data INFO {'Accuracy': 0.825, 'ROC_AUC_score': 0.9360613810741688, 'F1': 0.787878787878788, 'Precision': 0.8125, 'Recall': 0.7647058823529411}\n",
      "2025-01-22 21:47:11,251 data INFO {'Accuracy': 0.825, 'ROC_AUC_score': 0.9360613810741688, 'F1': 0.787878787878788, 'Precision': 0.8125, 'Recall': 0.7647058823529411}\n",
      "2025-01-22 21:47:11,252 data INFO {'Accuracy': 0.85, 'ROC_AUC_score': 0.9309462915601023, 'F1': 0.7857142857142858, 'Precision': 1.0, 'Recall': 0.6470588235294118}\n",
      "2025-01-22 21:47:11,252 data INFO {'Accuracy': 0.85, 'ROC_AUC_score': 0.9309462915601023, 'F1': 0.7857142857142858, 'Precision': 1.0, 'Recall': 0.6470588235294118}\n"
     ]
    },
    {
     "name": "stdout",
     "output_type": "stream",
     "text": [
      "\n",
      "Number of ZERO: 1635554;\n",
      "Percent of ZERO: 0.6932381391525269;\n",
      "        \n",
      "\n"
     ]
    },
    {
     "name": "stderr",
     "output_type": "stream",
     "text": [
      "2025-01-22 21:47:16,001 data INFO {'Accuracy': 0.825, 'ROC_AUC_score': 0.9360613810741688, 'F1': 0.787878787878788, 'Precision': 0.8125, 'Recall': 0.7647058823529411}\n",
      "2025-01-22 21:47:16,001 data INFO {'Accuracy': 0.825, 'ROC_AUC_score': 0.9360613810741688, 'F1': 0.787878787878788, 'Precision': 0.8125, 'Recall': 0.7647058823529411}\n",
      "2025-01-22 21:47:16,002 data INFO {'Accuracy': 0.725, 'ROC_AUC_score': 0.8567774936061381, 'F1': 0.5217391304347826, 'Precision': 1.0, 'Recall': 0.35294117647058826}\n",
      "2025-01-22 21:47:16,002 data INFO {'Accuracy': 0.725, 'ROC_AUC_score': 0.8567774936061381, 'F1': 0.5217391304347826, 'Precision': 1.0, 'Recall': 0.35294117647058826}\n"
     ]
    },
    {
     "name": "stdout",
     "output_type": "stream",
     "text": [
      "\n",
      "Number of ZERO: 1671740;\n",
      "Percent of ZERO: 0.7085757851600647;\n",
      "        \n",
      "\n"
     ]
    },
    {
     "name": "stderr",
     "output_type": "stream",
     "text": [
      "2025-01-22 21:47:20,793 data INFO {'Accuracy': 0.825, 'ROC_AUC_score': 0.9360613810741688, 'F1': 0.787878787878788, 'Precision': 0.8125, 'Recall': 0.7647058823529411}\n",
      "2025-01-22 21:47:20,793 data INFO {'Accuracy': 0.825, 'ROC_AUC_score': 0.9360613810741688, 'F1': 0.787878787878788, 'Precision': 0.8125, 'Recall': 0.7647058823529411}\n",
      "2025-01-22 21:47:20,794 data INFO {'Accuracy': 0.85, 'ROC_AUC_score': 0.9411764705882353, 'F1': 0.7857142857142858, 'Precision': 1.0, 'Recall': 0.6470588235294118}\n",
      "2025-01-22 21:47:20,794 data INFO {'Accuracy': 0.85, 'ROC_AUC_score': 0.9411764705882353, 'F1': 0.7857142857142858, 'Precision': 1.0, 'Recall': 0.6470588235294118}\n"
     ]
    },
    {
     "name": "stdout",
     "output_type": "stream",
     "text": [
      "\n",
      "Number of ZERO: 1628093;\n",
      "Percent of ZERO: 0.6900757551193237;\n",
      "        \n",
      "\n"
     ]
    },
    {
     "name": "stderr",
     "output_type": "stream",
     "text": [
      "2025-01-22 21:47:25,600 data INFO {'Accuracy': 0.825, 'ROC_AUC_score': 0.9360613810741688, 'F1': 0.787878787878788, 'Precision': 0.8125, 'Recall': 0.7647058823529411}\n",
      "2025-01-22 21:47:25,600 data INFO {'Accuracy': 0.825, 'ROC_AUC_score': 0.9360613810741688, 'F1': 0.787878787878788, 'Precision': 0.8125, 'Recall': 0.7647058823529411}\n",
      "2025-01-22 21:47:25,602 data INFO {'Accuracy': 0.775, 'ROC_AUC_score': 0.9232736572890026, 'F1': 0.6399999999999999, 'Precision': 1.0, 'Recall': 0.47058823529411764}\n",
      "2025-01-22 21:47:25,602 data INFO {'Accuracy': 0.775, 'ROC_AUC_score': 0.9232736572890026, 'F1': 0.6399999999999999, 'Precision': 1.0, 'Recall': 0.47058823529411764}\n"
     ]
    },
    {
     "name": "stdout",
     "output_type": "stream",
     "text": [
      "\n",
      "Number of ZERO: 1657117;\n",
      "Percent of ZERO: 0.7023777365684509;\n",
      "        \n",
      "\n"
     ]
    },
    {
     "name": "stderr",
     "output_type": "stream",
     "text": [
      "2025-01-22 21:47:30,457 data INFO {'Accuracy': 0.825, 'ROC_AUC_score': 0.9360613810741688, 'F1': 0.787878787878788, 'Precision': 0.8125, 'Recall': 0.7647058823529411}\n",
      "2025-01-22 21:47:30,457 data INFO {'Accuracy': 0.825, 'ROC_AUC_score': 0.9360613810741688, 'F1': 0.787878787878788, 'Precision': 0.8125, 'Recall': 0.7647058823529411}\n",
      "2025-01-22 21:47:30,460 data INFO {'Accuracy': 0.8, 'ROC_AUC_score': 0.9335038363171356, 'F1': 0.7333333333333334, 'Precision': 0.8461538461538461, 'Recall': 0.6470588235294118}\n",
      "2025-01-22 21:47:30,460 data INFO {'Accuracy': 0.8, 'ROC_AUC_score': 0.9335038363171356, 'F1': 0.7333333333333334, 'Precision': 0.8461538461538461, 'Recall': 0.6470588235294118}\n"
     ]
    },
    {
     "name": "stdout",
     "output_type": "stream",
     "text": [
      "\n",
      "Number of ZERO: 1622659;\n",
      "Percent of ZERO: 0.6877725720405579;\n",
      "        \n",
      "\n"
     ]
    },
    {
     "name": "stderr",
     "output_type": "stream",
     "text": [
      "2025-01-22 21:47:35,555 data INFO {'Accuracy': 0.825, 'ROC_AUC_score': 0.9360613810741688, 'F1': 0.787878787878788, 'Precision': 0.8125, 'Recall': 0.7647058823529411}\n",
      "2025-01-22 21:47:35,555 data INFO {'Accuracy': 0.825, 'ROC_AUC_score': 0.9360613810741688, 'F1': 0.787878787878788, 'Precision': 0.8125, 'Recall': 0.7647058823529411}\n",
      "2025-01-22 21:47:35,556 data INFO {'Accuracy': 0.775, 'ROC_AUC_score': 0.887468030690537, 'F1': 0.6896551724137931, 'Precision': 0.8333333333333334, 'Recall': 0.5882352941176471}\n",
      "2025-01-22 21:47:35,556 data INFO {'Accuracy': 0.775, 'ROC_AUC_score': 0.887468030690537, 'F1': 0.6896551724137931, 'Precision': 0.8333333333333334, 'Recall': 0.5882352941176471}\n"
     ]
    },
    {
     "name": "stdout",
     "output_type": "stream",
     "text": [
      "\n",
      "Number of ZERO: 1648018;\n",
      "Percent of ZERO: 0.698521077632904;\n",
      "        \n",
      "\n"
     ]
    },
    {
     "name": "stderr",
     "output_type": "stream",
     "text": [
      "2025-01-22 21:47:40,449 data INFO {'Accuracy': 0.825, 'ROC_AUC_score': 0.9360613810741688, 'F1': 0.787878787878788, 'Precision': 0.8125, 'Recall': 0.7647058823529411}\n",
      "2025-01-22 21:47:40,449 data INFO {'Accuracy': 0.825, 'ROC_AUC_score': 0.9360613810741688, 'F1': 0.787878787878788, 'Precision': 0.8125, 'Recall': 0.7647058823529411}\n",
      "2025-01-22 21:47:40,450 data INFO {'Accuracy': 0.825, 'ROC_AUC_score': 0.9309462915601023, 'F1': 0.787878787878788, 'Precision': 0.8125, 'Recall': 0.7647058823529411}\n",
      "2025-01-22 21:47:40,450 data INFO {'Accuracy': 0.825, 'ROC_AUC_score': 0.9309462915601023, 'F1': 0.787878787878788, 'Precision': 0.8125, 'Recall': 0.7647058823529411}\n"
     ]
    },
    {
     "name": "stdout",
     "output_type": "stream",
     "text": [
      "\n",
      "Number of ZERO: 1633493;\n",
      "Percent of ZERO: 0.6923645734786987;\n",
      "        \n",
      "\n"
     ]
    },
    {
     "name": "stderr",
     "output_type": "stream",
     "text": [
      "2025-01-22 21:47:45,218 data INFO {'Accuracy': 0.825, 'ROC_AUC_score': 0.9360613810741688, 'F1': 0.787878787878788, 'Precision': 0.8125, 'Recall': 0.7647058823529411}\n",
      "2025-01-22 21:47:45,218 data INFO {'Accuracy': 0.825, 'ROC_AUC_score': 0.9360613810741688, 'F1': 0.787878787878788, 'Precision': 0.8125, 'Recall': 0.7647058823529411}\n",
      "2025-01-22 21:47:45,220 data INFO {'Accuracy': 0.825, 'ROC_AUC_score': 0.9360613810741689, 'F1': 0.787878787878788, 'Precision': 0.8125, 'Recall': 0.7647058823529411}\n",
      "2025-01-22 21:47:45,220 data INFO {'Accuracy': 0.825, 'ROC_AUC_score': 0.9360613810741689, 'F1': 0.787878787878788, 'Precision': 0.8125, 'Recall': 0.7647058823529411}\n"
     ]
    },
    {
     "name": "stdout",
     "output_type": "stream",
     "text": [
      "\n",
      "Number of ZERO: 1656318;\n",
      "Percent of ZERO: 0.7020390629768372;\n",
      "        \n",
      "\n"
     ]
    },
    {
     "name": "stderr",
     "output_type": "stream",
     "text": [
      "2025-01-22 21:47:50,227 data INFO {'Accuracy': 0.825, 'ROC_AUC_score': 0.9360613810741688, 'F1': 0.787878787878788, 'Precision': 0.8125, 'Recall': 0.7647058823529411}\n",
      "2025-01-22 21:47:50,227 data INFO {'Accuracy': 0.825, 'ROC_AUC_score': 0.9360613810741688, 'F1': 0.787878787878788, 'Precision': 0.8125, 'Recall': 0.7647058823529411}\n",
      "2025-01-22 21:47:50,228 data INFO {'Accuracy': 0.8, 'ROC_AUC_score': 0.918158567774936, 'F1': 0.7647058823529412, 'Precision': 0.7647058823529411, 'Recall': 0.7647058823529411}\n",
      "2025-01-22 21:47:50,228 data INFO {'Accuracy': 0.8, 'ROC_AUC_score': 0.918158567774936, 'F1': 0.7647058823529412, 'Precision': 0.7647058823529411, 'Recall': 0.7647058823529411}\n"
     ]
    },
    {
     "name": "stdout",
     "output_type": "stream",
     "text": [
      "\n",
      "Number of ZERO: 1619483;\n",
      "Percent of ZERO: 0.6864264011383057;\n",
      "        \n",
      "\n"
     ]
    },
    {
     "name": "stderr",
     "output_type": "stream",
     "text": [
      "2025-01-22 21:47:55,425 data INFO {'Accuracy': 0.825, 'ROC_AUC_score': 0.9360613810741688, 'F1': 0.787878787878788, 'Precision': 0.8125, 'Recall': 0.7647058823529411}\n",
      "2025-01-22 21:47:55,425 data INFO {'Accuracy': 0.825, 'ROC_AUC_score': 0.9360613810741688, 'F1': 0.787878787878788, 'Precision': 0.8125, 'Recall': 0.7647058823529411}\n",
      "2025-01-22 21:47:55,427 data INFO {'Accuracy': 0.85, 'ROC_AUC_score': 0.9181585677749361, 'F1': 0.8421052631578947, 'Precision': 0.7619047619047619, 'Recall': 0.9411764705882353}\n",
      "2025-01-22 21:47:55,427 data INFO {'Accuracy': 0.85, 'ROC_AUC_score': 0.9181585677749361, 'F1': 0.8421052631578947, 'Precision': 0.7619047619047619, 'Recall': 0.9411764705882353}\n"
     ]
    },
    {
     "name": "stdout",
     "output_type": "stream",
     "text": [
      "\n",
      "Number of ZERO: 1637033;\n",
      "Percent of ZERO: 0.6938650608062744;\n",
      "        \n",
      "\n"
     ]
    },
    {
     "name": "stderr",
     "output_type": "stream",
     "text": [
      "2025-01-22 21:48:00,331 data INFO {'Accuracy': 0.825, 'ROC_AUC_score': 0.9360613810741688, 'F1': 0.787878787878788, 'Precision': 0.8125, 'Recall': 0.7647058823529411}\n",
      "2025-01-22 21:48:00,331 data INFO {'Accuracy': 0.825, 'ROC_AUC_score': 0.9360613810741688, 'F1': 0.787878787878788, 'Precision': 0.8125, 'Recall': 0.7647058823529411}\n",
      "2025-01-22 21:48:00,332 data INFO {'Accuracy': 0.825, 'ROC_AUC_score': 0.9130434782608696, 'F1': 0.8108108108108107, 'Precision': 0.75, 'Recall': 0.8823529411764706}\n",
      "2025-01-22 21:48:00,332 data INFO {'Accuracy': 0.825, 'ROC_AUC_score': 0.9130434782608696, 'F1': 0.8108108108108107, 'Precision': 0.75, 'Recall': 0.8823529411764706}\n"
     ]
    },
    {
     "name": "stdout",
     "output_type": "stream",
     "text": [
      "\n",
      "Number of ZERO: 1615583;\n",
      "Percent of ZERO: 0.684773325920105;\n",
      "        \n",
      "\n"
     ]
    },
    {
     "name": "stderr",
     "output_type": "stream",
     "text": [
      "2025-01-22 21:48:05,146 data INFO {'Accuracy': 0.825, 'ROC_AUC_score': 0.9360613810741688, 'F1': 0.787878787878788, 'Precision': 0.8125, 'Recall': 0.7647058823529411}\n",
      "2025-01-22 21:48:05,146 data INFO {'Accuracy': 0.825, 'ROC_AUC_score': 0.9360613810741688, 'F1': 0.787878787878788, 'Precision': 0.8125, 'Recall': 0.7647058823529411}\n",
      "2025-01-22 21:48:05,147 data INFO {'Accuracy': 0.775, 'ROC_AUC_score': 0.8925831202046035, 'F1': 0.7567567567567567, 'Precision': 0.7, 'Recall': 0.8235294117647058}\n",
      "2025-01-22 21:48:05,147 data INFO {'Accuracy': 0.775, 'ROC_AUC_score': 0.8925831202046035, 'F1': 0.7567567567567567, 'Precision': 0.7, 'Recall': 0.8235294117647058}\n"
     ]
    },
    {
     "name": "stdout",
     "output_type": "stream",
     "text": [
      "\n",
      "Number of ZERO: 1624035;\n",
      "Percent of ZERO: 0.6883557438850403;\n",
      "        \n",
      "\n"
     ]
    },
    {
     "name": "stderr",
     "output_type": "stream",
     "text": [
      "2025-01-22 21:48:09,934 data INFO {'Accuracy': 0.825, 'ROC_AUC_score': 0.9360613810741688, 'F1': 0.787878787878788, 'Precision': 0.8125, 'Recall': 0.7647058823529411}\n",
      "2025-01-22 21:48:09,934 data INFO {'Accuracy': 0.825, 'ROC_AUC_score': 0.9360613810741688, 'F1': 0.787878787878788, 'Precision': 0.8125, 'Recall': 0.7647058823529411}\n",
      "2025-01-22 21:48:09,936 data INFO {'Accuracy': 0.825, 'ROC_AUC_score': 0.9130434782608696, 'F1': 0.7999999999999999, 'Precision': 0.7777777777777778, 'Recall': 0.8235294117647058}\n",
      "2025-01-22 21:48:09,936 data INFO {'Accuracy': 0.825, 'ROC_AUC_score': 0.9130434782608696, 'F1': 0.7999999999999999, 'Precision': 0.7777777777777778, 'Recall': 0.8235294117647058}\n"
     ]
    },
    {
     "name": "stdout",
     "output_type": "stream",
     "text": [
      "\n",
      "Number of ZERO: 467035;\n",
      "Percent of ZERO: 0.7918209433555603;\n",
      "        \n",
      "\n"
     ]
    },
    {
     "name": "stderr",
     "output_type": "stream",
     "text": [
      "2025-01-22 21:48:14,822 data INFO {'Accuracy': 0.825, 'ROC_AUC_score': 0.9360613810741688, 'F1': 0.787878787878788, 'Precision': 0.8125, 'Recall': 0.7647058823529411}\n",
      "2025-01-22 21:48:14,822 data INFO {'Accuracy': 0.825, 'ROC_AUC_score': 0.9360613810741688, 'F1': 0.787878787878788, 'Precision': 0.8125, 'Recall': 0.7647058823529411}\n",
      "2025-01-22 21:48:14,824 data INFO {'Accuracy': 0.8, 'ROC_AUC_score': 0.9156010230179028, 'F1': 0.7894736842105262, 'Precision': 0.7142857142857143, 'Recall': 0.8823529411764706}\n",
      "2025-01-22 21:48:14,824 data INFO {'Accuracy': 0.8, 'ROC_AUC_score': 0.9156010230179028, 'F1': 0.7894736842105262, 'Precision': 0.7142857142857143, 'Recall': 0.8823529411764706}\n"
     ]
    },
    {
     "name": "stdout",
     "output_type": "stream",
     "text": [
      "\n",
      "Number of ZERO: 1628784;\n",
      "Percent of ZERO: 0.69036865234375;\n",
      "        \n",
      "\n"
     ]
    },
    {
     "name": "stderr",
     "output_type": "stream",
     "text": [
      "2025-01-22 21:48:19,771 data INFO {'Accuracy': 0.825, 'ROC_AUC_score': 0.9360613810741688, 'F1': 0.787878787878788, 'Precision': 0.8125, 'Recall': 0.7647058823529411}\n",
      "2025-01-22 21:48:19,771 data INFO {'Accuracy': 0.825, 'ROC_AUC_score': 0.9360613810741688, 'F1': 0.787878787878788, 'Precision': 0.8125, 'Recall': 0.7647058823529411}\n",
      "2025-01-22 21:48:19,773 data INFO {'Accuracy': 0.875, 'ROC_AUC_score': 0.9360613810741688, 'F1': 0.8571428571428571, 'Precision': 0.8333333333333334, 'Recall': 0.8823529411764706}\n",
      "2025-01-22 21:48:19,773 data INFO {'Accuracy': 0.875, 'ROC_AUC_score': 0.9360613810741688, 'F1': 0.8571428571428571, 'Precision': 0.8333333333333334, 'Recall': 0.8823529411764706}\n"
     ]
    },
    {
     "name": "stdout",
     "output_type": "stream",
     "text": [
      "\n",
      "Number of ZERO: 1657422;\n",
      "Percent of ZERO: 0.7025070190429688;\n",
      "        \n",
      "\n"
     ]
    },
    {
     "name": "stderr",
     "output_type": "stream",
     "text": [
      "2025-01-22 21:48:24,977 data INFO {'Accuracy': 0.825, 'ROC_AUC_score': 0.9360613810741688, 'F1': 0.787878787878788, 'Precision': 0.8125, 'Recall': 0.7647058823529411}\n",
      "2025-01-22 21:48:24,977 data INFO {'Accuracy': 0.825, 'ROC_AUC_score': 0.9360613810741688, 'F1': 0.787878787878788, 'Precision': 0.8125, 'Recall': 0.7647058823529411}\n",
      "2025-01-22 21:48:24,979 data INFO {'Accuracy': 0.875, 'ROC_AUC_score': 0.9309462915601023, 'F1': 0.8571428571428571, 'Precision': 0.8333333333333334, 'Recall': 0.8823529411764706}\n",
      "2025-01-22 21:48:24,979 data INFO {'Accuracy': 0.875, 'ROC_AUC_score': 0.9309462915601023, 'F1': 0.8571428571428571, 'Precision': 0.8333333333333334, 'Recall': 0.8823529411764706}\n"
     ]
    },
    {
     "name": "stdout",
     "output_type": "stream",
     "text": [
      "\n",
      "Number of ZERO: 1632206;\n",
      "Percent of ZERO: 0.6918190717697144;\n",
      "        \n",
      "\n"
     ]
    },
    {
     "name": "stderr",
     "output_type": "stream",
     "text": [
      "2025-01-22 21:48:29,837 data INFO {'Accuracy': 0.825, 'ROC_AUC_score': 0.9360613810741688, 'F1': 0.787878787878788, 'Precision': 0.8125, 'Recall': 0.7647058823529411}\n",
      "2025-01-22 21:48:29,837 data INFO {'Accuracy': 0.825, 'ROC_AUC_score': 0.9360613810741688, 'F1': 0.787878787878788, 'Precision': 0.8125, 'Recall': 0.7647058823529411}\n",
      "2025-01-22 21:48:29,839 data INFO {'Accuracy': 0.9, 'ROC_AUC_score': 0.9335038363171355, 'F1': 0.8888888888888888, 'Precision': 0.8421052631578947, 'Recall': 0.9411764705882353}\n",
      "2025-01-22 21:48:29,839 data INFO {'Accuracy': 0.9, 'ROC_AUC_score': 0.9335038363171355, 'F1': 0.8888888888888888, 'Precision': 0.8421052631578947, 'Recall': 0.9411764705882353}\n"
     ]
    },
    {
     "name": "stdout",
     "output_type": "stream",
     "text": [
      "\n",
      "Number of ZERO: 1664266;\n",
      "Percent of ZERO: 0.7054079174995422;\n",
      "        \n",
      "\n"
     ]
    },
    {
     "name": "stderr",
     "output_type": "stream",
     "text": [
      "2025-01-22 21:48:34,575 data INFO {'Accuracy': 0.825, 'ROC_AUC_score': 0.9360613810741688, 'F1': 0.787878787878788, 'Precision': 0.8125, 'Recall': 0.7647058823529411}\n",
      "2025-01-22 21:48:34,575 data INFO {'Accuracy': 0.825, 'ROC_AUC_score': 0.9360613810741688, 'F1': 0.787878787878788, 'Precision': 0.8125, 'Recall': 0.7647058823529411}\n",
      "2025-01-22 21:48:34,576 data INFO {'Accuracy': 0.85, 'ROC_AUC_score': 0.9104859335038363, 'F1': 0.8333333333333333, 'Precision': 0.7894736842105263, 'Recall': 0.8823529411764706}\n",
      "2025-01-22 21:48:34,576 data INFO {'Accuracy': 0.85, 'ROC_AUC_score': 0.9104859335038363, 'F1': 0.8333333333333333, 'Precision': 0.7894736842105263, 'Recall': 0.8823529411764706}\n"
     ]
    },
    {
     "name": "stdout",
     "output_type": "stream",
     "text": [
      "\n",
      "Number of ZERO: 1635629;\n",
      "Percent of ZERO: 0.6932699680328369;\n",
      "        \n",
      "\n"
     ]
    },
    {
     "name": "stderr",
     "output_type": "stream",
     "text": [
      "2025-01-22 21:48:39,581 data INFO {'Accuracy': 0.825, 'ROC_AUC_score': 0.9360613810741688, 'F1': 0.787878787878788, 'Precision': 0.8125, 'Recall': 0.7647058823529411}\n",
      "2025-01-22 21:48:39,581 data INFO {'Accuracy': 0.825, 'ROC_AUC_score': 0.9360613810741688, 'F1': 0.787878787878788, 'Precision': 0.8125, 'Recall': 0.7647058823529411}\n",
      "2025-01-22 21:48:39,582 data INFO {'Accuracy': 0.8, 'ROC_AUC_score': 0.8900255754475703, 'F1': 0.7777777777777778, 'Precision': 0.7368421052631579, 'Recall': 0.8235294117647058}\n",
      "2025-01-22 21:48:39,582 data INFO {'Accuracy': 0.8, 'ROC_AUC_score': 0.8900255754475703, 'F1': 0.7777777777777778, 'Precision': 0.7368421052631579, 'Recall': 0.8235294117647058}\n"
     ]
    },
    {
     "name": "stdout",
     "output_type": "stream",
     "text": [
      "\n",
      "Number of ZERO: 1664382;\n",
      "Percent of ZERO: 0.7054570317268372;\n",
      "        \n",
      "\n"
     ]
    },
    {
     "name": "stderr",
     "output_type": "stream",
     "text": [
      "2025-01-22 21:48:44,749 data INFO {'Accuracy': 0.825, 'ROC_AUC_score': 0.9360613810741688, 'F1': 0.787878787878788, 'Precision': 0.8125, 'Recall': 0.7647058823529411}\n",
      "2025-01-22 21:48:44,749 data INFO {'Accuracy': 0.825, 'ROC_AUC_score': 0.9360613810741688, 'F1': 0.787878787878788, 'Precision': 0.8125, 'Recall': 0.7647058823529411}\n",
      "2025-01-22 21:48:44,751 data INFO {'Accuracy': 0.8, 'ROC_AUC_score': 0.8925831202046036, 'F1': 0.7777777777777778, 'Precision': 0.7368421052631579, 'Recall': 0.8235294117647058}\n",
      "2025-01-22 21:48:44,751 data INFO {'Accuracy': 0.8, 'ROC_AUC_score': 0.8925831202046036, 'F1': 0.7777777777777778, 'Precision': 0.7368421052631579, 'Recall': 0.8235294117647058}\n"
     ]
    },
    {
     "name": "stdout",
     "output_type": "stream",
     "text": [
      "\n",
      "Number of ZERO: 1636984;\n",
      "Percent of ZERO: 0.6938442587852478;\n",
      "        \n",
      "\n"
     ]
    },
    {
     "name": "stderr",
     "output_type": "stream",
     "text": [
      "2025-01-22 21:48:49,564 data INFO {'Accuracy': 0.825, 'ROC_AUC_score': 0.9360613810741688, 'F1': 0.787878787878788, 'Precision': 0.8125, 'Recall': 0.7647058823529411}\n",
      "2025-01-22 21:48:49,564 data INFO {'Accuracy': 0.825, 'ROC_AUC_score': 0.9360613810741688, 'F1': 0.787878787878788, 'Precision': 0.8125, 'Recall': 0.7647058823529411}\n",
      "2025-01-22 21:48:49,565 data INFO {'Accuracy': 0.825, 'ROC_AUC_score': 0.8951406649616368, 'F1': 0.7999999999999999, 'Precision': 0.7777777777777778, 'Recall': 0.8235294117647058}\n",
      "2025-01-22 21:48:49,565 data INFO {'Accuracy': 0.825, 'ROC_AUC_score': 0.8951406649616368, 'F1': 0.7999999999999999, 'Precision': 0.7777777777777778, 'Recall': 0.8235294117647058}\n"
     ]
    },
    {
     "name": "stdout",
     "output_type": "stream",
     "text": [
      "\n",
      "Number of ZERO: 1675628;\n",
      "Percent of ZERO: 0.7102237343788147;\n",
      "        \n",
      "\n"
     ]
    },
    {
     "name": "stderr",
     "output_type": "stream",
     "text": [
      "2025-01-22 21:48:54,334 data INFO {'Accuracy': 0.825, 'ROC_AUC_score': 0.9360613810741688, 'F1': 0.787878787878788, 'Precision': 0.8125, 'Recall': 0.7647058823529411}\n",
      "2025-01-22 21:48:54,334 data INFO {'Accuracy': 0.825, 'ROC_AUC_score': 0.9360613810741688, 'F1': 0.787878787878788, 'Precision': 0.8125, 'Recall': 0.7647058823529411}\n",
      "2025-01-22 21:48:54,335 data INFO {'Accuracy': 0.825, 'ROC_AUC_score': 0.8823529411764706, 'F1': 0.7999999999999999, 'Precision': 0.7777777777777778, 'Recall': 0.8235294117647058}\n",
      "2025-01-22 21:48:54,335 data INFO {'Accuracy': 0.825, 'ROC_AUC_score': 0.8823529411764706, 'F1': 0.7999999999999999, 'Precision': 0.7777777777777778, 'Recall': 0.8235294117647058}\n"
     ]
    },
    {
     "name": "stdout",
     "output_type": "stream",
     "text": [
      "\n",
      "Number of ZERO: 1640331;\n",
      "Percent of ZERO: 0.6952629089355469;\n",
      "        \n",
      "\n"
     ]
    },
    {
     "name": "stderr",
     "output_type": "stream",
     "text": [
      "2025-01-22 21:48:59,356 data INFO {'Accuracy': 0.825, 'ROC_AUC_score': 0.9360613810741688, 'F1': 0.787878787878788, 'Precision': 0.8125, 'Recall': 0.7647058823529411}\n",
      "2025-01-22 21:48:59,356 data INFO {'Accuracy': 0.825, 'ROC_AUC_score': 0.9360613810741688, 'F1': 0.787878787878788, 'Precision': 0.8125, 'Recall': 0.7647058823529411}\n",
      "2025-01-22 21:48:59,357 data INFO {'Accuracy': 0.675, 'ROC_AUC_score': 0.8209718670076727, 'F1': 0.7111111111111111, 'Precision': 0.5714285714285714, 'Recall': 0.9411764705882353}\n",
      "2025-01-22 21:48:59,357 data INFO {'Accuracy': 0.675, 'ROC_AUC_score': 0.8209718670076727, 'F1': 0.7111111111111111, 'Precision': 0.5714285714285714, 'Recall': 0.9411764705882353}\n"
     ]
    },
    {
     "name": "stdout",
     "output_type": "stream",
     "text": [
      "\n",
      "Number of ZERO: 1682193;\n",
      "Percent of ZERO: 0.713006317615509;\n",
      "        \n",
      "\n"
     ]
    },
    {
     "name": "stderr",
     "output_type": "stream",
     "text": [
      "2025-01-22 21:49:04,552 data INFO {'Accuracy': 0.825, 'ROC_AUC_score': 0.9360613810741688, 'F1': 0.787878787878788, 'Precision': 0.8125, 'Recall': 0.7647058823529411}\n",
      "2025-01-22 21:49:04,552 data INFO {'Accuracy': 0.825, 'ROC_AUC_score': 0.9360613810741688, 'F1': 0.787878787878788, 'Precision': 0.8125, 'Recall': 0.7647058823529411}\n",
      "2025-01-22 21:49:04,554 data INFO {'Accuracy': 0.675, 'ROC_AUC_score': 0.8797953964194374, 'F1': 0.6976744186046512, 'Precision': 0.5769230769230769, 'Recall': 0.8823529411764706}\n",
      "2025-01-22 21:49:04,554 data INFO {'Accuracy': 0.675, 'ROC_AUC_score': 0.8797953964194374, 'F1': 0.6976744186046512, 'Precision': 0.5769230769230769, 'Recall': 0.8823529411764706}\n"
     ]
    },
    {
     "name": "stdout",
     "output_type": "stream",
     "text": [
      "\n",
      "Number of ZERO: 1638902;\n",
      "Percent of ZERO: 0.6946572065353394;\n",
      "        \n",
      "\n"
     ]
    },
    {
     "name": "stderr",
     "output_type": "stream",
     "text": [
      "2025-01-22 21:49:09,393 data INFO {'Accuracy': 0.825, 'ROC_AUC_score': 0.9360613810741688, 'F1': 0.787878787878788, 'Precision': 0.8125, 'Recall': 0.7647058823529411}\n",
      "2025-01-22 21:49:09,393 data INFO {'Accuracy': 0.825, 'ROC_AUC_score': 0.9360613810741688, 'F1': 0.787878787878788, 'Precision': 0.8125, 'Recall': 0.7647058823529411}\n",
      "2025-01-22 21:49:09,394 data INFO {'Accuracy': 0.65, 'ROC_AUC_score': 0.8670076726342711, 'F1': 0.6956521739130435, 'Precision': 0.5517241379310345, 'Recall': 0.9411764705882353}\n",
      "2025-01-22 21:49:09,394 data INFO {'Accuracy': 0.65, 'ROC_AUC_score': 0.8670076726342711, 'F1': 0.6956521739130435, 'Precision': 0.5517241379310345, 'Recall': 0.9411764705882353}\n"
     ]
    },
    {
     "name": "stdout",
     "output_type": "stream",
     "text": [
      "\n",
      "Number of ZERO: 1680943;\n",
      "Percent of ZERO: 0.7124765515327454;\n",
      "        \n",
      "\n"
     ]
    },
    {
     "name": "stderr",
     "output_type": "stream",
     "text": [
      "2025-01-22 21:49:14,346 data INFO {'Accuracy': 0.825, 'ROC_AUC_score': 0.9360613810741688, 'F1': 0.787878787878788, 'Precision': 0.8125, 'Recall': 0.7647058823529411}\n",
      "2025-01-22 21:49:14,346 data INFO {'Accuracy': 0.825, 'ROC_AUC_score': 0.9360613810741688, 'F1': 0.787878787878788, 'Precision': 0.8125, 'Recall': 0.7647058823529411}\n",
      "2025-01-22 21:49:14,348 data INFO {'Accuracy': 0.775, 'ROC_AUC_score': 0.8797953964194374, 'F1': 0.7428571428571428, 'Precision': 0.7222222222222222, 'Recall': 0.7647058823529411}\n",
      "2025-01-22 21:49:14,348 data INFO {'Accuracy': 0.775, 'ROC_AUC_score': 0.8797953964194374, 'F1': 0.7428571428571428, 'Precision': 0.7222222222222222, 'Recall': 0.7647058823529411}\n"
     ]
    },
    {
     "name": "stdout",
     "output_type": "stream",
     "text": [
      "\n",
      "Number of ZERO: 1635554;\n",
      "Percent of ZERO: 0.6932381391525269;\n",
      "        \n",
      "\n"
     ]
    },
    {
     "name": "stderr",
     "output_type": "stream",
     "text": [
      "2025-01-22 21:49:19,192 data INFO {'Accuracy': 0.825, 'ROC_AUC_score': 0.9360613810741688, 'F1': 0.787878787878788, 'Precision': 0.8125, 'Recall': 0.7647058823529411}\n",
      "2025-01-22 21:49:19,192 data INFO {'Accuracy': 0.825, 'ROC_AUC_score': 0.9360613810741688, 'F1': 0.787878787878788, 'Precision': 0.8125, 'Recall': 0.7647058823529411}\n",
      "2025-01-22 21:49:19,193 data INFO {'Accuracy': 0.775, 'ROC_AUC_score': 0.8491048593350384, 'F1': 0.6896551724137931, 'Precision': 0.8333333333333334, 'Recall': 0.5882352941176471}\n",
      "2025-01-22 21:49:19,193 data INFO {'Accuracy': 0.775, 'ROC_AUC_score': 0.8491048593350384, 'F1': 0.6896551724137931, 'Precision': 0.8333333333333334, 'Recall': 0.5882352941176471}\n"
     ]
    },
    {
     "name": "stdout",
     "output_type": "stream",
     "text": [
      "\n",
      "Number of ZERO: 1671740;\n",
      "Percent of ZERO: 0.7085757851600647;\n",
      "        \n",
      "\n"
     ]
    },
    {
     "name": "stderr",
     "output_type": "stream",
     "text": [
      "2025-01-22 21:49:24,009 data INFO {'Accuracy': 0.825, 'ROC_AUC_score': 0.9360613810741688, 'F1': 0.787878787878788, 'Precision': 0.8125, 'Recall': 0.7647058823529411}\n",
      "2025-01-22 21:49:24,009 data INFO {'Accuracy': 0.825, 'ROC_AUC_score': 0.9360613810741688, 'F1': 0.787878787878788, 'Precision': 0.8125, 'Recall': 0.7647058823529411}\n",
      "2025-01-22 21:49:24,011 data INFO {'Accuracy': 0.825, 'ROC_AUC_score': 0.8721227621483376, 'F1': 0.787878787878788, 'Precision': 0.8125, 'Recall': 0.7647058823529411}\n",
      "2025-01-22 21:49:24,011 data INFO {'Accuracy': 0.825, 'ROC_AUC_score': 0.8721227621483376, 'F1': 0.787878787878788, 'Precision': 0.8125, 'Recall': 0.7647058823529411}\n"
     ]
    },
    {
     "name": "stdout",
     "output_type": "stream",
     "text": [
      "\n",
      "Number of ZERO: 1628093;\n",
      "Percent of ZERO: 0.6900757551193237;\n",
      "        \n",
      "\n"
     ]
    },
    {
     "name": "stderr",
     "output_type": "stream",
     "text": [
      "2025-01-22 21:49:28,996 data INFO {'Accuracy': 0.825, 'ROC_AUC_score': 0.9360613810741688, 'F1': 0.787878787878788, 'Precision': 0.8125, 'Recall': 0.7647058823529411}\n",
      "2025-01-22 21:49:28,996 data INFO {'Accuracy': 0.825, 'ROC_AUC_score': 0.9360613810741688, 'F1': 0.787878787878788, 'Precision': 0.8125, 'Recall': 0.7647058823529411}\n",
      "2025-01-22 21:49:28,997 data INFO {'Accuracy': 0.75, 'ROC_AUC_score': 0.8286445012787724, 'F1': 0.6666666666666667, 'Precision': 0.7692307692307693, 'Recall': 0.5882352941176471}\n",
      "2025-01-22 21:49:28,997 data INFO {'Accuracy': 0.75, 'ROC_AUC_score': 0.8286445012787724, 'F1': 0.6666666666666667, 'Precision': 0.7692307692307693, 'Recall': 0.5882352941176471}\n"
     ]
    },
    {
     "name": "stdout",
     "output_type": "stream",
     "text": [
      "\n",
      "Number of ZERO: 1657117;\n",
      "Percent of ZERO: 0.7023777365684509;\n",
      "        \n",
      "\n"
     ]
    },
    {
     "name": "stderr",
     "output_type": "stream",
     "text": [
      "2025-01-22 21:49:33,930 data INFO {'Accuracy': 0.825, 'ROC_AUC_score': 0.9360613810741688, 'F1': 0.787878787878788, 'Precision': 0.8125, 'Recall': 0.7647058823529411}\n",
      "2025-01-22 21:49:33,930 data INFO {'Accuracy': 0.825, 'ROC_AUC_score': 0.9360613810741688, 'F1': 0.787878787878788, 'Precision': 0.8125, 'Recall': 0.7647058823529411}\n",
      "2025-01-22 21:49:33,931 data INFO {'Accuracy': 0.725, 'ROC_AUC_score': 0.8670076726342711, 'F1': 0.6666666666666667, 'Precision': 0.6875, 'Recall': 0.6470588235294118}\n",
      "2025-01-22 21:49:33,931 data INFO {'Accuracy': 0.725, 'ROC_AUC_score': 0.8670076726342711, 'F1': 0.6666666666666667, 'Precision': 0.6875, 'Recall': 0.6470588235294118}\n"
     ]
    },
    {
     "name": "stdout",
     "output_type": "stream",
     "text": [
      "\n",
      "Number of ZERO: 1622659;\n",
      "Percent of ZERO: 0.6877725720405579;\n",
      "        \n",
      "\n"
     ]
    },
    {
     "name": "stderr",
     "output_type": "stream",
     "text": [
      "2025-01-22 21:49:38,780 data INFO {'Accuracy': 0.825, 'ROC_AUC_score': 0.9360613810741688, 'F1': 0.787878787878788, 'Precision': 0.8125, 'Recall': 0.7647058823529411}\n",
      "2025-01-22 21:49:38,780 data INFO {'Accuracy': 0.825, 'ROC_AUC_score': 0.9360613810741688, 'F1': 0.787878787878788, 'Precision': 0.8125, 'Recall': 0.7647058823529411}\n",
      "2025-01-22 21:49:38,782 data INFO {'Accuracy': 0.725, 'ROC_AUC_score': 0.8670076726342711, 'F1': 0.6451612903225806, 'Precision': 0.7142857142857143, 'Recall': 0.5882352941176471}\n",
      "2025-01-22 21:49:38,782 data INFO {'Accuracy': 0.725, 'ROC_AUC_score': 0.8670076726342711, 'F1': 0.6451612903225806, 'Precision': 0.7142857142857143, 'Recall': 0.5882352941176471}\n"
     ]
    },
    {
     "name": "stdout",
     "output_type": "stream",
     "text": [
      "\n",
      "Number of ZERO: 1648018;\n",
      "Percent of ZERO: 0.698521077632904;\n",
      "        \n",
      "\n"
     ]
    },
    {
     "name": "stderr",
     "output_type": "stream",
     "text": [
      "2025-01-22 21:49:43,556 data INFO {'Accuracy': 0.825, 'ROC_AUC_score': 0.9360613810741688, 'F1': 0.787878787878788, 'Precision': 0.8125, 'Recall': 0.7647058823529411}\n",
      "2025-01-22 21:49:43,556 data INFO {'Accuracy': 0.825, 'ROC_AUC_score': 0.9360613810741688, 'F1': 0.787878787878788, 'Precision': 0.8125, 'Recall': 0.7647058823529411}\n",
      "2025-01-22 21:49:43,556 data INFO {'Accuracy': 0.775, 'ROC_AUC_score': 0.8695652173913043, 'F1': 0.7096774193548386, 'Precision': 0.7857142857142857, 'Recall': 0.6470588235294118}\n",
      "2025-01-22 21:49:43,556 data INFO {'Accuracy': 0.775, 'ROC_AUC_score': 0.8695652173913043, 'F1': 0.7096774193548386, 'Precision': 0.7857142857142857, 'Recall': 0.6470588235294118}\n"
     ]
    },
    {
     "name": "stdout",
     "output_type": "stream",
     "text": [
      "\n",
      "Number of ZERO: 1633493;\n",
      "Percent of ZERO: 0.6923645734786987;\n",
      "        \n",
      "\n"
     ]
    },
    {
     "name": "stderr",
     "output_type": "stream",
     "text": [
      "2025-01-22 21:49:48,499 data INFO {'Accuracy': 0.825, 'ROC_AUC_score': 0.9360613810741688, 'F1': 0.787878787878788, 'Precision': 0.8125, 'Recall': 0.7647058823529411}\n",
      "2025-01-22 21:49:48,499 data INFO {'Accuracy': 0.825, 'ROC_AUC_score': 0.9360613810741688, 'F1': 0.787878787878788, 'Precision': 0.8125, 'Recall': 0.7647058823529411}\n",
      "2025-01-22 21:49:48,500 data INFO {'Accuracy': 0.75, 'ROC_AUC_score': 0.8670076726342711, 'F1': 0.6428571428571428, 'Precision': 0.8181818181818182, 'Recall': 0.5294117647058824}\n",
      "2025-01-22 21:49:48,500 data INFO {'Accuracy': 0.75, 'ROC_AUC_score': 0.8670076726342711, 'F1': 0.6428571428571428, 'Precision': 0.8181818181818182, 'Recall': 0.5294117647058824}\n"
     ]
    },
    {
     "name": "stdout",
     "output_type": "stream",
     "text": [
      "\n",
      "Number of ZERO: 1656318;\n",
      "Percent of ZERO: 0.7020390629768372;\n",
      "        \n",
      "\n"
     ]
    },
    {
     "name": "stderr",
     "output_type": "stream",
     "text": [
      "2025-01-22 21:49:53,474 data INFO {'Accuracy': 0.825, 'ROC_AUC_score': 0.9360613810741688, 'F1': 0.787878787878788, 'Precision': 0.8125, 'Recall': 0.7647058823529411}\n",
      "2025-01-22 21:49:53,474 data INFO {'Accuracy': 0.825, 'ROC_AUC_score': 0.9360613810741688, 'F1': 0.787878787878788, 'Precision': 0.8125, 'Recall': 0.7647058823529411}\n",
      "2025-01-22 21:49:53,475 data INFO {'Accuracy': 0.7, 'ROC_AUC_score': 0.8414322250639386, 'F1': 0.7142857142857143, 'Precision': 0.6, 'Recall': 0.8823529411764706}\n",
      "2025-01-22 21:49:53,475 data INFO {'Accuracy': 0.7, 'ROC_AUC_score': 0.8414322250639386, 'F1': 0.7142857142857143, 'Precision': 0.6, 'Recall': 0.8823529411764706}\n"
     ]
    },
    {
     "name": "stdout",
     "output_type": "stream",
     "text": [
      "\n",
      "Number of ZERO: 1619483;\n",
      "Percent of ZERO: 0.6864264011383057;\n",
      "        \n",
      "\n"
     ]
    },
    {
     "name": "stderr",
     "output_type": "stream",
     "text": [
      "2025-01-22 21:49:58,128 data INFO {'Accuracy': 0.825, 'ROC_AUC_score': 0.9360613810741688, 'F1': 0.787878787878788, 'Precision': 0.8125, 'Recall': 0.7647058823529411}\n",
      "2025-01-22 21:49:58,128 data INFO {'Accuracy': 0.825, 'ROC_AUC_score': 0.9360613810741688, 'F1': 0.787878787878788, 'Precision': 0.8125, 'Recall': 0.7647058823529411}\n",
      "2025-01-22 21:49:58,128 data INFO {'Accuracy': 0.675, 'ROC_AUC_score': 0.8030690537084398, 'F1': 0.6976744186046512, 'Precision': 0.5769230769230769, 'Recall': 0.8823529411764706}\n",
      "2025-01-22 21:49:58,128 data INFO {'Accuracy': 0.675, 'ROC_AUC_score': 0.8030690537084398, 'F1': 0.6976744186046512, 'Precision': 0.5769230769230769, 'Recall': 0.8823529411764706}\n"
     ]
    },
    {
     "name": "stdout",
     "output_type": "stream",
     "text": [
      "\n",
      "Number of ZERO: 1637033;\n",
      "Percent of ZERO: 0.6938650608062744;\n",
      "        \n",
      "\n"
     ]
    },
    {
     "name": "stderr",
     "output_type": "stream",
     "text": [
      "2025-01-22 21:50:02,940 data INFO {'Accuracy': 0.825, 'ROC_AUC_score': 0.9360613810741688, 'F1': 0.787878787878788, 'Precision': 0.8125, 'Recall': 0.7647058823529411}\n",
      "2025-01-22 21:50:02,940 data INFO {'Accuracy': 0.825, 'ROC_AUC_score': 0.9360613810741688, 'F1': 0.787878787878788, 'Precision': 0.8125, 'Recall': 0.7647058823529411}\n",
      "2025-01-22 21:50:02,941 data INFO {'Accuracy': 0.775, 'ROC_AUC_score': 0.8772378516624041, 'F1': 0.6666666666666667, 'Precision': 0.9, 'Recall': 0.5294117647058824}\n",
      "2025-01-22 21:50:02,941 data INFO {'Accuracy': 0.775, 'ROC_AUC_score': 0.8772378516624041, 'F1': 0.6666666666666667, 'Precision': 0.9, 'Recall': 0.5294117647058824}\n"
     ]
    },
    {
     "name": "stdout",
     "output_type": "stream",
     "text": [
      "\n",
      "Number of ZERO: 1615583;\n",
      "Percent of ZERO: 0.684773325920105;\n",
      "        \n",
      "\n"
     ]
    },
    {
     "name": "stderr",
     "output_type": "stream",
     "text": [
      "2025-01-22 21:50:07,810 data INFO {'Accuracy': 0.825, 'ROC_AUC_score': 0.9360613810741688, 'F1': 0.787878787878788, 'Precision': 0.8125, 'Recall': 0.7647058823529411}\n",
      "2025-01-22 21:50:07,810 data INFO {'Accuracy': 0.825, 'ROC_AUC_score': 0.9360613810741688, 'F1': 0.787878787878788, 'Precision': 0.8125, 'Recall': 0.7647058823529411}\n",
      "2025-01-22 21:50:07,811 data INFO {'Accuracy': 0.675, 'ROC_AUC_score': 0.8644501278772379, 'F1': 0.7234042553191489, 'Precision': 0.5666666666666667, 'Recall': 1.0}\n",
      "2025-01-22 21:50:07,811 data INFO {'Accuracy': 0.675, 'ROC_AUC_score': 0.8644501278772379, 'F1': 0.7234042553191489, 'Precision': 0.5666666666666667, 'Recall': 1.0}\n"
     ]
    },
    {
     "name": "stdout",
     "output_type": "stream",
     "text": [
      "\n",
      "Number of ZERO: 1624035;\n",
      "Percent of ZERO: 0.6883557438850403;\n",
      "        \n",
      "\n"
     ]
    },
    {
     "name": "stderr",
     "output_type": "stream",
     "text": [
      "2025-01-22 21:50:12,554 data INFO {'Accuracy': 0.825, 'ROC_AUC_score': 0.9360613810741688, 'F1': 0.787878787878788, 'Precision': 0.8125, 'Recall': 0.7647058823529411}\n",
      "2025-01-22 21:50:12,554 data INFO {'Accuracy': 0.825, 'ROC_AUC_score': 0.9360613810741688, 'F1': 0.787878787878788, 'Precision': 0.8125, 'Recall': 0.7647058823529411}\n",
      "2025-01-22 21:50:12,556 data INFO {'Accuracy': 0.775, 'ROC_AUC_score': 0.8516624040920716, 'F1': 0.6666666666666667, 'Precision': 0.9, 'Recall': 0.5294117647058824}\n",
      "2025-01-22 21:50:12,556 data INFO {'Accuracy': 0.775, 'ROC_AUC_score': 0.8516624040920716, 'F1': 0.6666666666666667, 'Precision': 0.9, 'Recall': 0.5294117647058824}\n"
     ]
    },
    {
     "name": "stdout",
     "output_type": "stream",
     "text": [
      "\n",
      "Number of ZERO: 467035;\n",
      "Percent of ZERO: 0.7918209433555603;\n",
      "        \n",
      "\n"
     ]
    },
    {
     "name": "stderr",
     "output_type": "stream",
     "text": [
      "2025-01-22 21:50:17,581 data INFO {'Accuracy': 0.825, 'ROC_AUC_score': 0.9360613810741688, 'F1': 0.787878787878788, 'Precision': 0.8125, 'Recall': 0.7647058823529411}\n",
      "2025-01-22 21:50:17,581 data INFO {'Accuracy': 0.825, 'ROC_AUC_score': 0.9360613810741688, 'F1': 0.787878787878788, 'Precision': 0.8125, 'Recall': 0.7647058823529411}\n",
      "2025-01-22 21:50:17,582 data INFO {'Accuracy': 0.65, 'ROC_AUC_score': 0.8260869565217392, 'F1': 0.6666666666666666, 'Precision': 0.56, 'Recall': 0.8235294117647058}\n",
      "2025-01-22 21:50:17,582 data INFO {'Accuracy': 0.65, 'ROC_AUC_score': 0.8260869565217392, 'F1': 0.6666666666666666, 'Precision': 0.56, 'Recall': 0.8235294117647058}\n"
     ]
    },
    {
     "name": "stdout",
     "output_type": "stream",
     "text": [
      "\n",
      "Number of ZERO: 2248268;\n",
      "Percent of ZERO: 0.9529402256011963;\n",
      "        \n",
      "\n"
     ]
    },
    {
     "name": "stderr",
     "output_type": "stream",
     "text": [
      "2025-01-22 21:50:22,443 data INFO {'Accuracy': 0.825, 'ROC_AUC_score': 0.9360613810741688, 'F1': 0.787878787878788, 'Precision': 0.8125, 'Recall': 0.7647058823529411}\n",
      "2025-01-22 21:50:22,443 data INFO {'Accuracy': 0.825, 'ROC_AUC_score': 0.9360613810741688, 'F1': 0.787878787878788, 'Precision': 0.8125, 'Recall': 0.7647058823529411}\n",
      "2025-01-22 21:50:22,446 data INFO {'Accuracy': 0.75, 'ROC_AUC_score': 0.8363171355498722, 'F1': 0.6153846153846153, 'Precision': 0.8888888888888888, 'Recall': 0.47058823529411764}\n",
      "2025-01-22 21:50:22,446 data INFO {'Accuracy': 0.75, 'ROC_AUC_score': 0.8363171355498722, 'F1': 0.6153846153846153, 'Precision': 0.8888888888888888, 'Recall': 0.47058823529411764}\n"
     ]
    },
    {
     "name": "stdout",
     "output_type": "stream",
     "text": [
      "\n",
      "Number of ZERO: 2252122;\n",
      "Percent of ZERO: 0.9545737504959106;\n",
      "        \n",
      "\n"
     ]
    },
    {
     "name": "stderr",
     "output_type": "stream",
     "text": [
      "2025-01-22 21:50:27,333 data INFO {'Accuracy': 0.825, 'ROC_AUC_score': 0.9360613810741688, 'F1': 0.787878787878788, 'Precision': 0.8125, 'Recall': 0.7647058823529411}\n",
      "2025-01-22 21:50:27,333 data INFO {'Accuracy': 0.825, 'ROC_AUC_score': 0.9360613810741688, 'F1': 0.787878787878788, 'Precision': 0.8125, 'Recall': 0.7647058823529411}\n",
      "2025-01-22 21:50:27,335 data INFO {'Accuracy': 0.875, 'ROC_AUC_score': 0.8900255754475703, 'F1': 0.8571428571428571, 'Precision': 0.8333333333333334, 'Recall': 0.8823529411764706}\n",
      "2025-01-22 21:50:27,335 data INFO {'Accuracy': 0.875, 'ROC_AUC_score': 0.8900255754475703, 'F1': 0.8571428571428571, 'Precision': 0.8333333333333334, 'Recall': 0.8823529411764706}\n"
     ]
    },
    {
     "name": "stdout",
     "output_type": "stream",
     "text": [
      "\n",
      "Number of ZERO: 2248110;\n",
      "Percent of ZERO: 0.9528732299804688;\n",
      "        \n",
      "\n"
     ]
    },
    {
     "name": "stderr",
     "output_type": "stream",
     "text": [
      "2025-01-22 21:50:32,155 data INFO {'Accuracy': 0.825, 'ROC_AUC_score': 0.9360613810741688, 'F1': 0.787878787878788, 'Precision': 0.8125, 'Recall': 0.7647058823529411}\n",
      "2025-01-22 21:50:32,155 data INFO {'Accuracy': 0.825, 'ROC_AUC_score': 0.9360613810741688, 'F1': 0.787878787878788, 'Precision': 0.8125, 'Recall': 0.7647058823529411}\n",
      "2025-01-22 21:50:32,156 data INFO {'Accuracy': 0.5, 'ROC_AUC_score': 0.5447570332480818, 'F1': 0.5833333333333333, 'Precision': 0.45161290322580644, 'Recall': 0.8235294117647058}\n",
      "2025-01-22 21:50:32,156 data INFO {'Accuracy': 0.5, 'ROC_AUC_score': 0.5447570332480818, 'F1': 0.5833333333333333, 'Precision': 0.45161290322580644, 'Recall': 0.8235294117647058}\n"
     ]
    },
    {
     "name": "stdout",
     "output_type": "stream",
     "text": [
      "\n",
      "Number of ZERO: 2254379;\n",
      "Percent of ZERO: 0.9555304050445557;\n",
      "        \n",
      "\n"
     ]
    },
    {
     "name": "stderr",
     "output_type": "stream",
     "text": [
      "2025-01-22 21:50:37,352 data INFO {'Accuracy': 0.825, 'ROC_AUC_score': 0.9360613810741688, 'F1': 0.787878787878788, 'Precision': 0.8125, 'Recall': 0.7647058823529411}\n",
      "2025-01-22 21:50:37,352 data INFO {'Accuracy': 0.825, 'ROC_AUC_score': 0.9360613810741688, 'F1': 0.787878787878788, 'Precision': 0.8125, 'Recall': 0.7647058823529411}\n",
      "2025-01-22 21:50:37,353 data INFO {'Accuracy': 0.825, 'ROC_AUC_score': 0.8746803069053708, 'F1': 0.7999999999999999, 'Precision': 0.7777777777777778, 'Recall': 0.8235294117647058}\n",
      "2025-01-22 21:50:37,353 data INFO {'Accuracy': 0.825, 'ROC_AUC_score': 0.8746803069053708, 'F1': 0.7999999999999999, 'Precision': 0.7777777777777778, 'Recall': 0.8235294117647058}\n"
     ]
    },
    {
     "name": "stdout",
     "output_type": "stream",
     "text": [
      "\n",
      "Number of ZERO: 2249072;\n",
      "Percent of ZERO: 0.9532809853553772;\n",
      "        \n",
      "\n"
     ]
    },
    {
     "name": "stderr",
     "output_type": "stream",
     "text": [
      "2025-01-22 21:50:42,446 data INFO {'Accuracy': 0.825, 'ROC_AUC_score': 0.9360613810741688, 'F1': 0.787878787878788, 'Precision': 0.8125, 'Recall': 0.7647058823529411}\n",
      "2025-01-22 21:50:42,446 data INFO {'Accuracy': 0.825, 'ROC_AUC_score': 0.9360613810741688, 'F1': 0.787878787878788, 'Precision': 0.8125, 'Recall': 0.7647058823529411}\n",
      "2025-01-22 21:50:42,447 data INFO {'Accuracy': 0.6, 'ROC_AUC_score': 0.7058823529411764, 'F1': 0.6521739130434783, 'Precision': 0.5172413793103449, 'Recall': 0.8823529411764706}\n",
      "2025-01-22 21:50:42,447 data INFO {'Accuracy': 0.6, 'ROC_AUC_score': 0.7058823529411764, 'F1': 0.6521739130434783, 'Precision': 0.5172413793103449, 'Recall': 0.8823529411764706}\n"
     ]
    },
    {
     "name": "stdout",
     "output_type": "stream",
     "text": [
      "\n",
      "Number of ZERO: 2250032;\n",
      "Percent of ZERO: 0.9536879062652588;\n",
      "        \n",
      "\n"
     ]
    },
    {
     "name": "stderr",
     "output_type": "stream",
     "text": [
      "2025-01-22 21:50:47,319 data INFO {'Accuracy': 0.825, 'ROC_AUC_score': 0.9360613810741688, 'F1': 0.787878787878788, 'Precision': 0.8125, 'Recall': 0.7647058823529411}\n",
      "2025-01-22 21:50:47,319 data INFO {'Accuracy': 0.825, 'ROC_AUC_score': 0.9360613810741688, 'F1': 0.787878787878788, 'Precision': 0.8125, 'Recall': 0.7647058823529411}\n",
      "2025-01-22 21:50:47,320 data INFO {'Accuracy': 0.8, 'ROC_AUC_score': 0.8849104859335039, 'F1': 0.7647058823529412, 'Precision': 0.7647058823529411, 'Recall': 0.7647058823529411}\n",
      "2025-01-22 21:50:47,320 data INFO {'Accuracy': 0.8, 'ROC_AUC_score': 0.8849104859335039, 'F1': 0.7647058823529412, 'Precision': 0.7647058823529411, 'Recall': 0.7647058823529411}\n"
     ]
    },
    {
     "name": "stdout",
     "output_type": "stream",
     "text": [
      "\n",
      "Number of ZERO: 2248298;\n",
      "Percent of ZERO: 0.9529529213905334;\n",
      "        \n",
      "\n"
     ]
    },
    {
     "name": "stderr",
     "output_type": "stream",
     "text": [
      "C:\\Users\\Alex\\anaconda\\Lib\\site-packages\\sklearn\\metrics\\_classification.py:1469: UndefinedMetricWarning: Precision is ill-defined and being set to 0.0 due to no predicted samples. Use `zero_division` parameter to control this behavior.\n",
      "  _warn_prf(average, modifier, msg_start, len(result))\n",
      "2025-01-22 21:50:52,121 data INFO {'Accuracy': 0.825, 'ROC_AUC_score': 0.9360613810741688, 'F1': 0.787878787878788, 'Precision': 0.8125, 'Recall': 0.7647058823529411}\n",
      "2025-01-22 21:50:52,121 data INFO {'Accuracy': 0.825, 'ROC_AUC_score': 0.9360613810741688, 'F1': 0.787878787878788, 'Precision': 0.8125, 'Recall': 0.7647058823529411}\n",
      "2025-01-22 21:50:52,123 data INFO {'Accuracy': 0.575, 'ROC_AUC_score': 0.8184143222506395, 'F1': 0.0, 'Precision': 0.0, 'Recall': 0.0}\n",
      "2025-01-22 21:50:52,123 data INFO {'Accuracy': 0.575, 'ROC_AUC_score': 0.8184143222506395, 'F1': 0.0, 'Precision': 0.0, 'Recall': 0.0}\n"
     ]
    },
    {
     "name": "stdout",
     "output_type": "stream",
     "text": [
      "\n",
      "Number of ZERO: 2253614;\n",
      "Percent of ZERO: 0.9552061557769775;\n",
      "        \n",
      "\n"
     ]
    },
    {
     "name": "stderr",
     "output_type": "stream",
     "text": [
      "2025-01-22 21:50:56,962 data INFO {'Accuracy': 0.825, 'ROC_AUC_score': 0.9360613810741688, 'F1': 0.787878787878788, 'Precision': 0.8125, 'Recall': 0.7647058823529411}\n",
      "2025-01-22 21:50:56,962 data INFO {'Accuracy': 0.825, 'ROC_AUC_score': 0.9360613810741688, 'F1': 0.787878787878788, 'Precision': 0.8125, 'Recall': 0.7647058823529411}\n",
      "2025-01-22 21:50:56,963 data INFO {'Accuracy': 0.825, 'ROC_AUC_score': 0.9130434782608696, 'F1': 0.7999999999999999, 'Precision': 0.7777777777777778, 'Recall': 0.8235294117647058}\n",
      "2025-01-22 21:50:56,963 data INFO {'Accuracy': 0.825, 'ROC_AUC_score': 0.9130434782608696, 'F1': 0.7999999999999999, 'Precision': 0.7777777777777778, 'Recall': 0.8235294117647058}\n"
     ]
    },
    {
     "name": "stdout",
     "output_type": "stream",
     "text": [
      "\n",
      "Number of ZERO: 2246989;\n",
      "Percent of ZERO: 0.9523981213569641;\n",
      "        \n",
      "\n"
     ]
    },
    {
     "name": "stderr",
     "output_type": "stream",
     "text": [
      "2025-01-22 21:51:02,091 data INFO {'Accuracy': 0.825, 'ROC_AUC_score': 0.9360613810741688, 'F1': 0.787878787878788, 'Precision': 0.8125, 'Recall': 0.7647058823529411}\n",
      "2025-01-22 21:51:02,091 data INFO {'Accuracy': 0.825, 'ROC_AUC_score': 0.9360613810741688, 'F1': 0.787878787878788, 'Precision': 0.8125, 'Recall': 0.7647058823529411}\n",
      "2025-01-22 21:51:02,092 data INFO {'Accuracy': 0.575, 'ROC_AUC_score': 0.5524296675191815, 'F1': 0.2608695652173913, 'Precision': 0.5, 'Recall': 0.17647058823529413}\n",
      "2025-01-22 21:51:02,092 data INFO {'Accuracy': 0.575, 'ROC_AUC_score': 0.5524296675191815, 'F1': 0.2608695652173913, 'Precision': 0.5, 'Recall': 0.17647058823529413}\n"
     ]
    },
    {
     "name": "stdout",
     "output_type": "stream",
     "text": [
      "\n",
      "Number of ZERO: 2249829;\n",
      "Percent of ZERO: 0.9536018371582031;\n",
      "        \n",
      "\n"
     ]
    },
    {
     "name": "stderr",
     "output_type": "stream",
     "text": [
      "2025-01-22 21:51:06,988 data INFO {'Accuracy': 0.825, 'ROC_AUC_score': 0.9360613810741688, 'F1': 0.787878787878788, 'Precision': 0.8125, 'Recall': 0.7647058823529411}\n",
      "2025-01-22 21:51:06,988 data INFO {'Accuracy': 0.825, 'ROC_AUC_score': 0.9360613810741688, 'F1': 0.787878787878788, 'Precision': 0.8125, 'Recall': 0.7647058823529411}\n",
      "2025-01-22 21:51:06,990 data INFO {'Accuracy': 0.75, 'ROC_AUC_score': 0.9207161125319693, 'F1': 0.7368421052631577, 'Precision': 0.6666666666666666, 'Recall': 0.8235294117647058}\n",
      "2025-01-22 21:51:06,990 data INFO {'Accuracy': 0.75, 'ROC_AUC_score': 0.9207161125319693, 'F1': 0.7368421052631577, 'Precision': 0.6666666666666666, 'Recall': 0.8235294117647058}\n"
     ]
    },
    {
     "name": "stdout",
     "output_type": "stream",
     "text": [
      "\n",
      "Number of ZERO: 2246945;\n",
      "Percent of ZERO: 0.9523794651031494;\n",
      "        \n",
      "\n"
     ]
    },
    {
     "name": "stderr",
     "output_type": "stream",
     "text": [
      "2025-01-22 21:51:11,737 data INFO {'Accuracy': 0.825, 'ROC_AUC_score': 0.9360613810741688, 'F1': 0.787878787878788, 'Precision': 0.8125, 'Recall': 0.7647058823529411}\n",
      "2025-01-22 21:51:11,737 data INFO {'Accuracy': 0.825, 'ROC_AUC_score': 0.9360613810741688, 'F1': 0.787878787878788, 'Precision': 0.8125, 'Recall': 0.7647058823529411}\n",
      "2025-01-22 21:51:11,738 data INFO {'Accuracy': 0.475, 'ROC_AUC_score': 0.7084398976982097, 'F1': 0.6181818181818182, 'Precision': 0.4473684210526316, 'Recall': 1.0}\n",
      "2025-01-22 21:51:11,738 data INFO {'Accuracy': 0.475, 'ROC_AUC_score': 0.7084398976982097, 'F1': 0.6181818181818182, 'Precision': 0.4473684210526316, 'Recall': 1.0}\n"
     ]
    },
    {
     "name": "stdout",
     "output_type": "stream",
     "text": [
      "\n",
      "Number of ZERO: 2248608;\n",
      "Percent of ZERO: 0.9530842900276184;\n",
      "        \n",
      "\n"
     ]
    },
    {
     "name": "stderr",
     "output_type": "stream",
     "text": [
      "2025-01-22 21:51:16,668 data INFO {'Accuracy': 0.825, 'ROC_AUC_score': 0.9360613810741688, 'F1': 0.787878787878788, 'Precision': 0.8125, 'Recall': 0.7647058823529411}\n",
      "2025-01-22 21:51:16,668 data INFO {'Accuracy': 0.825, 'ROC_AUC_score': 0.9360613810741688, 'F1': 0.787878787878788, 'Precision': 0.8125, 'Recall': 0.7647058823529411}\n",
      "2025-01-22 21:51:16,670 data INFO {'Accuracy': 0.825, 'ROC_AUC_score': 0.9258312020460358, 'F1': 0.8292682926829268, 'Precision': 0.7083333333333334, 'Recall': 1.0}\n",
      "2025-01-22 21:51:16,670 data INFO {'Accuracy': 0.825, 'ROC_AUC_score': 0.9258312020460358, 'F1': 0.8292682926829268, 'Precision': 0.7083333333333334, 'Recall': 1.0}\n"
     ]
    },
    {
     "name": "stdout",
     "output_type": "stream",
     "text": [
      "\n",
      "Number of ZERO: 2247398;\n",
      "Percent of ZERO: 0.952571451663971;\n",
      "        \n",
      "\n"
     ]
    },
    {
     "name": "stderr",
     "output_type": "stream",
     "text": [
      "C:\\Users\\Alex\\anaconda\\Lib\\site-packages\\sklearn\\metrics\\_classification.py:1469: UndefinedMetricWarning: Precision is ill-defined and being set to 0.0 due to no predicted samples. Use `zero_division` parameter to control this behavior.\n",
      "  _warn_prf(average, modifier, msg_start, len(result))\n",
      "2025-01-22 21:51:21,638 data INFO {'Accuracy': 0.825, 'ROC_AUC_score': 0.9360613810741688, 'F1': 0.787878787878788, 'Precision': 0.8125, 'Recall': 0.7647058823529411}\n",
      "2025-01-22 21:51:21,638 data INFO {'Accuracy': 0.825, 'ROC_AUC_score': 0.9360613810741688, 'F1': 0.787878787878788, 'Precision': 0.8125, 'Recall': 0.7647058823529411}\n",
      "2025-01-22 21:51:21,639 data INFO {'Accuracy': 0.575, 'ROC_AUC_score': 0.7186700767263428, 'F1': 0.0, 'Precision': 0.0, 'Recall': 0.0}\n",
      "2025-01-22 21:51:21,639 data INFO {'Accuracy': 0.575, 'ROC_AUC_score': 0.7186700767263428, 'F1': 0.0, 'Precision': 0.0, 'Recall': 0.0}\n"
     ]
    },
    {
     "name": "stdout",
     "output_type": "stream",
     "text": [
      "\n",
      "Number of ZERO: 2247548;\n",
      "Percent of ZERO: 0.9526350498199463;\n",
      "        \n",
      "\n"
     ]
    },
    {
     "name": "stderr",
     "output_type": "stream",
     "text": [
      "2025-01-22 21:51:26,513 data INFO {'Accuracy': 0.825, 'ROC_AUC_score': 0.9360613810741688, 'F1': 0.787878787878788, 'Precision': 0.8125, 'Recall': 0.7647058823529411}\n",
      "2025-01-22 21:51:26,513 data INFO {'Accuracy': 0.825, 'ROC_AUC_score': 0.9360613810741688, 'F1': 0.787878787878788, 'Precision': 0.8125, 'Recall': 0.7647058823529411}\n",
      "2025-01-22 21:51:26,514 data INFO {'Accuracy': 0.8, 'ROC_AUC_score': 0.9104859335038363, 'F1': 0.7142857142857143, 'Precision': 0.9090909090909091, 'Recall': 0.5882352941176471}\n",
      "2025-01-22 21:51:26,514 data INFO {'Accuracy': 0.8, 'ROC_AUC_score': 0.9104859335038363, 'F1': 0.7142857142857143, 'Precision': 0.9090909090909091, 'Recall': 0.5882352941176471}\n"
     ]
    },
    {
     "name": "stdout",
     "output_type": "stream",
     "text": [
      "\n",
      "Number of ZERO: 2248741;\n",
      "Percent of ZERO: 0.9531406760215759;\n",
      "        \n",
      "\n"
     ]
    },
    {
     "name": "stderr",
     "output_type": "stream",
     "text": [
      "2025-01-22 21:51:31,348 data INFO {'Accuracy': 0.825, 'ROC_AUC_score': 0.9360613810741688, 'F1': 0.787878787878788, 'Precision': 0.8125, 'Recall': 0.7647058823529411}\n",
      "2025-01-22 21:51:31,348 data INFO {'Accuracy': 0.825, 'ROC_AUC_score': 0.9360613810741688, 'F1': 0.787878787878788, 'Precision': 0.8125, 'Recall': 0.7647058823529411}\n",
      "2025-01-22 21:51:31,349 data INFO {'Accuracy': 0.8, 'ROC_AUC_score': 0.8618925831202046, 'F1': 0.7999999999999999, 'Precision': 0.6956521739130435, 'Recall': 0.9411764705882353}\n",
      "2025-01-22 21:51:31,349 data INFO {'Accuracy': 0.8, 'ROC_AUC_score': 0.8618925831202046, 'F1': 0.7999999999999999, 'Precision': 0.6956521739130435, 'Recall': 0.9411764705882353}\n"
     ]
    },
    {
     "name": "stdout",
     "output_type": "stream",
     "text": [
      "\n",
      "Number of ZERO: 2248142;\n",
      "Percent of ZERO: 0.9528868198394775;\n",
      "        \n",
      "\n"
     ]
    },
    {
     "name": "stderr",
     "output_type": "stream",
     "text": [
      "2025-01-22 21:51:36,275 data INFO {'Accuracy': 0.825, 'ROC_AUC_score': 0.9360613810741688, 'F1': 0.787878787878788, 'Precision': 0.8125, 'Recall': 0.7647058823529411}\n",
      "2025-01-22 21:51:36,275 data INFO {'Accuracy': 0.825, 'ROC_AUC_score': 0.9360613810741688, 'F1': 0.787878787878788, 'Precision': 0.8125, 'Recall': 0.7647058823529411}\n",
      "2025-01-22 21:51:36,276 data INFO {'Accuracy': 0.7, 'ROC_AUC_score': 0.9028132992327366, 'F1': 0.5, 'Precision': 0.8571428571428571, 'Recall': 0.35294117647058826}\n",
      "2025-01-22 21:51:36,276 data INFO {'Accuracy': 0.7, 'ROC_AUC_score': 0.9028132992327366, 'F1': 0.5, 'Precision': 0.8571428571428571, 'Recall': 0.35294117647058826}\n"
     ]
    },
    {
     "name": "stdout",
     "output_type": "stream",
     "text": [
      "\n",
      "Number of ZERO: 2250471;\n",
      "Percent of ZERO: 0.9538739323616028;\n",
      "        \n",
      "\n"
     ]
    },
    {
     "name": "stderr",
     "output_type": "stream",
     "text": [
      "2025-01-22 21:51:41,142 data INFO {'Accuracy': 0.825, 'ROC_AUC_score': 0.9360613810741688, 'F1': 0.787878787878788, 'Precision': 0.8125, 'Recall': 0.7647058823529411}\n",
      "2025-01-22 21:51:41,142 data INFO {'Accuracy': 0.825, 'ROC_AUC_score': 0.9360613810741688, 'F1': 0.787878787878788, 'Precision': 0.8125, 'Recall': 0.7647058823529411}\n",
      "2025-01-22 21:51:41,144 data INFO {'Accuracy': 0.675, 'ROC_AUC_score': 0.8056265984654732, 'F1': 0.7234042553191489, 'Precision': 0.5666666666666667, 'Recall': 1.0}\n",
      "2025-01-22 21:51:41,144 data INFO {'Accuracy': 0.675, 'ROC_AUC_score': 0.8056265984654732, 'F1': 0.7234042553191489, 'Precision': 0.5666666666666667, 'Recall': 1.0}\n"
     ]
    },
    {
     "name": "stdout",
     "output_type": "stream",
     "text": [
      "\n",
      "Number of ZERO: 2250511;\n",
      "Percent of ZERO: 0.9538909196853638;\n",
      "        \n",
      "\n"
     ]
    },
    {
     "name": "stderr",
     "output_type": "stream",
     "text": [
      "2025-01-22 21:51:46,170 data INFO {'Accuracy': 0.825, 'ROC_AUC_score': 0.9360613810741688, 'F1': 0.787878787878788, 'Precision': 0.8125, 'Recall': 0.7647058823529411}\n",
      "2025-01-22 21:51:46,170 data INFO {'Accuracy': 0.825, 'ROC_AUC_score': 0.9360613810741688, 'F1': 0.787878787878788, 'Precision': 0.8125, 'Recall': 0.7647058823529411}\n",
      "2025-01-22 21:51:46,172 data INFO {'Accuracy': 0.875, 'ROC_AUC_score': 0.9360613810741688, 'F1': 0.8717948717948718, 'Precision': 0.7727272727272727, 'Recall': 1.0}\n",
      "2025-01-22 21:51:46,172 data INFO {'Accuracy': 0.875, 'ROC_AUC_score': 0.9360613810741688, 'F1': 0.8717948717948718, 'Precision': 0.7727272727272727, 'Recall': 1.0}\n"
     ]
    },
    {
     "name": "stdout",
     "output_type": "stream",
     "text": [
      "\n",
      "Number of ZERO: 2256153;\n",
      "Percent of ZERO: 0.9562823176383972;\n",
      "        \n",
      "\n"
     ]
    },
    {
     "name": "stderr",
     "output_type": "stream",
     "text": [
      "2025-01-22 21:51:50,915 data INFO {'Accuracy': 0.825, 'ROC_AUC_score': 0.9360613810741688, 'F1': 0.787878787878788, 'Precision': 0.8125, 'Recall': 0.7647058823529411}\n",
      "2025-01-22 21:51:50,915 data INFO {'Accuracy': 0.825, 'ROC_AUC_score': 0.9360613810741688, 'F1': 0.787878787878788, 'Precision': 0.8125, 'Recall': 0.7647058823529411}\n",
      "2025-01-22 21:51:50,916 data INFO {'Accuracy': 0.7, 'ROC_AUC_score': 0.9130434782608696, 'F1': 0.5, 'Precision': 0.8571428571428571, 'Recall': 0.35294117647058826}\n",
      "2025-01-22 21:51:50,916 data INFO {'Accuracy': 0.7, 'ROC_AUC_score': 0.9130434782608696, 'F1': 0.5, 'Precision': 0.8571428571428571, 'Recall': 0.35294117647058826}\n"
     ]
    },
    {
     "name": "stdout",
     "output_type": "stream",
     "text": [
      "\n",
      "Number of ZERO: 2258063;\n",
      "Percent of ZERO: 0.9570918679237366;\n",
      "        \n",
      "\n"
     ]
    },
    {
     "name": "stderr",
     "output_type": "stream",
     "text": [
      "2025-01-22 21:51:55,741 data INFO {'Accuracy': 0.825, 'ROC_AUC_score': 0.9360613810741688, 'F1': 0.787878787878788, 'Precision': 0.8125, 'Recall': 0.7647058823529411}\n",
      "2025-01-22 21:51:55,741 data INFO {'Accuracy': 0.825, 'ROC_AUC_score': 0.9360613810741688, 'F1': 0.787878787878788, 'Precision': 0.8125, 'Recall': 0.7647058823529411}\n",
      "2025-01-22 21:51:55,742 data INFO {'Accuracy': 0.75, 'ROC_AUC_score': 0.8976982097186701, 'F1': 0.5833333333333334, 'Precision': 1.0, 'Recall': 0.4117647058823529}\n",
      "2025-01-22 21:51:55,742 data INFO {'Accuracy': 0.75, 'ROC_AUC_score': 0.8976982097186701, 'F1': 0.5833333333333334, 'Precision': 1.0, 'Recall': 0.4117647058823529}\n"
     ]
    },
    {
     "name": "stdout",
     "output_type": "stream",
     "text": [
      "\n",
      "Number of ZERO: 2253166;\n",
      "Percent of ZERO: 0.9550162553787231;\n",
      "        \n",
      "\n"
     ]
    },
    {
     "name": "stderr",
     "output_type": "stream",
     "text": [
      "2025-01-22 21:52:00,556 data INFO {'Accuracy': 0.825, 'ROC_AUC_score': 0.9360613810741688, 'F1': 0.787878787878788, 'Precision': 0.8125, 'Recall': 0.7647058823529411}\n",
      "2025-01-22 21:52:00,556 data INFO {'Accuracy': 0.825, 'ROC_AUC_score': 0.9360613810741688, 'F1': 0.787878787878788, 'Precision': 0.8125, 'Recall': 0.7647058823529411}\n",
      "2025-01-22 21:52:00,556 data INFO {'Accuracy': 0.55, 'ROC_AUC_score': 0.9335038363171355, 'F1': 0.6538461538461539, 'Precision': 0.4857142857142857, 'Recall': 1.0}\n",
      "2025-01-22 21:52:00,556 data INFO {'Accuracy': 0.55, 'ROC_AUC_score': 0.9335038363171355, 'F1': 0.6538461538461539, 'Precision': 0.4857142857142857, 'Recall': 1.0}\n"
     ]
    },
    {
     "name": "stdout",
     "output_type": "stream",
     "text": [
      "\n",
      "Number of ZERO: 2256944;\n",
      "Percent of ZERO: 0.9566175937652588;\n",
      "        \n",
      "\n"
     ]
    },
    {
     "name": "stderr",
     "output_type": "stream",
     "text": [
      "2025-01-22 21:52:05,391 data INFO {'Accuracy': 0.825, 'ROC_AUC_score': 0.9360613810741688, 'F1': 0.787878787878788, 'Precision': 0.8125, 'Recall': 0.7647058823529411}\n",
      "2025-01-22 21:52:05,391 data INFO {'Accuracy': 0.825, 'ROC_AUC_score': 0.9360613810741688, 'F1': 0.787878787878788, 'Precision': 0.8125, 'Recall': 0.7647058823529411}\n",
      "2025-01-22 21:52:05,393 data INFO {'Accuracy': 0.85, 'ROC_AUC_score': 0.938618925831202, 'F1': 0.85, 'Precision': 0.7391304347826086, 'Recall': 1.0}\n",
      "2025-01-22 21:52:05,393 data INFO {'Accuracy': 0.85, 'ROC_AUC_score': 0.938618925831202, 'F1': 0.85, 'Precision': 0.7391304347826086, 'Recall': 1.0}\n"
     ]
    },
    {
     "name": "stdout",
     "output_type": "stream",
     "text": [
      "\n",
      "Number of ZERO: 2251034;\n",
      "Percent of ZERO: 0.9541125893592834;\n",
      "        \n",
      "\n"
     ]
    },
    {
     "name": "stderr",
     "output_type": "stream",
     "text": [
      "2025-01-22 21:52:10,547 data INFO {'Accuracy': 0.825, 'ROC_AUC_score': 0.9360613810741688, 'F1': 0.787878787878788, 'Precision': 0.8125, 'Recall': 0.7647058823529411}\n",
      "2025-01-22 21:52:10,547 data INFO {'Accuracy': 0.825, 'ROC_AUC_score': 0.9360613810741688, 'F1': 0.787878787878788, 'Precision': 0.8125, 'Recall': 0.7647058823529411}\n",
      "2025-01-22 21:52:10,549 data INFO {'Accuracy': 0.475, 'ROC_AUC_score': 0.9130434782608696, 'F1': 0.6181818181818182, 'Precision': 0.4473684210526316, 'Recall': 1.0}\n",
      "2025-01-22 21:52:10,549 data INFO {'Accuracy': 0.475, 'ROC_AUC_score': 0.9130434782608696, 'F1': 0.6181818181818182, 'Precision': 0.4473684210526316, 'Recall': 1.0}\n"
     ]
    },
    {
     "name": "stdout",
     "output_type": "stream",
     "text": [
      "\n",
      "Number of ZERO: 2253477;\n",
      "Percent of ZERO: 0.9551480412483215;\n",
      "        \n",
      "\n"
     ]
    },
    {
     "name": "stderr",
     "output_type": "stream",
     "text": [
      "2025-01-22 21:52:15,517 data INFO {'Accuracy': 0.825, 'ROC_AUC_score': 0.9360613810741688, 'F1': 0.787878787878788, 'Precision': 0.8125, 'Recall': 0.7647058823529411}\n",
      "2025-01-22 21:52:15,517 data INFO {'Accuracy': 0.825, 'ROC_AUC_score': 0.9360613810741688, 'F1': 0.787878787878788, 'Precision': 0.8125, 'Recall': 0.7647058823529411}\n",
      "2025-01-22 21:52:15,519 data INFO {'Accuracy': 0.875, 'ROC_AUC_score': 0.928388746803069, 'F1': 0.8648648648648648, 'Precision': 0.8, 'Recall': 0.9411764705882353}\n",
      "2025-01-22 21:52:15,519 data INFO {'Accuracy': 0.875, 'ROC_AUC_score': 0.928388746803069, 'F1': 0.8648648648648648, 'Precision': 0.8, 'Recall': 0.9411764705882353}\n"
     ]
    },
    {
     "name": "stdout",
     "output_type": "stream",
     "text": [
      "\n",
      "Number of ZERO: 562990;\n",
      "Percent of ZERO: 0.9545050859451294;\n",
      "        \n",
      "\n"
     ]
    },
    {
     "name": "stderr",
     "output_type": "stream",
     "text": [
      "2025-01-22 21:52:20,323 data INFO {'Accuracy': 0.825, 'ROC_AUC_score': 0.9360613810741688, 'F1': 0.787878787878788, 'Precision': 0.8125, 'Recall': 0.7647058823529411}\n",
      "2025-01-22 21:52:20,323 data INFO {'Accuracy': 0.825, 'ROC_AUC_score': 0.9360613810741688, 'F1': 0.787878787878788, 'Precision': 0.8125, 'Recall': 0.7647058823529411}\n",
      "2025-01-22 21:52:20,325 data INFO {'Accuracy': 0.425, 'ROC_AUC_score': 0.7442455242966752, 'F1': 0.5964912280701754, 'Precision': 0.425, 'Recall': 1.0}\n",
      "2025-01-22 21:52:20,325 data INFO {'Accuracy': 0.425, 'ROC_AUC_score': 0.7442455242966752, 'F1': 0.5964912280701754, 'Precision': 0.425, 'Recall': 1.0}\n"
     ]
    },
    {
     "name": "stdout",
     "output_type": "stream",
     "text": [
      "\n",
      "Number of ZERO: 2248268;\n",
      "Percent of ZERO: 0.9529402256011963;\n",
      "        \n",
      "\n"
     ]
    },
    {
     "name": "stderr",
     "output_type": "stream",
     "text": [
      "2025-01-22 21:52:25,404 data INFO {'Accuracy': 0.825, 'ROC_AUC_score': 0.9360613810741688, 'F1': 0.787878787878788, 'Precision': 0.8125, 'Recall': 0.7647058823529411}\n",
      "2025-01-22 21:52:25,404 data INFO {'Accuracy': 0.825, 'ROC_AUC_score': 0.9360613810741688, 'F1': 0.787878787878788, 'Precision': 0.8125, 'Recall': 0.7647058823529411}\n",
      "2025-01-22 21:52:25,406 data INFO {'Accuracy': 0.85, 'ROC_AUC_score': 0.9309462915601023, 'F1': 0.8333333333333333, 'Precision': 0.7894736842105263, 'Recall': 0.8823529411764706}\n",
      "2025-01-22 21:52:25,406 data INFO {'Accuracy': 0.85, 'ROC_AUC_score': 0.9309462915601023, 'F1': 0.8333333333333333, 'Precision': 0.7894736842105263, 'Recall': 0.8823529411764706}\n"
     ]
    },
    {
     "name": "stdout",
     "output_type": "stream",
     "text": [
      "\n",
      "Number of ZERO: 2252122;\n",
      "Percent of ZERO: 0.9545737504959106;\n",
      "        \n",
      "\n"
     ]
    },
    {
     "name": "stderr",
     "output_type": "stream",
     "text": [
      "2025-01-22 21:52:30,300 data INFO {'Accuracy': 0.825, 'ROC_AUC_score': 0.9360613810741688, 'F1': 0.787878787878788, 'Precision': 0.8125, 'Recall': 0.7647058823529411}\n",
      "2025-01-22 21:52:30,300 data INFO {'Accuracy': 0.825, 'ROC_AUC_score': 0.9360613810741688, 'F1': 0.787878787878788, 'Precision': 0.8125, 'Recall': 0.7647058823529411}\n",
      "2025-01-22 21:52:30,301 data INFO {'Accuracy': 0.85, 'ROC_AUC_score': 0.9207161125319694, 'F1': 0.8333333333333333, 'Precision': 0.7894736842105263, 'Recall': 0.8823529411764706}\n",
      "2025-01-22 21:52:30,301 data INFO {'Accuracy': 0.85, 'ROC_AUC_score': 0.9207161125319694, 'F1': 0.8333333333333333, 'Precision': 0.7894736842105263, 'Recall': 0.8823529411764706}\n"
     ]
    },
    {
     "name": "stdout",
     "output_type": "stream",
     "text": [
      "\n",
      "Number of ZERO: 2248110;\n",
      "Percent of ZERO: 0.9528732299804688;\n",
      "        \n",
      "\n"
     ]
    },
    {
     "name": "stderr",
     "output_type": "stream",
     "text": [
      "2025-01-22 21:52:35,445 data INFO {'Accuracy': 0.825, 'ROC_AUC_score': 0.9360613810741688, 'F1': 0.787878787878788, 'Precision': 0.8125, 'Recall': 0.7647058823529411}\n",
      "2025-01-22 21:52:35,445 data INFO {'Accuracy': 0.825, 'ROC_AUC_score': 0.9360613810741688, 'F1': 0.787878787878788, 'Precision': 0.8125, 'Recall': 0.7647058823529411}\n",
      "2025-01-22 21:52:35,446 data INFO {'Accuracy': 0.725, 'ROC_AUC_score': 0.7902813299232737, 'F1': 0.7027027027027027, 'Precision': 0.65, 'Recall': 0.7647058823529411}\n",
      "2025-01-22 21:52:35,446 data INFO {'Accuracy': 0.725, 'ROC_AUC_score': 0.7902813299232737, 'F1': 0.7027027027027027, 'Precision': 0.65, 'Recall': 0.7647058823529411}\n"
     ]
    },
    {
     "name": "stdout",
     "output_type": "stream",
     "text": [
      "\n",
      "Number of ZERO: 2254379;\n",
      "Percent of ZERO: 0.9555304050445557;\n",
      "        \n",
      "\n"
     ]
    },
    {
     "name": "stderr",
     "output_type": "stream",
     "text": [
      "2025-01-22 21:52:40,343 data INFO {'Accuracy': 0.825, 'ROC_AUC_score': 0.9360613810741688, 'F1': 0.787878787878788, 'Precision': 0.8125, 'Recall': 0.7647058823529411}\n",
      "2025-01-22 21:52:40,343 data INFO {'Accuracy': 0.825, 'ROC_AUC_score': 0.9360613810741688, 'F1': 0.787878787878788, 'Precision': 0.8125, 'Recall': 0.7647058823529411}\n",
      "2025-01-22 21:52:40,344 data INFO {'Accuracy': 0.825, 'ROC_AUC_score': 0.9028132992327366, 'F1': 0.8108108108108107, 'Precision': 0.75, 'Recall': 0.8823529411764706}\n",
      "2025-01-22 21:52:40,344 data INFO {'Accuracy': 0.825, 'ROC_AUC_score': 0.9028132992327366, 'F1': 0.8108108108108107, 'Precision': 0.75, 'Recall': 0.8823529411764706}\n"
     ]
    },
    {
     "name": "stdout",
     "output_type": "stream",
     "text": [
      "\n",
      "Number of ZERO: 2249072;\n",
      "Percent of ZERO: 0.9532809853553772;\n",
      "        \n",
      "\n"
     ]
    },
    {
     "name": "stderr",
     "output_type": "stream",
     "text": [
      "2025-01-22 21:52:45,123 data INFO {'Accuracy': 0.825, 'ROC_AUC_score': 0.9360613810741688, 'F1': 0.787878787878788, 'Precision': 0.8125, 'Recall': 0.7647058823529411}\n",
      "2025-01-22 21:52:45,123 data INFO {'Accuracy': 0.825, 'ROC_AUC_score': 0.9360613810741688, 'F1': 0.787878787878788, 'Precision': 0.8125, 'Recall': 0.7647058823529411}\n",
      "2025-01-22 21:52:45,125 data INFO {'Accuracy': 0.775, 'ROC_AUC_score': 0.8491048593350383, 'F1': 0.7567567567567567, 'Precision': 0.7, 'Recall': 0.8235294117647058}\n",
      "2025-01-22 21:52:45,125 data INFO {'Accuracy': 0.775, 'ROC_AUC_score': 0.8491048593350383, 'F1': 0.7567567567567567, 'Precision': 0.7, 'Recall': 0.8235294117647058}\n"
     ]
    },
    {
     "name": "stdout",
     "output_type": "stream",
     "text": [
      "\n",
      "Number of ZERO: 2250032;\n",
      "Percent of ZERO: 0.9536879062652588;\n",
      "        \n",
      "\n"
     ]
    },
    {
     "name": "stderr",
     "output_type": "stream",
     "text": [
      "2025-01-22 21:52:49,891 data INFO {'Accuracy': 0.825, 'ROC_AUC_score': 0.9360613810741688, 'F1': 0.787878787878788, 'Precision': 0.8125, 'Recall': 0.7647058823529411}\n",
      "2025-01-22 21:52:49,891 data INFO {'Accuracy': 0.825, 'ROC_AUC_score': 0.9360613810741688, 'F1': 0.787878787878788, 'Precision': 0.8125, 'Recall': 0.7647058823529411}\n",
      "2025-01-22 21:52:49,893 data INFO {'Accuracy': 0.825, 'ROC_AUC_score': 0.9053708439897699, 'F1': 0.7999999999999999, 'Precision': 0.7777777777777778, 'Recall': 0.8235294117647058}\n",
      "2025-01-22 21:52:49,893 data INFO {'Accuracy': 0.825, 'ROC_AUC_score': 0.9053708439897699, 'F1': 0.7999999999999999, 'Precision': 0.7777777777777778, 'Recall': 0.8235294117647058}\n"
     ]
    },
    {
     "name": "stdout",
     "output_type": "stream",
     "text": [
      "\n",
      "Number of ZERO: 2248298;\n",
      "Percent of ZERO: 0.9529529213905334;\n",
      "        \n",
      "\n"
     ]
    },
    {
     "name": "stderr",
     "output_type": "stream",
     "text": [
      "2025-01-22 21:52:54,911 data INFO {'Accuracy': 0.825, 'ROC_AUC_score': 0.9360613810741688, 'F1': 0.787878787878788, 'Precision': 0.8125, 'Recall': 0.7647058823529411}\n",
      "2025-01-22 21:52:54,911 data INFO {'Accuracy': 0.825, 'ROC_AUC_score': 0.9360613810741688, 'F1': 0.787878787878788, 'Precision': 0.8125, 'Recall': 0.7647058823529411}\n",
      "2025-01-22 21:52:54,913 data INFO {'Accuracy': 0.7, 'ROC_AUC_score': 0.8209718670076727, 'F1': 0.5, 'Precision': 0.8571428571428571, 'Recall': 0.35294117647058826}\n",
      "2025-01-22 21:52:54,913 data INFO {'Accuracy': 0.7, 'ROC_AUC_score': 0.8209718670076727, 'F1': 0.5, 'Precision': 0.8571428571428571, 'Recall': 0.35294117647058826}\n"
     ]
    },
    {
     "name": "stdout",
     "output_type": "stream",
     "text": [
      "\n",
      "Number of ZERO: 2253614;\n",
      "Percent of ZERO: 0.9552061557769775;\n",
      "        \n",
      "\n"
     ]
    },
    {
     "name": "stderr",
     "output_type": "stream",
     "text": [
      "2025-01-22 21:52:59,997 data INFO {'Accuracy': 0.825, 'ROC_AUC_score': 0.9360613810741688, 'F1': 0.787878787878788, 'Precision': 0.8125, 'Recall': 0.7647058823529411}\n",
      "2025-01-22 21:52:59,997 data INFO {'Accuracy': 0.825, 'ROC_AUC_score': 0.9360613810741688, 'F1': 0.787878787878788, 'Precision': 0.8125, 'Recall': 0.7647058823529411}\n",
      "2025-01-22 21:52:59,998 data INFO {'Accuracy': 0.8, 'ROC_AUC_score': 0.9386189258312021, 'F1': 0.7500000000000001, 'Precision': 0.8, 'Recall': 0.7058823529411765}\n",
      "2025-01-22 21:52:59,998 data INFO {'Accuracy': 0.8, 'ROC_AUC_score': 0.9386189258312021, 'F1': 0.7500000000000001, 'Precision': 0.8, 'Recall': 0.7058823529411765}\n"
     ]
    },
    {
     "name": "stdout",
     "output_type": "stream",
     "text": [
      "\n",
      "Number of ZERO: 2246989;\n",
      "Percent of ZERO: 0.9523981213569641;\n",
      "        \n",
      "\n"
     ]
    },
    {
     "name": "stderr",
     "output_type": "stream",
     "text": [
      "C:\\Users\\Alex\\anaconda\\Lib\\site-packages\\sklearn\\metrics\\_classification.py:1469: UndefinedMetricWarning: Precision is ill-defined and being set to 0.0 due to no predicted samples. Use `zero_division` parameter to control this behavior.\n",
      "  _warn_prf(average, modifier, msg_start, len(result))\n",
      "2025-01-22 21:53:05,091 data INFO {'Accuracy': 0.825, 'ROC_AUC_score': 0.9360613810741688, 'F1': 0.787878787878788, 'Precision': 0.8125, 'Recall': 0.7647058823529411}\n",
      "2025-01-22 21:53:05,091 data INFO {'Accuracy': 0.825, 'ROC_AUC_score': 0.9360613810741688, 'F1': 0.787878787878788, 'Precision': 0.8125, 'Recall': 0.7647058823529411}\n",
      "2025-01-22 21:53:05,092 data INFO {'Accuracy': 0.575, 'ROC_AUC_score': 0.6470588235294117, 'F1': 0.0, 'Precision': 0.0, 'Recall': 0.0}\n",
      "2025-01-22 21:53:05,092 data INFO {'Accuracy': 0.575, 'ROC_AUC_score': 0.6470588235294117, 'F1': 0.0, 'Precision': 0.0, 'Recall': 0.0}\n"
     ]
    },
    {
     "name": "stdout",
     "output_type": "stream",
     "text": [
      "\n",
      "Number of ZERO: 2249829;\n",
      "Percent of ZERO: 0.9536018371582031;\n",
      "        \n",
      "\n"
     ]
    },
    {
     "name": "stderr",
     "output_type": "stream",
     "text": [
      "2025-01-22 21:53:10,084 data INFO {'Accuracy': 0.825, 'ROC_AUC_score': 0.9360613810741688, 'F1': 0.787878787878788, 'Precision': 0.8125, 'Recall': 0.7647058823529411}\n",
      "2025-01-22 21:53:10,084 data INFO {'Accuracy': 0.825, 'ROC_AUC_score': 0.9360613810741688, 'F1': 0.787878787878788, 'Precision': 0.8125, 'Recall': 0.7647058823529411}\n",
      "2025-01-22 21:53:10,085 data INFO {'Accuracy': 0.775, 'ROC_AUC_score': 0.9258312020460359, 'F1': 0.7692307692307693, 'Precision': 0.6818181818181818, 'Recall': 0.8823529411764706}\n",
      "2025-01-22 21:53:10,085 data INFO {'Accuracy': 0.775, 'ROC_AUC_score': 0.9258312020460359, 'F1': 0.7692307692307693, 'Precision': 0.6818181818181818, 'Recall': 0.8823529411764706}\n"
     ]
    },
    {
     "name": "stdout",
     "output_type": "stream",
     "text": [
      "\n",
      "Number of ZERO: 2246945;\n",
      "Percent of ZERO: 0.9523794651031494;\n",
      "        \n",
      "\n"
     ]
    },
    {
     "name": "stderr",
     "output_type": "stream",
     "text": [
      "2025-01-22 21:53:15,126 data INFO {'Accuracy': 0.825, 'ROC_AUC_score': 0.9360613810741688, 'F1': 0.787878787878788, 'Precision': 0.8125, 'Recall': 0.7647058823529411}\n",
      "2025-01-22 21:53:15,126 data INFO {'Accuracy': 0.825, 'ROC_AUC_score': 0.9360613810741688, 'F1': 0.787878787878788, 'Precision': 0.8125, 'Recall': 0.7647058823529411}\n",
      "2025-01-22 21:53:15,127 data INFO {'Accuracy': 0.75, 'ROC_AUC_score': 0.8235294117647058, 'F1': 0.7368421052631577, 'Precision': 0.6666666666666666, 'Recall': 0.8235294117647058}\n",
      "2025-01-22 21:53:15,127 data INFO {'Accuracy': 0.75, 'ROC_AUC_score': 0.8235294117647058, 'F1': 0.7368421052631577, 'Precision': 0.6666666666666666, 'Recall': 0.8235294117647058}\n"
     ]
    },
    {
     "name": "stdout",
     "output_type": "stream",
     "text": [
      "\n",
      "Number of ZERO: 2248608;\n",
      "Percent of ZERO: 0.9530842900276184;\n",
      "        \n",
      "\n"
     ]
    },
    {
     "name": "stderr",
     "output_type": "stream",
     "text": [
      "2025-01-22 21:53:20,230 data INFO {'Accuracy': 0.825, 'ROC_AUC_score': 0.9360613810741688, 'F1': 0.787878787878788, 'Precision': 0.8125, 'Recall': 0.7647058823529411}\n",
      "2025-01-22 21:53:20,230 data INFO {'Accuracy': 0.825, 'ROC_AUC_score': 0.9360613810741688, 'F1': 0.787878787878788, 'Precision': 0.8125, 'Recall': 0.7647058823529411}\n",
      "2025-01-22 21:53:20,232 data INFO {'Accuracy': 0.8, 'ROC_AUC_score': 0.9411764705882353, 'F1': 0.8095238095238095, 'Precision': 0.68, 'Recall': 1.0}\n",
      "2025-01-22 21:53:20,232 data INFO {'Accuracy': 0.8, 'ROC_AUC_score': 0.9411764705882353, 'F1': 0.8095238095238095, 'Precision': 0.68, 'Recall': 1.0}\n"
     ]
    },
    {
     "name": "stdout",
     "output_type": "stream",
     "text": [
      "\n",
      "Number of ZERO: 2247398;\n",
      "Percent of ZERO: 0.952571451663971;\n",
      "        \n",
      "\n"
     ]
    },
    {
     "name": "stderr",
     "output_type": "stream",
     "text": [
      "C:\\Users\\Alex\\anaconda\\Lib\\site-packages\\sklearn\\metrics\\_classification.py:1469: UndefinedMetricWarning: Precision is ill-defined and being set to 0.0 due to no predicted samples. Use `zero_division` parameter to control this behavior.\n",
      "  _warn_prf(average, modifier, msg_start, len(result))\n",
      "2025-01-22 21:53:25,102 data INFO {'Accuracy': 0.825, 'ROC_AUC_score': 0.9360613810741688, 'F1': 0.787878787878788, 'Precision': 0.8125, 'Recall': 0.7647058823529411}\n",
      "2025-01-22 21:53:25,102 data INFO {'Accuracy': 0.825, 'ROC_AUC_score': 0.9360613810741688, 'F1': 0.787878787878788, 'Precision': 0.8125, 'Recall': 0.7647058823529411}\n",
      "2025-01-22 21:53:25,103 data INFO {'Accuracy': 0.575, 'ROC_AUC_score': 0.7365728900255755, 'F1': 0.0, 'Precision': 0.0, 'Recall': 0.0}\n",
      "2025-01-22 21:53:25,103 data INFO {'Accuracy': 0.575, 'ROC_AUC_score': 0.7365728900255755, 'F1': 0.0, 'Precision': 0.0, 'Recall': 0.0}\n"
     ]
    },
    {
     "name": "stdout",
     "output_type": "stream",
     "text": [
      "\n",
      "Number of ZERO: 2247548;\n",
      "Percent of ZERO: 0.9526350498199463;\n",
      "        \n",
      "\n"
     ]
    },
    {
     "name": "stderr",
     "output_type": "stream",
     "text": [
      "2025-01-22 21:53:29,915 data INFO {'Accuracy': 0.825, 'ROC_AUC_score': 0.9360613810741688, 'F1': 0.787878787878788, 'Precision': 0.8125, 'Recall': 0.7647058823529411}\n",
      "2025-01-22 21:53:29,915 data INFO {'Accuracy': 0.825, 'ROC_AUC_score': 0.9360613810741688, 'F1': 0.787878787878788, 'Precision': 0.8125, 'Recall': 0.7647058823529411}\n",
      "2025-01-22 21:53:29,916 data INFO {'Accuracy': 0.825, 'ROC_AUC_score': 0.9309462915601023, 'F1': 0.7407407407407407, 'Precision': 1.0, 'Recall': 0.5882352941176471}\n",
      "2025-01-22 21:53:29,916 data INFO {'Accuracy': 0.825, 'ROC_AUC_score': 0.9309462915601023, 'F1': 0.7407407407407407, 'Precision': 1.0, 'Recall': 0.5882352941176471}\n"
     ]
    },
    {
     "name": "stdout",
     "output_type": "stream",
     "text": [
      "\n",
      "Number of ZERO: 2248741;\n",
      "Percent of ZERO: 0.9531406760215759;\n",
      "        \n",
      "\n"
     ]
    },
    {
     "name": "stderr",
     "output_type": "stream",
     "text": [
      "2025-01-22 21:53:34,748 data INFO {'Accuracy': 0.825, 'ROC_AUC_score': 0.9360613810741688, 'F1': 0.787878787878788, 'Precision': 0.8125, 'Recall': 0.7647058823529411}\n",
      "2025-01-22 21:53:34,748 data INFO {'Accuracy': 0.825, 'ROC_AUC_score': 0.9360613810741688, 'F1': 0.787878787878788, 'Precision': 0.8125, 'Recall': 0.7647058823529411}\n",
      "2025-01-22 21:53:34,749 data INFO {'Accuracy': 0.725, 'ROC_AUC_score': 0.8260869565217391, 'F1': 0.7317073170731708, 'Precision': 0.625, 'Recall': 0.8823529411764706}\n",
      "2025-01-22 21:53:34,749 data INFO {'Accuracy': 0.725, 'ROC_AUC_score': 0.8260869565217391, 'F1': 0.7317073170731708, 'Precision': 0.625, 'Recall': 0.8823529411764706}\n"
     ]
    },
    {
     "name": "stdout",
     "output_type": "stream",
     "text": [
      "\n",
      "Number of ZERO: 2248142;\n",
      "Percent of ZERO: 0.9528868198394775;\n",
      "        \n",
      "\n"
     ]
    },
    {
     "name": "stderr",
     "output_type": "stream",
     "text": [
      "2025-01-22 21:53:39,636 data INFO {'Accuracy': 0.825, 'ROC_AUC_score': 0.9360613810741688, 'F1': 0.787878787878788, 'Precision': 0.8125, 'Recall': 0.7647058823529411}\n",
      "2025-01-22 21:53:39,636 data INFO {'Accuracy': 0.825, 'ROC_AUC_score': 0.9360613810741688, 'F1': 0.787878787878788, 'Precision': 0.8125, 'Recall': 0.7647058823529411}\n",
      "2025-01-22 21:53:39,637 data INFO {'Accuracy': 0.725, 'ROC_AUC_score': 0.9207161125319693, 'F1': 0.5217391304347826, 'Precision': 1.0, 'Recall': 0.35294117647058826}\n",
      "2025-01-22 21:53:39,637 data INFO {'Accuracy': 0.725, 'ROC_AUC_score': 0.9207161125319693, 'F1': 0.5217391304347826, 'Precision': 1.0, 'Recall': 0.35294117647058826}\n"
     ]
    },
    {
     "name": "stdout",
     "output_type": "stream",
     "text": [
      "\n",
      "Number of ZERO: 2250471;\n",
      "Percent of ZERO: 0.9538739323616028;\n",
      "        \n",
      "\n"
     ]
    },
    {
     "name": "stderr",
     "output_type": "stream",
     "text": [
      "2025-01-22 21:53:44,824 data INFO {'Accuracy': 0.825, 'ROC_AUC_score': 0.9360613810741688, 'F1': 0.787878787878788, 'Precision': 0.8125, 'Recall': 0.7647058823529411}\n",
      "2025-01-22 21:53:44,824 data INFO {'Accuracy': 0.825, 'ROC_AUC_score': 0.9360613810741688, 'F1': 0.787878787878788, 'Precision': 0.8125, 'Recall': 0.7647058823529411}\n",
      "2025-01-22 21:53:44,826 data INFO {'Accuracy': 0.7, 'ROC_AUC_score': 0.8107416879795397, 'F1': 0.7391304347826086, 'Precision': 0.5862068965517241, 'Recall': 1.0}\n",
      "2025-01-22 21:53:44,826 data INFO {'Accuracy': 0.7, 'ROC_AUC_score': 0.8107416879795397, 'F1': 0.7391304347826086, 'Precision': 0.5862068965517241, 'Recall': 1.0}\n"
     ]
    },
    {
     "name": "stdout",
     "output_type": "stream",
     "text": [
      "\n",
      "Number of ZERO: 2250511;\n",
      "Percent of ZERO: 0.9538909196853638;\n",
      "        \n",
      "\n"
     ]
    },
    {
     "name": "stderr",
     "output_type": "stream",
     "text": [
      "2025-01-22 21:53:49,656 data INFO {'Accuracy': 0.825, 'ROC_AUC_score': 0.9360613810741688, 'F1': 0.787878787878788, 'Precision': 0.8125, 'Recall': 0.7647058823529411}\n",
      "2025-01-22 21:53:49,656 data INFO {'Accuracy': 0.825, 'ROC_AUC_score': 0.9360613810741688, 'F1': 0.787878787878788, 'Precision': 0.8125, 'Recall': 0.7647058823529411}\n",
      "2025-01-22 21:53:49,657 data INFO {'Accuracy': 0.875, 'ROC_AUC_score': 0.959079283887468, 'F1': 0.8717948717948718, 'Precision': 0.7727272727272727, 'Recall': 1.0}\n",
      "2025-01-22 21:53:49,657 data INFO {'Accuracy': 0.875, 'ROC_AUC_score': 0.959079283887468, 'F1': 0.8717948717948718, 'Precision': 0.7727272727272727, 'Recall': 1.0}\n"
     ]
    },
    {
     "name": "stdout",
     "output_type": "stream",
     "text": [
      "\n",
      "Number of ZERO: 2256153;\n",
      "Percent of ZERO: 0.9562823176383972;\n",
      "        \n",
      "\n"
     ]
    },
    {
     "name": "stderr",
     "output_type": "stream",
     "text": [
      "2025-01-22 21:53:54,496 data INFO {'Accuracy': 0.825, 'ROC_AUC_score': 0.9360613810741688, 'F1': 0.787878787878788, 'Precision': 0.8125, 'Recall': 0.7647058823529411}\n",
      "2025-01-22 21:53:54,496 data INFO {'Accuracy': 0.825, 'ROC_AUC_score': 0.9360613810741688, 'F1': 0.787878787878788, 'Precision': 0.8125, 'Recall': 0.7647058823529411}\n",
      "2025-01-22 21:53:54,497 data INFO {'Accuracy': 0.725, 'ROC_AUC_score': 0.9232736572890026, 'F1': 0.5217391304347826, 'Precision': 1.0, 'Recall': 0.35294117647058826}\n",
      "2025-01-22 21:53:54,497 data INFO {'Accuracy': 0.725, 'ROC_AUC_score': 0.9232736572890026, 'F1': 0.5217391304347826, 'Precision': 1.0, 'Recall': 0.35294117647058826}\n"
     ]
    },
    {
     "name": "stdout",
     "output_type": "stream",
     "text": [
      "\n",
      "Number of ZERO: 2258063;\n",
      "Percent of ZERO: 0.9570918679237366;\n",
      "        \n",
      "\n"
     ]
    },
    {
     "name": "stderr",
     "output_type": "stream",
     "text": [
      "2025-01-22 21:53:59,266 data INFO {'Accuracy': 0.825, 'ROC_AUC_score': 0.9360613810741688, 'F1': 0.787878787878788, 'Precision': 0.8125, 'Recall': 0.7647058823529411}\n",
      "2025-01-22 21:53:59,266 data INFO {'Accuracy': 0.825, 'ROC_AUC_score': 0.9360613810741688, 'F1': 0.787878787878788, 'Precision': 0.8125, 'Recall': 0.7647058823529411}\n",
      "2025-01-22 21:53:59,267 data INFO {'Accuracy': 0.675, 'ROC_AUC_score': 0.8976982097186701, 'F1': 0.38095238095238093, 'Precision': 1.0, 'Recall': 0.23529411764705882}\n",
      "2025-01-22 21:53:59,267 data INFO {'Accuracy': 0.675, 'ROC_AUC_score': 0.8976982097186701, 'F1': 0.38095238095238093, 'Precision': 1.0, 'Recall': 0.23529411764705882}\n"
     ]
    },
    {
     "name": "stdout",
     "output_type": "stream",
     "text": [
      "\n",
      "Number of ZERO: 2253166;\n",
      "Percent of ZERO: 0.9550162553787231;\n",
      "        \n",
      "\n"
     ]
    },
    {
     "name": "stderr",
     "output_type": "stream",
     "text": [
      "2025-01-22 21:54:04,154 data INFO {'Accuracy': 0.825, 'ROC_AUC_score': 0.9360613810741688, 'F1': 0.787878787878788, 'Precision': 0.8125, 'Recall': 0.7647058823529411}\n",
      "2025-01-22 21:54:04,154 data INFO {'Accuracy': 0.825, 'ROC_AUC_score': 0.9360613810741688, 'F1': 0.787878787878788, 'Precision': 0.8125, 'Recall': 0.7647058823529411}\n",
      "2025-01-22 21:54:04,155 data INFO {'Accuracy': 0.475, 'ROC_AUC_score': 0.9309462915601023, 'F1': 0.6181818181818182, 'Precision': 0.4473684210526316, 'Recall': 1.0}\n",
      "2025-01-22 21:54:04,155 data INFO {'Accuracy': 0.475, 'ROC_AUC_score': 0.9309462915601023, 'F1': 0.6181818181818182, 'Precision': 0.4473684210526316, 'Recall': 1.0}\n"
     ]
    },
    {
     "name": "stdout",
     "output_type": "stream",
     "text": [
      "\n",
      "Number of ZERO: 2256944;\n",
      "Percent of ZERO: 0.9566175937652588;\n",
      "        \n",
      "\n"
     ]
    },
    {
     "name": "stderr",
     "output_type": "stream",
     "text": [
      "2025-01-22 21:54:09,663 data INFO {'Accuracy': 0.825, 'ROC_AUC_score': 0.9360613810741688, 'F1': 0.787878787878788, 'Precision': 0.8125, 'Recall': 0.7647058823529411}\n",
      "2025-01-22 21:54:09,663 data INFO {'Accuracy': 0.825, 'ROC_AUC_score': 0.9360613810741688, 'F1': 0.787878787878788, 'Precision': 0.8125, 'Recall': 0.7647058823529411}\n",
      "2025-01-22 21:54:09,665 data INFO {'Accuracy': 0.775, 'ROC_AUC_score': 0.9616368286445013, 'F1': 0.7906976744186047, 'Precision': 0.6538461538461539, 'Recall': 1.0}\n",
      "2025-01-22 21:54:09,665 data INFO {'Accuracy': 0.775, 'ROC_AUC_score': 0.9616368286445013, 'F1': 0.7906976744186047, 'Precision': 0.6538461538461539, 'Recall': 1.0}\n"
     ]
    },
    {
     "name": "stdout",
     "output_type": "stream",
     "text": [
      "\n",
      "Number of ZERO: 2251034;\n",
      "Percent of ZERO: 0.9541125893592834;\n",
      "        \n",
      "\n"
     ]
    },
    {
     "name": "stderr",
     "output_type": "stream",
     "text": [
      "2025-01-22 21:54:14,534 data INFO {'Accuracy': 0.825, 'ROC_AUC_score': 0.9360613810741688, 'F1': 0.787878787878788, 'Precision': 0.8125, 'Recall': 0.7647058823529411}\n",
      "2025-01-22 21:54:14,534 data INFO {'Accuracy': 0.825, 'ROC_AUC_score': 0.9360613810741688, 'F1': 0.787878787878788, 'Precision': 0.8125, 'Recall': 0.7647058823529411}\n",
      "2025-01-22 21:54:14,535 data INFO {'Accuracy': 0.425, 'ROC_AUC_score': 0.9181585677749361, 'F1': 0.5964912280701754, 'Precision': 0.425, 'Recall': 1.0}\n",
      "2025-01-22 21:54:14,535 data INFO {'Accuracy': 0.425, 'ROC_AUC_score': 0.9181585677749361, 'F1': 0.5964912280701754, 'Precision': 0.425, 'Recall': 1.0}\n"
     ]
    },
    {
     "name": "stdout",
     "output_type": "stream",
     "text": [
      "\n",
      "Number of ZERO: 2253477;\n",
      "Percent of ZERO: 0.9551480412483215;\n",
      "        \n",
      "\n"
     ]
    },
    {
     "name": "stderr",
     "output_type": "stream",
     "text": [
      "2025-01-22 21:54:19,448 data INFO {'Accuracy': 0.825, 'ROC_AUC_score': 0.9360613810741688, 'F1': 0.787878787878788, 'Precision': 0.8125, 'Recall': 0.7647058823529411}\n",
      "2025-01-22 21:54:19,448 data INFO {'Accuracy': 0.825, 'ROC_AUC_score': 0.9360613810741688, 'F1': 0.787878787878788, 'Precision': 0.8125, 'Recall': 0.7647058823529411}\n",
      "2025-01-22 21:54:19,449 data INFO {'Accuracy': 0.875, 'ROC_AUC_score': 0.959079283887468, 'F1': 0.8484848484848485, 'Precision': 0.875, 'Recall': 0.8235294117647058}\n",
      "2025-01-22 21:54:19,449 data INFO {'Accuracy': 0.875, 'ROC_AUC_score': 0.959079283887468, 'F1': 0.8484848484848485, 'Precision': 0.875, 'Recall': 0.8235294117647058}\n"
     ]
    },
    {
     "name": "stdout",
     "output_type": "stream",
     "text": [
      "\n",
      "Number of ZERO: 562990;\n",
      "Percent of ZERO: 0.9545050859451294;\n",
      "        \n",
      "\n"
     ]
    },
    {
     "name": "stderr",
     "output_type": "stream",
     "text": [
      "2025-01-22 21:54:24,308 data INFO {'Accuracy': 0.825, 'ROC_AUC_score': 0.9360613810741688, 'F1': 0.787878787878788, 'Precision': 0.8125, 'Recall': 0.7647058823529411}\n",
      "2025-01-22 21:54:24,308 data INFO {'Accuracy': 0.825, 'ROC_AUC_score': 0.9360613810741688, 'F1': 0.787878787878788, 'Precision': 0.8125, 'Recall': 0.7647058823529411}\n",
      "2025-01-22 21:54:24,310 data INFO {'Accuracy': 0.45, 'ROC_AUC_score': 0.7416879795396419, 'F1': 0.6071428571428571, 'Precision': 0.4358974358974359, 'Recall': 1.0}\n",
      "2025-01-22 21:54:24,310 data INFO {'Accuracy': 0.45, 'ROC_AUC_score': 0.7416879795396419, 'F1': 0.6071428571428571, 'Precision': 0.4358974358974359, 'Recall': 1.0}\n"
     ]
    },
    {
     "name": "stdout",
     "output_type": "stream",
     "text": [
      "\n",
      "Number of ZERO: 2350280;\n",
      "Percent of ZERO: 0.9961785078048706;\n",
      "        \n",
      "\n"
     ]
    },
    {
     "name": "stderr",
     "output_type": "stream",
     "text": [
      "2025-01-22 21:54:29,887 data INFO {'Accuracy': 0.825, 'ROC_AUC_score': 0.9360613810741688, 'F1': 0.787878787878788, 'Precision': 0.8125, 'Recall': 0.7647058823529411}\n",
      "2025-01-22 21:54:29,887 data INFO {'Accuracy': 0.825, 'ROC_AUC_score': 0.9360613810741688, 'F1': 0.787878787878788, 'Precision': 0.8125, 'Recall': 0.7647058823529411}\n",
      "2025-01-22 21:54:29,888 data INFO {'Accuracy': 0.75, 'ROC_AUC_score': 0.9156010230179028, 'F1': 0.6666666666666667, 'Precision': 0.7692307692307693, 'Recall': 0.5882352941176471}\n",
      "2025-01-22 21:54:29,888 data INFO {'Accuracy': 0.75, 'ROC_AUC_score': 0.9156010230179028, 'F1': 0.6666666666666667, 'Precision': 0.7692307692307693, 'Recall': 0.5882352941176471}\n"
     ]
    },
    {
     "name": "stdout",
     "output_type": "stream",
     "text": [
      "\n",
      "Number of ZERO: 2346491;\n",
      "Percent of ZERO: 0.9945725202560425;\n",
      "        \n",
      "\n"
     ]
    },
    {
     "name": "stderr",
     "output_type": "stream",
     "text": [
      "2025-01-22 21:54:35,512 data INFO {'Accuracy': 0.825, 'ROC_AUC_score': 0.9360613810741688, 'F1': 0.787878787878788, 'Precision': 0.8125, 'Recall': 0.7647058823529411}\n",
      "2025-01-22 21:54:35,512 data INFO {'Accuracy': 0.825, 'ROC_AUC_score': 0.9360613810741688, 'F1': 0.787878787878788, 'Precision': 0.8125, 'Recall': 0.7647058823529411}\n",
      "2025-01-22 21:54:35,513 data INFO {'Accuracy': 0.825, 'ROC_AUC_score': 0.8849104859335039, 'F1': 0.787878787878788, 'Precision': 0.8125, 'Recall': 0.7647058823529411}\n",
      "2025-01-22 21:54:35,513 data INFO {'Accuracy': 0.825, 'ROC_AUC_score': 0.8849104859335039, 'F1': 0.787878787878788, 'Precision': 0.8125, 'Recall': 0.7647058823529411}\n"
     ]
    },
    {
     "name": "stdout",
     "output_type": "stream",
     "text": [
      "\n",
      "Number of ZERO: 2349641;\n",
      "Percent of ZERO: 0.9959076642990112;\n",
      "        \n",
      "\n"
     ]
    },
    {
     "name": "stderr",
     "output_type": "stream",
     "text": [
      "2025-01-22 21:54:41,088 data INFO {'Accuracy': 0.825, 'ROC_AUC_score': 0.9360613810741688, 'F1': 0.787878787878788, 'Precision': 0.8125, 'Recall': 0.7647058823529411}\n",
      "2025-01-22 21:54:41,088 data INFO {'Accuracy': 0.825, 'ROC_AUC_score': 0.9360613810741688, 'F1': 0.787878787878788, 'Precision': 0.8125, 'Recall': 0.7647058823529411}\n",
      "2025-01-22 21:54:41,089 data INFO {'Accuracy': 0.4, 'ROC_AUC_score': 0.5166240409207161, 'F1': 0.5384615384615384, 'Precision': 0.4, 'Recall': 0.8235294117647058}\n",
      "2025-01-22 21:54:41,089 data INFO {'Accuracy': 0.4, 'ROC_AUC_score': 0.5166240409207161, 'F1': 0.5384615384615384, 'Precision': 0.4, 'Recall': 0.8235294117647058}\n"
     ]
    },
    {
     "name": "stdout",
     "output_type": "stream",
     "text": [
      "\n",
      "Number of ZERO: 2346679;\n",
      "Percent of ZERO: 0.9946522116661072;\n",
      "        \n",
      "\n"
     ]
    },
    {
     "name": "stderr",
     "output_type": "stream",
     "text": [
      "2025-01-22 21:54:46,097 data INFO {'Accuracy': 0.825, 'ROC_AUC_score': 0.9360613810741688, 'F1': 0.787878787878788, 'Precision': 0.8125, 'Recall': 0.7647058823529411}\n",
      "2025-01-22 21:54:46,097 data INFO {'Accuracy': 0.825, 'ROC_AUC_score': 0.9360613810741688, 'F1': 0.787878787878788, 'Precision': 0.8125, 'Recall': 0.7647058823529411}\n",
      "2025-01-22 21:54:46,097 data INFO {'Accuracy': 0.8, 'ROC_AUC_score': 0.8797953964194374, 'F1': 0.7647058823529412, 'Precision': 0.7647058823529411, 'Recall': 0.7647058823529411}\n",
      "2025-01-22 21:54:46,097 data INFO {'Accuracy': 0.8, 'ROC_AUC_score': 0.8797953964194374, 'F1': 0.7647058823529412, 'Precision': 0.7647058823529411, 'Recall': 0.7647058823529411}\n"
     ]
    },
    {
     "name": "stdout",
     "output_type": "stream",
     "text": [
      "\n",
      "Number of ZERO: 2349800;\n",
      "Percent of ZERO: 0.9959750771522522;\n",
      "        \n",
      "\n"
     ]
    },
    {
     "name": "stderr",
     "output_type": "stream",
     "text": [
      "2025-01-22 21:54:51,384 data INFO {'Accuracy': 0.825, 'ROC_AUC_score': 0.9360613810741688, 'F1': 0.787878787878788, 'Precision': 0.8125, 'Recall': 0.7647058823529411}\n",
      "2025-01-22 21:54:51,384 data INFO {'Accuracy': 0.825, 'ROC_AUC_score': 0.9360613810741688, 'F1': 0.787878787878788, 'Precision': 0.8125, 'Recall': 0.7647058823529411}\n",
      "2025-01-22 21:54:51,385 data INFO {'Accuracy': 0.425, 'ROC_AUC_score': 0.6112531969309463, 'F1': 0.5964912280701754, 'Precision': 0.425, 'Recall': 1.0}\n",
      "2025-01-22 21:54:51,385 data INFO {'Accuracy': 0.425, 'ROC_AUC_score': 0.6112531969309463, 'F1': 0.5964912280701754, 'Precision': 0.425, 'Recall': 1.0}\n"
     ]
    },
    {
     "name": "stdout",
     "output_type": "stream",
     "text": [
      "\n",
      "Number of ZERO: 2345588;\n",
      "Percent of ZERO: 0.9941897988319397;\n",
      "        \n",
      "\n"
     ]
    },
    {
     "name": "stderr",
     "output_type": "stream",
     "text": [
      "2025-01-22 21:54:56,315 data INFO {'Accuracy': 0.825, 'ROC_AUC_score': 0.9360613810741688, 'F1': 0.787878787878788, 'Precision': 0.8125, 'Recall': 0.7647058823529411}\n",
      "2025-01-22 21:54:56,315 data INFO {'Accuracy': 0.825, 'ROC_AUC_score': 0.9360613810741688, 'F1': 0.787878787878788, 'Precision': 0.8125, 'Recall': 0.7647058823529411}\n",
      "2025-01-22 21:54:56,317 data INFO {'Accuracy': 0.75, 'ROC_AUC_score': 0.8721227621483376, 'F1': 0.6428571428571428, 'Precision': 0.8181818181818182, 'Recall': 0.5294117647058824}\n",
      "2025-01-22 21:54:56,317 data INFO {'Accuracy': 0.75, 'ROC_AUC_score': 0.8721227621483376, 'F1': 0.6428571428571428, 'Precision': 0.8181818181818182, 'Recall': 0.5294117647058824}\n"
     ]
    },
    {
     "name": "stdout",
     "output_type": "stream",
     "text": [
      "\n",
      "Number of ZERO: 2349219;\n",
      "Percent of ZERO: 0.9957287907600403;\n",
      "        \n",
      "\n"
     ]
    },
    {
     "name": "stderr",
     "output_type": "stream",
     "text": [
      "C:\\Users\\Alex\\anaconda\\Lib\\site-packages\\sklearn\\metrics\\_classification.py:1469: UndefinedMetricWarning: Precision is ill-defined and being set to 0.0 due to no predicted samples. Use `zero_division` parameter to control this behavior.\n",
      "  _warn_prf(average, modifier, msg_start, len(result))\n",
      "2025-01-22 21:55:01,439 data INFO {'Accuracy': 0.825, 'ROC_AUC_score': 0.9360613810741688, 'F1': 0.787878787878788, 'Precision': 0.8125, 'Recall': 0.7647058823529411}\n",
      "2025-01-22 21:55:01,439 data INFO {'Accuracy': 0.825, 'ROC_AUC_score': 0.9360613810741688, 'F1': 0.787878787878788, 'Precision': 0.8125, 'Recall': 0.7647058823529411}\n",
      "2025-01-22 21:55:01,441 data INFO {'Accuracy': 0.575, 'ROC_AUC_score': 0.7365728900255755, 'F1': 0.0, 'Precision': 0.0, 'Recall': 0.0}\n",
      "2025-01-22 21:55:01,441 data INFO {'Accuracy': 0.575, 'ROC_AUC_score': 0.7365728900255755, 'F1': 0.0, 'Precision': 0.0, 'Recall': 0.0}\n"
     ]
    },
    {
     "name": "stdout",
     "output_type": "stream",
     "text": [
      "\n",
      "Number of ZERO: 2346659;\n",
      "Percent of ZERO: 0.9946437478065491;\n",
      "        \n",
      "\n"
     ]
    },
    {
     "name": "stderr",
     "output_type": "stream",
     "text": [
      "2025-01-22 21:55:06,462 data INFO {'Accuracy': 0.825, 'ROC_AUC_score': 0.9360613810741688, 'F1': 0.787878787878788, 'Precision': 0.8125, 'Recall': 0.7647058823529411}\n",
      "2025-01-22 21:55:06,462 data INFO {'Accuracy': 0.825, 'ROC_AUC_score': 0.9360613810741688, 'F1': 0.787878787878788, 'Precision': 0.8125, 'Recall': 0.7647058823529411}\n",
      "2025-01-22 21:55:06,464 data INFO {'Accuracy': 0.75, 'ROC_AUC_score': 0.9002557544757033, 'F1': 0.6875, 'Precision': 0.7333333333333333, 'Recall': 0.6470588235294118}\n",
      "2025-01-22 21:55:06,464 data INFO {'Accuracy': 0.75, 'ROC_AUC_score': 0.9002557544757033, 'F1': 0.6875, 'Precision': 0.7333333333333333, 'Recall': 0.6470588235294118}\n"
     ]
    },
    {
     "name": "stdout",
     "output_type": "stream",
     "text": [
      "\n",
      "Number of ZERO: 2348815;\n",
      "Percent of ZERO: 0.9955576062202454;\n",
      "        \n",
      "\n"
     ]
    },
    {
     "name": "stderr",
     "output_type": "stream",
     "text": [
      "C:\\Users\\Alex\\anaconda\\Lib\\site-packages\\sklearn\\metrics\\_classification.py:1469: UndefinedMetricWarning: Precision is ill-defined and being set to 0.0 due to no predicted samples. Use `zero_division` parameter to control this behavior.\n",
      "  _warn_prf(average, modifier, msg_start, len(result))\n",
      "2025-01-22 21:55:11,665 data INFO {'Accuracy': 0.825, 'ROC_AUC_score': 0.9360613810741688, 'F1': 0.787878787878788, 'Precision': 0.8125, 'Recall': 0.7647058823529411}\n",
      "2025-01-22 21:55:11,665 data INFO {'Accuracy': 0.825, 'ROC_AUC_score': 0.9360613810741688, 'F1': 0.787878787878788, 'Precision': 0.8125, 'Recall': 0.7647058823529411}\n",
      "2025-01-22 21:55:11,667 data INFO {'Accuracy': 0.575, 'ROC_AUC_score': 0.6521739130434783, 'F1': 0.0, 'Precision': 0.0, 'Recall': 0.0}\n",
      "2025-01-22 21:55:11,667 data INFO {'Accuracy': 0.575, 'ROC_AUC_score': 0.6521739130434783, 'F1': 0.0, 'Precision': 0.0, 'Recall': 0.0}\n"
     ]
    },
    {
     "name": "stdout",
     "output_type": "stream",
     "text": [
      "\n",
      "Number of ZERO: 2343917;\n",
      "Percent of ZERO: 0.9934815168380737;\n",
      "        \n",
      "\n"
     ]
    },
    {
     "name": "stderr",
     "output_type": "stream",
     "text": [
      "2025-01-22 21:55:16,739 data INFO {'Accuracy': 0.825, 'ROC_AUC_score': 0.9360613810741688, 'F1': 0.787878787878788, 'Precision': 0.8125, 'Recall': 0.7647058823529411}\n",
      "2025-01-22 21:55:16,739 data INFO {'Accuracy': 0.825, 'ROC_AUC_score': 0.9360613810741688, 'F1': 0.787878787878788, 'Precision': 0.8125, 'Recall': 0.7647058823529411}\n",
      "2025-01-22 21:55:16,740 data INFO {'Accuracy': 0.775, 'ROC_AUC_score': 0.9104859335038363, 'F1': 0.7096774193548386, 'Precision': 0.7857142857142857, 'Recall': 0.6470588235294118}\n",
      "2025-01-22 21:55:16,740 data INFO {'Accuracy': 0.775, 'ROC_AUC_score': 0.9104859335038363, 'F1': 0.7096774193548386, 'Precision': 0.7857142857142857, 'Recall': 0.6470588235294118}\n"
     ]
    },
    {
     "name": "stdout",
     "output_type": "stream",
     "text": [
      "\n",
      "Number of ZERO: 2348571;\n",
      "Percent of ZERO: 0.9954541325569153;\n",
      "        \n",
      "\n"
     ]
    },
    {
     "name": "stderr",
     "output_type": "stream",
     "text": [
      "2025-01-22 21:55:22,199 data INFO {'Accuracy': 0.825, 'ROC_AUC_score': 0.9360613810741688, 'F1': 0.787878787878788, 'Precision': 0.8125, 'Recall': 0.7647058823529411}\n",
      "2025-01-22 21:55:22,199 data INFO {'Accuracy': 0.825, 'ROC_AUC_score': 0.9360613810741688, 'F1': 0.787878787878788, 'Precision': 0.8125, 'Recall': 0.7647058823529411}\n",
      "2025-01-22 21:55:22,201 data INFO {'Accuracy': 0.425, 'ROC_AUC_score': 0.7570332480818415, 'F1': 0.5964912280701754, 'Precision': 0.425, 'Recall': 1.0}\n",
      "2025-01-22 21:55:22,201 data INFO {'Accuracy': 0.425, 'ROC_AUC_score': 0.7570332480818415, 'F1': 0.5964912280701754, 'Precision': 0.425, 'Recall': 1.0}\n"
     ]
    },
    {
     "name": "stdout",
     "output_type": "stream",
     "text": [
      "\n",
      "Number of ZERO: 2343157;\n",
      "Percent of ZERO: 0.9931594133377075;\n",
      "        \n",
      "\n"
     ]
    },
    {
     "name": "stderr",
     "output_type": "stream",
     "text": [
      "2025-01-22 21:55:28,583 data INFO {'Accuracy': 0.825, 'ROC_AUC_score': 0.9360613810741688, 'F1': 0.787878787878788, 'Precision': 0.8125, 'Recall': 0.7647058823529411}\n",
      "2025-01-22 21:55:28,583 data INFO {'Accuracy': 0.825, 'ROC_AUC_score': 0.9360613810741688, 'F1': 0.787878787878788, 'Precision': 0.8125, 'Recall': 0.7647058823529411}\n",
      "2025-01-22 21:55:28,584 data INFO {'Accuracy': 0.775, 'ROC_AUC_score': 0.9104859335038362, 'F1': 0.7567567567567567, 'Precision': 0.7, 'Recall': 0.8235294117647058}\n",
      "2025-01-22 21:55:28,584 data INFO {'Accuracy': 0.775, 'ROC_AUC_score': 0.9104859335038362, 'F1': 0.7567567567567567, 'Precision': 0.7, 'Recall': 0.8235294117647058}\n"
     ]
    },
    {
     "name": "stdout",
     "output_type": "stream",
     "text": [
      "\n",
      "Number of ZERO: 2348986;\n",
      "Percent of ZERO: 0.9956300854682922;\n",
      "        \n",
      "\n"
     ]
    },
    {
     "name": "stderr",
     "output_type": "stream",
     "text": [
      "C:\\Users\\Alex\\anaconda\\Lib\\site-packages\\sklearn\\metrics\\_classification.py:1469: UndefinedMetricWarning: Precision is ill-defined and being set to 0.0 due to no predicted samples. Use `zero_division` parameter to control this behavior.\n",
      "  _warn_prf(average, modifier, msg_start, len(result))\n",
      "2025-01-22 21:55:33,784 data INFO {'Accuracy': 0.825, 'ROC_AUC_score': 0.9360613810741688, 'F1': 0.787878787878788, 'Precision': 0.8125, 'Recall': 0.7647058823529411}\n",
      "2025-01-22 21:55:33,784 data INFO {'Accuracy': 0.825, 'ROC_AUC_score': 0.9360613810741688, 'F1': 0.787878787878788, 'Precision': 0.8125, 'Recall': 0.7647058823529411}\n",
      "2025-01-22 21:55:33,786 data INFO {'Accuracy': 0.575, 'ROC_AUC_score': 0.6624040920716112, 'F1': 0.0, 'Precision': 0.0, 'Recall': 0.0}\n",
      "2025-01-22 21:55:33,786 data INFO {'Accuracy': 0.575, 'ROC_AUC_score': 0.6624040920716112, 'F1': 0.0, 'Precision': 0.0, 'Recall': 0.0}\n"
     ]
    },
    {
     "name": "stdout",
     "output_type": "stream",
     "text": [
      "\n",
      "Number of ZERO: 2344131;\n",
      "Percent of ZERO: 0.9935722351074219;\n",
      "        \n",
      "\n"
     ]
    },
    {
     "name": "stderr",
     "output_type": "stream",
     "text": [
      "2025-01-22 21:55:39,681 data INFO {'Accuracy': 0.825, 'ROC_AUC_score': 0.9360613810741688, 'F1': 0.787878787878788, 'Precision': 0.8125, 'Recall': 0.7647058823529411}\n",
      "2025-01-22 21:55:39,681 data INFO {'Accuracy': 0.825, 'ROC_AUC_score': 0.9360613810741688, 'F1': 0.787878787878788, 'Precision': 0.8125, 'Recall': 0.7647058823529411}\n",
      "2025-01-22 21:55:39,681 data INFO {'Accuracy': 0.8, 'ROC_AUC_score': 0.9053708439897699, 'F1': 0.7647058823529412, 'Precision': 0.7647058823529411, 'Recall': 0.7647058823529411}\n",
      "2025-01-22 21:55:39,681 data INFO {'Accuracy': 0.8, 'ROC_AUC_score': 0.9053708439897699, 'F1': 0.7647058823529412, 'Precision': 0.7647058823529411, 'Recall': 0.7647058823529411}\n"
     ]
    },
    {
     "name": "stdout",
     "output_type": "stream",
     "text": [
      "\n",
      "Number of ZERO: 2350110;\n",
      "Percent of ZERO: 0.9961064457893372;\n",
      "        \n",
      "\n"
     ]
    },
    {
     "name": "stderr",
     "output_type": "stream",
     "text": [
      "2025-01-22 21:55:45,064 data INFO {'Accuracy': 0.825, 'ROC_AUC_score': 0.9360613810741688, 'F1': 0.787878787878788, 'Precision': 0.8125, 'Recall': 0.7647058823529411}\n",
      "2025-01-22 21:55:45,064 data INFO {'Accuracy': 0.825, 'ROC_AUC_score': 0.9360613810741688, 'F1': 0.787878787878788, 'Precision': 0.8125, 'Recall': 0.7647058823529411}\n",
      "2025-01-22 21:55:45,066 data INFO {'Accuracy': 0.825, 'ROC_AUC_score': 0.9207161125319694, 'F1': 0.8108108108108107, 'Precision': 0.75, 'Recall': 0.8823529411764706}\n",
      "2025-01-22 21:55:45,066 data INFO {'Accuracy': 0.825, 'ROC_AUC_score': 0.9207161125319694, 'F1': 0.8108108108108107, 'Precision': 0.75, 'Recall': 0.8823529411764706}\n"
     ]
    },
    {
     "name": "stdout",
     "output_type": "stream",
     "text": [
      "\n",
      "Number of ZERO: 2346324;\n",
      "Percent of ZERO: 0.9945017695426941;\n",
      "        \n",
      "\n"
     ]
    },
    {
     "name": "stderr",
     "output_type": "stream",
     "text": [
      "2025-01-22 21:55:50,154 data INFO {'Accuracy': 0.825, 'ROC_AUC_score': 0.9360613810741688, 'F1': 0.787878787878788, 'Precision': 0.8125, 'Recall': 0.7647058823529411}\n",
      "2025-01-22 21:55:50,154 data INFO {'Accuracy': 0.825, 'ROC_AUC_score': 0.9360613810741688, 'F1': 0.787878787878788, 'Precision': 0.8125, 'Recall': 0.7647058823529411}\n",
      "2025-01-22 21:55:50,155 data INFO {'Accuracy': 0.825, 'ROC_AUC_score': 0.9309462915601023, 'F1': 0.7407407407407407, 'Precision': 1.0, 'Recall': 0.5882352941176471}\n",
      "2025-01-22 21:55:50,155 data INFO {'Accuracy': 0.825, 'ROC_AUC_score': 0.9309462915601023, 'F1': 0.7407407407407407, 'Precision': 1.0, 'Recall': 0.5882352941176471}\n"
     ]
    },
    {
     "name": "stdout",
     "output_type": "stream",
     "text": [
      "\n",
      "Number of ZERO: 2351195;\n",
      "Percent of ZERO: 0.9965663552284241;\n",
      "        \n",
      "\n"
     ]
    },
    {
     "name": "stderr",
     "output_type": "stream",
     "text": [
      "2025-01-22 21:55:55,987 data INFO {'Accuracy': 0.825, 'ROC_AUC_score': 0.9360613810741688, 'F1': 0.787878787878788, 'Precision': 0.8125, 'Recall': 0.7647058823529411}\n",
      "2025-01-22 21:55:55,987 data INFO {'Accuracy': 0.825, 'ROC_AUC_score': 0.9360613810741688, 'F1': 0.787878787878788, 'Precision': 0.8125, 'Recall': 0.7647058823529411}\n",
      "2025-01-22 21:55:55,988 data INFO {'Accuracy': 0.8, 'ROC_AUC_score': 0.8925831202046035, 'F1': 0.7333333333333334, 'Precision': 0.8461538461538461, 'Recall': 0.6470588235294118}\n",
      "2025-01-22 21:55:55,988 data INFO {'Accuracy': 0.8, 'ROC_AUC_score': 0.8925831202046035, 'F1': 0.7333333333333334, 'Precision': 0.8461538461538461, 'Recall': 0.6470588235294118}\n"
     ]
    },
    {
     "name": "stdout",
     "output_type": "stream",
     "text": [
      "\n",
      "Number of ZERO: 2348064;\n",
      "Percent of ZERO: 0.9952392578125;\n",
      "        \n",
      "\n"
     ]
    },
    {
     "name": "stderr",
     "output_type": "stream",
     "text": [
      "2025-01-22 21:56:01,491 data INFO {'Accuracy': 0.825, 'ROC_AUC_score': 0.9360613810741688, 'F1': 0.787878787878788, 'Precision': 0.8125, 'Recall': 0.7647058823529411}\n",
      "2025-01-22 21:56:01,491 data INFO {'Accuracy': 0.825, 'ROC_AUC_score': 0.9360613810741688, 'F1': 0.787878787878788, 'Precision': 0.8125, 'Recall': 0.7647058823529411}\n",
      "2025-01-22 21:56:01,492 data INFO {'Accuracy': 0.625, 'ROC_AUC_score': 0.8900255754475703, 'F1': 0.21052631578947367, 'Precision': 1.0, 'Recall': 0.11764705882352941}\n",
      "2025-01-22 21:56:01,492 data INFO {'Accuracy': 0.625, 'ROC_AUC_score': 0.8900255754475703, 'F1': 0.21052631578947367, 'Precision': 1.0, 'Recall': 0.11764705882352941}\n"
     ]
    },
    {
     "name": "stdout",
     "output_type": "stream",
     "text": [
      "\n",
      "Number of ZERO: 2351250;\n",
      "Percent of ZERO: 0.9965896606445312;\n",
      "        \n",
      "\n"
     ]
    },
    {
     "name": "stderr",
     "output_type": "stream",
     "text": [
      "2025-01-22 21:56:06,683 data INFO {'Accuracy': 0.825, 'ROC_AUC_score': 0.9360613810741688, 'F1': 0.787878787878788, 'Precision': 0.8125, 'Recall': 0.7647058823529411}\n",
      "2025-01-22 21:56:06,683 data INFO {'Accuracy': 0.825, 'ROC_AUC_score': 0.9360613810741688, 'F1': 0.787878787878788, 'Precision': 0.8125, 'Recall': 0.7647058823529411}\n",
      "2025-01-22 21:56:06,685 data INFO {'Accuracy': 0.8, 'ROC_AUC_score': 0.9232736572890026, 'F1': 0.7333333333333334, 'Precision': 0.8461538461538461, 'Recall': 0.6470588235294118}\n",
      "2025-01-22 21:56:06,685 data INFO {'Accuracy': 0.8, 'ROC_AUC_score': 0.9232736572890026, 'F1': 0.7333333333333334, 'Precision': 0.8461538461538461, 'Recall': 0.6470588235294118}\n"
     ]
    },
    {
     "name": "stdout",
     "output_type": "stream",
     "text": [
      "\n",
      "Number of ZERO: 2349047;\n",
      "Percent of ZERO: 0.99565589427948;\n",
      "        \n",
      "\n"
     ]
    },
    {
     "name": "stderr",
     "output_type": "stream",
     "text": [
      "2025-01-22 21:56:11,962 data INFO {'Accuracy': 0.825, 'ROC_AUC_score': 0.9360613810741688, 'F1': 0.787878787878788, 'Precision': 0.8125, 'Recall': 0.7647058823529411}\n",
      "2025-01-22 21:56:11,962 data INFO {'Accuracy': 0.825, 'ROC_AUC_score': 0.9360613810741688, 'F1': 0.787878787878788, 'Precision': 0.8125, 'Recall': 0.7647058823529411}\n",
      "2025-01-22 21:56:11,963 data INFO {'Accuracy': 0.75, 'ROC_AUC_score': 0.928388746803069, 'F1': 0.7727272727272727, 'Precision': 0.6296296296296297, 'Recall': 1.0}\n",
      "2025-01-22 21:56:11,963 data INFO {'Accuracy': 0.75, 'ROC_AUC_score': 0.928388746803069, 'F1': 0.7727272727272727, 'Precision': 0.6296296296296297, 'Recall': 1.0}\n"
     ]
    },
    {
     "name": "stdout",
     "output_type": "stream",
     "text": [
      "\n",
      "Number of ZERO: 2352281;\n",
      "Percent of ZERO: 0.9970266819000244;\n",
      "        \n",
      "\n"
     ]
    },
    {
     "name": "stderr",
     "output_type": "stream",
     "text": [
      "2025-01-22 21:56:17,055 data INFO {'Accuracy': 0.825, 'ROC_AUC_score': 0.9360613810741688, 'F1': 0.787878787878788, 'Precision': 0.8125, 'Recall': 0.7647058823529411}\n",
      "2025-01-22 21:56:17,055 data INFO {'Accuracy': 0.825, 'ROC_AUC_score': 0.9360613810741688, 'F1': 0.787878787878788, 'Precision': 0.8125, 'Recall': 0.7647058823529411}\n",
      "2025-01-22 21:56:17,057 data INFO {'Accuracy': 0.825, 'ROC_AUC_score': 0.9130434782608696, 'F1': 0.7999999999999999, 'Precision': 0.7777777777777778, 'Recall': 0.8235294117647058}\n",
      "2025-01-22 21:56:17,057 data INFO {'Accuracy': 0.825, 'ROC_AUC_score': 0.9130434782608696, 'F1': 0.7999999999999999, 'Precision': 0.7777777777777778, 'Recall': 0.8235294117647058}\n"
     ]
    },
    {
     "name": "stdout",
     "output_type": "stream",
     "text": [
      "\n",
      "Number of ZERO: 2351563;\n",
      "Percent of ZERO: 0.9967223405838013;\n",
      "        \n",
      "\n"
     ]
    },
    {
     "name": "stderr",
     "output_type": "stream",
     "text": [
      "2025-01-22 21:56:22,283 data INFO {'Accuracy': 0.825, 'ROC_AUC_score': 0.9360613810741688, 'F1': 0.787878787878788, 'Precision': 0.8125, 'Recall': 0.7647058823529411}\n",
      "2025-01-22 21:56:22,283 data INFO {'Accuracy': 0.825, 'ROC_AUC_score': 0.9360613810741688, 'F1': 0.787878787878788, 'Precision': 0.8125, 'Recall': 0.7647058823529411}\n",
      "2025-01-22 21:56:22,284 data INFO {'Accuracy': 0.85, 'ROC_AUC_score': 0.9130434782608695, 'F1': 0.85, 'Precision': 0.7391304347826086, 'Recall': 1.0}\n",
      "2025-01-22 21:56:22,284 data INFO {'Accuracy': 0.85, 'ROC_AUC_score': 0.9130434782608695, 'F1': 0.85, 'Precision': 0.7391304347826086, 'Recall': 1.0}\n"
     ]
    },
    {
     "name": "stdout",
     "output_type": "stream",
     "text": [
      "\n",
      "Number of ZERO: 2352283;\n",
      "Percent of ZERO: 0.9970275163650513;\n",
      "        \n",
      "\n"
     ]
    },
    {
     "name": "stderr",
     "output_type": "stream",
     "text": [
      "2025-01-22 21:56:27,300 data INFO {'Accuracy': 0.825, 'ROC_AUC_score': 0.9360613810741688, 'F1': 0.787878787878788, 'Precision': 0.8125, 'Recall': 0.7647058823529411}\n",
      "2025-01-22 21:56:27,300 data INFO {'Accuracy': 0.825, 'ROC_AUC_score': 0.9360613810741688, 'F1': 0.787878787878788, 'Precision': 0.8125, 'Recall': 0.7647058823529411}\n",
      "2025-01-22 21:56:27,301 data INFO {'Accuracy': 0.7, 'ROC_AUC_score': 0.9130434782608696, 'F1': 0.7391304347826086, 'Precision': 0.5862068965517241, 'Recall': 1.0}\n",
      "2025-01-22 21:56:27,301 data INFO {'Accuracy': 0.7, 'ROC_AUC_score': 0.9130434782608696, 'F1': 0.7391304347826086, 'Precision': 0.5862068965517241, 'Recall': 1.0}\n"
     ]
    },
    {
     "name": "stdout",
     "output_type": "stream",
     "text": [
      "\n",
      "Number of ZERO: 2351641;\n",
      "Percent of ZERO: 0.9967554211616516;\n",
      "        \n",
      "\n"
     ]
    },
    {
     "name": "stderr",
     "output_type": "stream",
     "text": [
      "2025-01-22 21:56:32,365 data INFO {'Accuracy': 0.825, 'ROC_AUC_score': 0.9360613810741688, 'F1': 0.787878787878788, 'Precision': 0.8125, 'Recall': 0.7647058823529411}\n",
      "2025-01-22 21:56:32,365 data INFO {'Accuracy': 0.825, 'ROC_AUC_score': 0.9360613810741688, 'F1': 0.787878787878788, 'Precision': 0.8125, 'Recall': 0.7647058823529411}\n",
      "2025-01-22 21:56:32,367 data INFO {'Accuracy': 0.875, 'ROC_AUC_score': 0.9156010230179028, 'F1': 0.8717948717948718, 'Precision': 0.7727272727272727, 'Recall': 1.0}\n",
      "2025-01-22 21:56:32,367 data INFO {'Accuracy': 0.875, 'ROC_AUC_score': 0.9156010230179028, 'F1': 0.8717948717948718, 'Precision': 0.7727272727272727, 'Recall': 1.0}\n"
     ]
    },
    {
     "name": "stdout",
     "output_type": "stream",
     "text": [
      "\n",
      "Number of ZERO: 581085;\n",
      "Percent of ZERO: 0.9851837158203125;\n",
      "        \n",
      "\n"
     ]
    },
    {
     "name": "stderr",
     "output_type": "stream",
     "text": [
      "2025-01-22 21:56:37,478 data INFO {'Accuracy': 0.825, 'ROC_AUC_score': 0.9360613810741688, 'F1': 0.787878787878788, 'Precision': 0.8125, 'Recall': 0.7647058823529411}\n",
      "2025-01-22 21:56:37,478 data INFO {'Accuracy': 0.825, 'ROC_AUC_score': 0.9360613810741688, 'F1': 0.787878787878788, 'Precision': 0.8125, 'Recall': 0.7647058823529411}\n",
      "2025-01-22 21:56:37,479 data INFO {'Accuracy': 0.425, 'ROC_AUC_score': 0.8209718670076727, 'F1': 0.5964912280701754, 'Precision': 0.425, 'Recall': 1.0}\n",
      "2025-01-22 21:56:37,479 data INFO {'Accuracy': 0.425, 'ROC_AUC_score': 0.8209718670076727, 'F1': 0.5964912280701754, 'Precision': 0.425, 'Recall': 1.0}\n"
     ]
    },
    {
     "name": "stdout",
     "output_type": "stream",
     "text": [
      "\n",
      "Number of ZERO: 2350280;\n",
      "Percent of ZERO: 0.9961785078048706;\n",
      "        \n",
      "\n"
     ]
    },
    {
     "name": "stderr",
     "output_type": "stream",
     "text": [
      "2025-01-22 21:56:42,668 data INFO {'Accuracy': 0.825, 'ROC_AUC_score': 0.9360613810741688, 'F1': 0.787878787878788, 'Precision': 0.8125, 'Recall': 0.7647058823529411}\n",
      "2025-01-22 21:56:42,668 data INFO {'Accuracy': 0.825, 'ROC_AUC_score': 0.9360613810741688, 'F1': 0.787878787878788, 'Precision': 0.8125, 'Recall': 0.7647058823529411}\n",
      "2025-01-22 21:56:42,669 data INFO {'Accuracy': 0.775, 'ROC_AUC_score': 0.9156010230179028, 'F1': 0.7096774193548386, 'Precision': 0.7857142857142857, 'Recall': 0.6470588235294118}\n",
      "2025-01-22 21:56:42,669 data INFO {'Accuracy': 0.775, 'ROC_AUC_score': 0.9156010230179028, 'F1': 0.7096774193548386, 'Precision': 0.7857142857142857, 'Recall': 0.6470588235294118}\n"
     ]
    },
    {
     "name": "stdout",
     "output_type": "stream",
     "text": [
      "\n",
      "Number of ZERO: 2346491;\n",
      "Percent of ZERO: 0.9945725202560425;\n",
      "        \n",
      "\n"
     ]
    },
    {
     "name": "stderr",
     "output_type": "stream",
     "text": [
      "2025-01-22 21:56:47,898 data INFO {'Accuracy': 0.825, 'ROC_AUC_score': 0.9360613810741688, 'F1': 0.787878787878788, 'Precision': 0.8125, 'Recall': 0.7647058823529411}\n",
      "2025-01-22 21:56:47,898 data INFO {'Accuracy': 0.825, 'ROC_AUC_score': 0.9360613810741688, 'F1': 0.787878787878788, 'Precision': 0.8125, 'Recall': 0.7647058823529411}\n",
      "2025-01-22 21:56:47,900 data INFO {'Accuracy': 0.85, 'ROC_AUC_score': 0.8874680306905371, 'F1': 0.8235294117647058, 'Precision': 0.8235294117647058, 'Recall': 0.8235294117647058}\n",
      "2025-01-22 21:56:47,900 data INFO {'Accuracy': 0.85, 'ROC_AUC_score': 0.8874680306905371, 'F1': 0.8235294117647058, 'Precision': 0.8235294117647058, 'Recall': 0.8235294117647058}\n"
     ]
    },
    {
     "name": "stdout",
     "output_type": "stream",
     "text": [
      "\n",
      "Number of ZERO: 2349641;\n",
      "Percent of ZERO: 0.9959076642990112;\n",
      "        \n",
      "\n"
     ]
    },
    {
     "name": "stderr",
     "output_type": "stream",
     "text": [
      "2025-01-22 21:56:52,869 data INFO {'Accuracy': 0.825, 'ROC_AUC_score': 0.9360613810741688, 'F1': 0.787878787878788, 'Precision': 0.8125, 'Recall': 0.7647058823529411}\n",
      "2025-01-22 21:56:52,869 data INFO {'Accuracy': 0.825, 'ROC_AUC_score': 0.9360613810741688, 'F1': 0.787878787878788, 'Precision': 0.8125, 'Recall': 0.7647058823529411}\n",
      "2025-01-22 21:56:52,870 data INFO {'Accuracy': 0.45, 'ROC_AUC_score': 0.5447570332480818, 'F1': 0.5925925925925927, 'Precision': 0.43243243243243246, 'Recall': 0.9411764705882353}\n",
      "2025-01-22 21:56:52,870 data INFO {'Accuracy': 0.45, 'ROC_AUC_score': 0.5447570332480818, 'F1': 0.5925925925925927, 'Precision': 0.43243243243243246, 'Recall': 0.9411764705882353}\n"
     ]
    },
    {
     "name": "stdout",
     "output_type": "stream",
     "text": [
      "\n",
      "Number of ZERO: 2346679;\n",
      "Percent of ZERO: 0.9946522116661072;\n",
      "        \n",
      "\n"
     ]
    },
    {
     "name": "stderr",
     "output_type": "stream",
     "text": [
      "2025-01-22 21:56:57,845 data INFO {'Accuracy': 0.825, 'ROC_AUC_score': 0.9360613810741688, 'F1': 0.787878787878788, 'Precision': 0.8125, 'Recall': 0.7647058823529411}\n",
      "2025-01-22 21:56:57,845 data INFO {'Accuracy': 0.825, 'ROC_AUC_score': 0.9360613810741688, 'F1': 0.787878787878788, 'Precision': 0.8125, 'Recall': 0.7647058823529411}\n",
      "2025-01-22 21:56:57,846 data INFO {'Accuracy': 0.775, 'ROC_AUC_score': 0.8849104859335039, 'F1': 0.7272727272727272, 'Precision': 0.75, 'Recall': 0.7058823529411765}\n",
      "2025-01-22 21:56:57,846 data INFO {'Accuracy': 0.775, 'ROC_AUC_score': 0.8849104859335039, 'F1': 0.7272727272727272, 'Precision': 0.75, 'Recall': 0.7058823529411765}\n"
     ]
    },
    {
     "name": "stdout",
     "output_type": "stream",
     "text": [
      "\n",
      "Number of ZERO: 2349800;\n",
      "Percent of ZERO: 0.9959750771522522;\n",
      "        \n",
      "\n"
     ]
    },
    {
     "name": "stderr",
     "output_type": "stream",
     "text": [
      "2025-01-22 21:57:02,886 data INFO {'Accuracy': 0.825, 'ROC_AUC_score': 0.9360613810741688, 'F1': 0.787878787878788, 'Precision': 0.8125, 'Recall': 0.7647058823529411}\n",
      "2025-01-22 21:57:02,886 data INFO {'Accuracy': 0.825, 'ROC_AUC_score': 0.9360613810741688, 'F1': 0.787878787878788, 'Precision': 0.8125, 'Recall': 0.7647058823529411}\n",
      "2025-01-22 21:57:02,888 data INFO {'Accuracy': 0.625, 'ROC_AUC_score': 0.6956521739130435, 'F1': 0.6938775510204082, 'Precision': 0.53125, 'Recall': 1.0}\n",
      "2025-01-22 21:57:02,888 data INFO {'Accuracy': 0.625, 'ROC_AUC_score': 0.6956521739130435, 'F1': 0.6938775510204082, 'Precision': 0.53125, 'Recall': 1.0}\n"
     ]
    },
    {
     "name": "stdout",
     "output_type": "stream",
     "text": [
      "\n",
      "Number of ZERO: 2345588;\n",
      "Percent of ZERO: 0.9941897988319397;\n",
      "        \n",
      "\n"
     ]
    },
    {
     "name": "stderr",
     "output_type": "stream",
     "text": [
      "2025-01-22 21:57:07,865 data INFO {'Accuracy': 0.825, 'ROC_AUC_score': 0.9360613810741688, 'F1': 0.787878787878788, 'Precision': 0.8125, 'Recall': 0.7647058823529411}\n",
      "2025-01-22 21:57:07,865 data INFO {'Accuracy': 0.825, 'ROC_AUC_score': 0.9360613810741688, 'F1': 0.787878787878788, 'Precision': 0.8125, 'Recall': 0.7647058823529411}\n",
      "2025-01-22 21:57:07,867 data INFO {'Accuracy': 0.75, 'ROC_AUC_score': 0.8644501278772379, 'F1': 0.6428571428571428, 'Precision': 0.8181818181818182, 'Recall': 0.5294117647058824}\n",
      "2025-01-22 21:57:07,867 data INFO {'Accuracy': 0.75, 'ROC_AUC_score': 0.8644501278772379, 'F1': 0.6428571428571428, 'Precision': 0.8181818181818182, 'Recall': 0.5294117647058824}\n"
     ]
    },
    {
     "name": "stdout",
     "output_type": "stream",
     "text": [
      "\n",
      "Number of ZERO: 2349219;\n",
      "Percent of ZERO: 0.9957287907600403;\n",
      "        \n",
      "\n"
     ]
    },
    {
     "name": "stderr",
     "output_type": "stream",
     "text": [
      "2025-01-22 21:57:13,123 data INFO {'Accuracy': 0.825, 'ROC_AUC_score': 0.9360613810741688, 'F1': 0.787878787878788, 'Precision': 0.8125, 'Recall': 0.7647058823529411}\n",
      "2025-01-22 21:57:13,123 data INFO {'Accuracy': 0.825, 'ROC_AUC_score': 0.9360613810741688, 'F1': 0.787878787878788, 'Precision': 0.8125, 'Recall': 0.7647058823529411}\n",
      "2025-01-22 21:57:13,124 data INFO {'Accuracy': 0.6, 'ROC_AUC_score': 0.7365728900255755, 'F1': 0.1111111111111111, 'Precision': 1.0, 'Recall': 0.058823529411764705}\n",
      "2025-01-22 21:57:13,124 data INFO {'Accuracy': 0.6, 'ROC_AUC_score': 0.7365728900255755, 'F1': 0.1111111111111111, 'Precision': 1.0, 'Recall': 0.058823529411764705}\n"
     ]
    },
    {
     "name": "stdout",
     "output_type": "stream",
     "text": [
      "\n",
      "Number of ZERO: 2346659;\n",
      "Percent of ZERO: 0.9946437478065491;\n",
      "        \n",
      "\n"
     ]
    },
    {
     "name": "stderr",
     "output_type": "stream",
     "text": [
      "2025-01-22 21:57:18,155 data INFO {'Accuracy': 0.825, 'ROC_AUC_score': 0.9360613810741688, 'F1': 0.787878787878788, 'Precision': 0.8125, 'Recall': 0.7647058823529411}\n",
      "2025-01-22 21:57:18,155 data INFO {'Accuracy': 0.825, 'ROC_AUC_score': 0.9360613810741688, 'F1': 0.787878787878788, 'Precision': 0.8125, 'Recall': 0.7647058823529411}\n",
      "2025-01-22 21:57:18,156 data INFO {'Accuracy': 0.725, 'ROC_AUC_score': 0.8900255754475703, 'F1': 0.6451612903225806, 'Precision': 0.7142857142857143, 'Recall': 0.5882352941176471}\n",
      "2025-01-22 21:57:18,156 data INFO {'Accuracy': 0.725, 'ROC_AUC_score': 0.8900255754475703, 'F1': 0.6451612903225806, 'Precision': 0.7142857142857143, 'Recall': 0.5882352941176471}\n"
     ]
    },
    {
     "name": "stdout",
     "output_type": "stream",
     "text": [
      "\n",
      "Number of ZERO: 2348815;\n",
      "Percent of ZERO: 0.9955576062202454;\n",
      "        \n",
      "\n"
     ]
    },
    {
     "name": "stderr",
     "output_type": "stream",
     "text": [
      "C:\\Users\\Alex\\anaconda\\Lib\\site-packages\\sklearn\\metrics\\_classification.py:1469: UndefinedMetricWarning: Precision is ill-defined and being set to 0.0 due to no predicted samples. Use `zero_division` parameter to control this behavior.\n",
      "  _warn_prf(average, modifier, msg_start, len(result))\n",
      "2025-01-22 21:57:23,489 data INFO {'Accuracy': 0.825, 'ROC_AUC_score': 0.9360613810741688, 'F1': 0.787878787878788, 'Precision': 0.8125, 'Recall': 0.7647058823529411}\n",
      "2025-01-22 21:57:23,489 data INFO {'Accuracy': 0.825, 'ROC_AUC_score': 0.9360613810741688, 'F1': 0.787878787878788, 'Precision': 0.8125, 'Recall': 0.7647058823529411}\n",
      "2025-01-22 21:57:23,491 data INFO {'Accuracy': 0.575, 'ROC_AUC_score': 0.639386189258312, 'F1': 0.0, 'Precision': 0.0, 'Recall': 0.0}\n",
      "2025-01-22 21:57:23,491 data INFO {'Accuracy': 0.575, 'ROC_AUC_score': 0.639386189258312, 'F1': 0.0, 'Precision': 0.0, 'Recall': 0.0}\n"
     ]
    },
    {
     "name": "stdout",
     "output_type": "stream",
     "text": [
      "\n",
      "Number of ZERO: 2343917;\n",
      "Percent of ZERO: 0.9934815168380737;\n",
      "        \n",
      "\n"
     ]
    },
    {
     "name": "stderr",
     "output_type": "stream",
     "text": [
      "2025-01-22 21:57:28,471 data INFO {'Accuracy': 0.825, 'ROC_AUC_score': 0.9360613810741688, 'F1': 0.787878787878788, 'Precision': 0.8125, 'Recall': 0.7647058823529411}\n",
      "2025-01-22 21:57:28,471 data INFO {'Accuracy': 0.825, 'ROC_AUC_score': 0.9360613810741688, 'F1': 0.787878787878788, 'Precision': 0.8125, 'Recall': 0.7647058823529411}\n",
      "2025-01-22 21:57:28,473 data INFO {'Accuracy': 0.75, 'ROC_AUC_score': 0.8976982097186701, 'F1': 0.7058823529411765, 'Precision': 0.7058823529411765, 'Recall': 0.7058823529411765}\n",
      "2025-01-22 21:57:28,473 data INFO {'Accuracy': 0.75, 'ROC_AUC_score': 0.8976982097186701, 'F1': 0.7058823529411765, 'Precision': 0.7058823529411765, 'Recall': 0.7058823529411765}\n"
     ]
    },
    {
     "name": "stdout",
     "output_type": "stream",
     "text": [
      "\n",
      "Number of ZERO: 2348571;\n",
      "Percent of ZERO: 0.9954541325569153;\n",
      "        \n",
      "\n"
     ]
    },
    {
     "name": "stderr",
     "output_type": "stream",
     "text": [
      "2025-01-22 21:57:33,478 data INFO {'Accuracy': 0.825, 'ROC_AUC_score': 0.9360613810741688, 'F1': 0.787878787878788, 'Precision': 0.8125, 'Recall': 0.7647058823529411}\n",
      "2025-01-22 21:57:33,478 data INFO {'Accuracy': 0.825, 'ROC_AUC_score': 0.9360613810741688, 'F1': 0.787878787878788, 'Precision': 0.8125, 'Recall': 0.7647058823529411}\n",
      "2025-01-22 21:57:33,479 data INFO {'Accuracy': 0.425, 'ROC_AUC_score': 0.7672634271099744, 'F1': 0.5964912280701754, 'Precision': 0.425, 'Recall': 1.0}\n",
      "2025-01-22 21:57:33,479 data INFO {'Accuracy': 0.425, 'ROC_AUC_score': 0.7672634271099744, 'F1': 0.5964912280701754, 'Precision': 0.425, 'Recall': 1.0}\n"
     ]
    },
    {
     "name": "stdout",
     "output_type": "stream",
     "text": [
      "\n",
      "Number of ZERO: 2343157;\n",
      "Percent of ZERO: 0.9931594133377075;\n",
      "        \n",
      "\n"
     ]
    },
    {
     "name": "stderr",
     "output_type": "stream",
     "text": [
      "2025-01-22 21:57:38,676 data INFO {'Accuracy': 0.825, 'ROC_AUC_score': 0.9360613810741688, 'F1': 0.787878787878788, 'Precision': 0.8125, 'Recall': 0.7647058823529411}\n",
      "2025-01-22 21:57:38,676 data INFO {'Accuracy': 0.825, 'ROC_AUC_score': 0.9360613810741688, 'F1': 0.787878787878788, 'Precision': 0.8125, 'Recall': 0.7647058823529411}\n",
      "2025-01-22 21:57:38,677 data INFO {'Accuracy': 0.8, 'ROC_AUC_score': 0.9053708439897699, 'F1': 0.7999999999999999, 'Precision': 0.6956521739130435, 'Recall': 0.9411764705882353}\n",
      "2025-01-22 21:57:38,677 data INFO {'Accuracy': 0.8, 'ROC_AUC_score': 0.9053708439897699, 'F1': 0.7999999999999999, 'Precision': 0.6956521739130435, 'Recall': 0.9411764705882353}\n"
     ]
    },
    {
     "name": "stdout",
     "output_type": "stream",
     "text": [
      "\n",
      "Number of ZERO: 2348986;\n",
      "Percent of ZERO: 0.9956300854682922;\n",
      "        \n",
      "\n"
     ]
    },
    {
     "name": "stderr",
     "output_type": "stream",
     "text": [
      "C:\\Users\\Alex\\anaconda\\Lib\\site-packages\\sklearn\\metrics\\_classification.py:1469: UndefinedMetricWarning: Precision is ill-defined and being set to 0.0 due to no predicted samples. Use `zero_division` parameter to control this behavior.\n",
      "  _warn_prf(average, modifier, msg_start, len(result))\n",
      "2025-01-22 21:57:43,834 data INFO {'Accuracy': 0.825, 'ROC_AUC_score': 0.9360613810741688, 'F1': 0.787878787878788, 'Precision': 0.8125, 'Recall': 0.7647058823529411}\n",
      "2025-01-22 21:57:43,834 data INFO {'Accuracy': 0.825, 'ROC_AUC_score': 0.9360613810741688, 'F1': 0.787878787878788, 'Precision': 0.8125, 'Recall': 0.7647058823529411}\n",
      "2025-01-22 21:57:43,835 data INFO {'Accuracy': 0.575, 'ROC_AUC_score': 0.6751918158567775, 'F1': 0.0, 'Precision': 0.0, 'Recall': 0.0}\n",
      "2025-01-22 21:57:43,835 data INFO {'Accuracy': 0.575, 'ROC_AUC_score': 0.6751918158567775, 'F1': 0.0, 'Precision': 0.0, 'Recall': 0.0}\n"
     ]
    },
    {
     "name": "stdout",
     "output_type": "stream",
     "text": [
      "\n",
      "Number of ZERO: 2344131;\n",
      "Percent of ZERO: 0.9935722351074219;\n",
      "        \n",
      "\n"
     ]
    },
    {
     "name": "stderr",
     "output_type": "stream",
     "text": [
      "2025-01-22 21:57:49,035 data INFO {'Accuracy': 0.825, 'ROC_AUC_score': 0.9360613810741688, 'F1': 0.787878787878788, 'Precision': 0.8125, 'Recall': 0.7647058823529411}\n",
      "2025-01-22 21:57:49,035 data INFO {'Accuracy': 0.825, 'ROC_AUC_score': 0.9360613810741688, 'F1': 0.787878787878788, 'Precision': 0.8125, 'Recall': 0.7647058823529411}\n",
      "2025-01-22 21:57:49,036 data INFO {'Accuracy': 0.8, 'ROC_AUC_score': 0.9207161125319693, 'F1': 0.7500000000000001, 'Precision': 0.8, 'Recall': 0.7058823529411765}\n",
      "2025-01-22 21:57:49,036 data INFO {'Accuracy': 0.8, 'ROC_AUC_score': 0.9207161125319693, 'F1': 0.7500000000000001, 'Precision': 0.8, 'Recall': 0.7058823529411765}\n"
     ]
    },
    {
     "name": "stdout",
     "output_type": "stream",
     "text": [
      "\n",
      "Number of ZERO: 2350110;\n",
      "Percent of ZERO: 0.9961064457893372;\n",
      "        \n",
      "\n"
     ]
    },
    {
     "name": "stderr",
     "output_type": "stream",
     "text": [
      "2025-01-22 21:57:54,039 data INFO {'Accuracy': 0.825, 'ROC_AUC_score': 0.9360613810741688, 'F1': 0.787878787878788, 'Precision': 0.8125, 'Recall': 0.7647058823529411}\n",
      "2025-01-22 21:57:54,039 data INFO {'Accuracy': 0.825, 'ROC_AUC_score': 0.9360613810741688, 'F1': 0.787878787878788, 'Precision': 0.8125, 'Recall': 0.7647058823529411}\n",
      "2025-01-22 21:57:54,040 data INFO {'Accuracy': 0.775, 'ROC_AUC_score': 0.9258312020460358, 'F1': 0.7906976744186047, 'Precision': 0.6538461538461539, 'Recall': 1.0}\n",
      "2025-01-22 21:57:54,040 data INFO {'Accuracy': 0.775, 'ROC_AUC_score': 0.9258312020460358, 'F1': 0.7906976744186047, 'Precision': 0.6538461538461539, 'Recall': 1.0}\n"
     ]
    },
    {
     "name": "stdout",
     "output_type": "stream",
     "text": [
      "\n",
      "Number of ZERO: 2346324;\n",
      "Percent of ZERO: 0.9945017695426941;\n",
      "        \n",
      "\n"
     ]
    },
    {
     "name": "stderr",
     "output_type": "stream",
     "text": [
      "2025-01-22 21:57:59,147 data INFO {'Accuracy': 0.825, 'ROC_AUC_score': 0.9360613810741688, 'F1': 0.787878787878788, 'Precision': 0.8125, 'Recall': 0.7647058823529411}\n",
      "2025-01-22 21:57:59,147 data INFO {'Accuracy': 0.825, 'ROC_AUC_score': 0.9360613810741688, 'F1': 0.787878787878788, 'Precision': 0.8125, 'Recall': 0.7647058823529411}\n",
      "2025-01-22 21:57:59,149 data INFO {'Accuracy': 0.775, 'ROC_AUC_score': 0.907928388746803, 'F1': 0.7096774193548386, 'Precision': 0.7857142857142857, 'Recall': 0.6470588235294118}\n",
      "2025-01-22 21:57:59,149 data INFO {'Accuracy': 0.775, 'ROC_AUC_score': 0.907928388746803, 'F1': 0.7096774193548386, 'Precision': 0.7857142857142857, 'Recall': 0.6470588235294118}\n"
     ]
    },
    {
     "name": "stdout",
     "output_type": "stream",
     "text": [
      "\n",
      "Number of ZERO: 2351195;\n",
      "Percent of ZERO: 0.9965663552284241;\n",
      "        \n",
      "\n"
     ]
    },
    {
     "name": "stderr",
     "output_type": "stream",
     "text": [
      "2025-01-22 21:58:04,374 data INFO {'Accuracy': 0.825, 'ROC_AUC_score': 0.9360613810741688, 'F1': 0.787878787878788, 'Precision': 0.8125, 'Recall': 0.7647058823529411}\n",
      "2025-01-22 21:58:04,374 data INFO {'Accuracy': 0.825, 'ROC_AUC_score': 0.9360613810741688, 'F1': 0.787878787878788, 'Precision': 0.8125, 'Recall': 0.7647058823529411}\n",
      "2025-01-22 21:58:04,375 data INFO {'Accuracy': 0.75, 'ROC_AUC_score': 0.843989769820972, 'F1': 0.7619047619047621, 'Precision': 0.64, 'Recall': 0.9411764705882353}\n",
      "2025-01-22 21:58:04,375 data INFO {'Accuracy': 0.75, 'ROC_AUC_score': 0.843989769820972, 'F1': 0.7619047619047621, 'Precision': 0.64, 'Recall': 0.9411764705882353}\n"
     ]
    },
    {
     "name": "stdout",
     "output_type": "stream",
     "text": [
      "\n",
      "Number of ZERO: 2348064;\n",
      "Percent of ZERO: 0.9952392578125;\n",
      "        \n",
      "\n"
     ]
    },
    {
     "name": "stderr",
     "output_type": "stream",
     "text": [
      "2025-01-22 21:58:09,434 data INFO {'Accuracy': 0.825, 'ROC_AUC_score': 0.9360613810741688, 'F1': 0.787878787878788, 'Precision': 0.8125, 'Recall': 0.7647058823529411}\n",
      "2025-01-22 21:58:09,434 data INFO {'Accuracy': 0.825, 'ROC_AUC_score': 0.9360613810741688, 'F1': 0.787878787878788, 'Precision': 0.8125, 'Recall': 0.7647058823529411}\n",
      "2025-01-22 21:58:09,434 data INFO {'Accuracy': 0.775, 'ROC_AUC_score': 0.8670076726342711, 'F1': 0.7692307692307693, 'Precision': 0.6818181818181818, 'Recall': 0.8823529411764706}\n",
      "2025-01-22 21:58:09,434 data INFO {'Accuracy': 0.775, 'ROC_AUC_score': 0.8670076726342711, 'F1': 0.7692307692307693, 'Precision': 0.6818181818181818, 'Recall': 0.8823529411764706}\n"
     ]
    },
    {
     "name": "stdout",
     "output_type": "stream",
     "text": [
      "\n",
      "Number of ZERO: 2351250;\n",
      "Percent of ZERO: 0.9965896606445312;\n",
      "        \n",
      "\n"
     ]
    },
    {
     "name": "stderr",
     "output_type": "stream",
     "text": [
      "2025-01-22 21:58:14,441 data INFO {'Accuracy': 0.825, 'ROC_AUC_score': 0.9360613810741688, 'F1': 0.787878787878788, 'Precision': 0.8125, 'Recall': 0.7647058823529411}\n",
      "2025-01-22 21:58:14,441 data INFO {'Accuracy': 0.825, 'ROC_AUC_score': 0.9360613810741688, 'F1': 0.787878787878788, 'Precision': 0.8125, 'Recall': 0.7647058823529411}\n",
      "2025-01-22 21:58:14,442 data INFO {'Accuracy': 0.85, 'ROC_AUC_score': 0.8925831202046035, 'F1': 0.8235294117647058, 'Precision': 0.8235294117647058, 'Recall': 0.8235294117647058}\n",
      "2025-01-22 21:58:14,442 data INFO {'Accuracy': 0.85, 'ROC_AUC_score': 0.8925831202046035, 'F1': 0.8235294117647058, 'Precision': 0.8235294117647058, 'Recall': 0.8235294117647058}\n"
     ]
    },
    {
     "name": "stdout",
     "output_type": "stream",
     "text": [
      "\n",
      "Number of ZERO: 2349047;\n",
      "Percent of ZERO: 0.99565589427948;\n",
      "        \n",
      "\n"
     ]
    },
    {
     "name": "stderr",
     "output_type": "stream",
     "text": [
      "2025-01-22 21:58:19,630 data INFO {'Accuracy': 0.825, 'ROC_AUC_score': 0.9360613810741688, 'F1': 0.787878787878788, 'Precision': 0.8125, 'Recall': 0.7647058823529411}\n",
      "2025-01-22 21:58:19,630 data INFO {'Accuracy': 0.825, 'ROC_AUC_score': 0.9360613810741688, 'F1': 0.787878787878788, 'Precision': 0.8125, 'Recall': 0.7647058823529411}\n",
      "2025-01-22 21:58:19,631 data INFO {'Accuracy': 0.7, 'ROC_AUC_score': 0.8976982097186701, 'F1': 0.7391304347826086, 'Precision': 0.5862068965517241, 'Recall': 1.0}\n",
      "2025-01-22 21:58:19,631 data INFO {'Accuracy': 0.7, 'ROC_AUC_score': 0.8976982097186701, 'F1': 0.7391304347826086, 'Precision': 0.5862068965517241, 'Recall': 1.0}\n"
     ]
    },
    {
     "name": "stdout",
     "output_type": "stream",
     "text": [
      "\n",
      "Number of ZERO: 2352281;\n",
      "Percent of ZERO: 0.9970266819000244;\n",
      "        \n",
      "\n"
     ]
    },
    {
     "name": "stderr",
     "output_type": "stream",
     "text": [
      "2025-01-22 21:58:24,604 data INFO {'Accuracy': 0.825, 'ROC_AUC_score': 0.9360613810741688, 'F1': 0.787878787878788, 'Precision': 0.8125, 'Recall': 0.7647058823529411}\n",
      "2025-01-22 21:58:24,604 data INFO {'Accuracy': 0.825, 'ROC_AUC_score': 0.9360613810741688, 'F1': 0.787878787878788, 'Precision': 0.8125, 'Recall': 0.7647058823529411}\n",
      "2025-01-22 21:58:24,605 data INFO {'Accuracy': 0.775, 'ROC_AUC_score': 0.8542199488491049, 'F1': 0.7272727272727272, 'Precision': 0.75, 'Recall': 0.7058823529411765}\n",
      "2025-01-22 21:58:24,605 data INFO {'Accuracy': 0.775, 'ROC_AUC_score': 0.8542199488491049, 'F1': 0.7272727272727272, 'Precision': 0.75, 'Recall': 0.7058823529411765}\n"
     ]
    },
    {
     "name": "stdout",
     "output_type": "stream",
     "text": [
      "\n",
      "Number of ZERO: 2351563;\n",
      "Percent of ZERO: 0.9967223405838013;\n",
      "        \n",
      "\n"
     ]
    },
    {
     "name": "stderr",
     "output_type": "stream",
     "text": [
      "2025-01-22 21:58:29,626 data INFO {'Accuracy': 0.825, 'ROC_AUC_score': 0.9360613810741688, 'F1': 0.787878787878788, 'Precision': 0.8125, 'Recall': 0.7647058823529411}\n",
      "2025-01-22 21:58:29,626 data INFO {'Accuracy': 0.825, 'ROC_AUC_score': 0.9360613810741688, 'F1': 0.787878787878788, 'Precision': 0.8125, 'Recall': 0.7647058823529411}\n",
      "2025-01-22 21:58:29,627 data INFO {'Accuracy': 0.775, 'ROC_AUC_score': 0.8491048593350383, 'F1': 0.7272727272727272, 'Precision': 0.75, 'Recall': 0.7058823529411765}\n",
      "2025-01-22 21:58:29,627 data INFO {'Accuracy': 0.775, 'ROC_AUC_score': 0.8491048593350383, 'F1': 0.7272727272727272, 'Precision': 0.75, 'Recall': 0.7058823529411765}\n"
     ]
    },
    {
     "name": "stdout",
     "output_type": "stream",
     "text": [
      "\n",
      "Number of ZERO: 2352283;\n",
      "Percent of ZERO: 0.9970275163650513;\n",
      "        \n",
      "\n"
     ]
    },
    {
     "name": "stderr",
     "output_type": "stream",
     "text": [
      "2025-01-22 21:58:34,666 data INFO {'Accuracy': 0.825, 'ROC_AUC_score': 0.9360613810741688, 'F1': 0.787878787878788, 'Precision': 0.8125, 'Recall': 0.7647058823529411}\n",
      "2025-01-22 21:58:34,666 data INFO {'Accuracy': 0.825, 'ROC_AUC_score': 0.9360613810741688, 'F1': 0.787878787878788, 'Precision': 0.8125, 'Recall': 0.7647058823529411}\n",
      "2025-01-22 21:58:34,667 data INFO {'Accuracy': 0.625, 'ROC_AUC_score': 0.8567774936061381, 'F1': 0.6666666666666667, 'Precision': 0.5357142857142857, 'Recall': 0.8823529411764706}\n",
      "2025-01-22 21:58:34,667 data INFO {'Accuracy': 0.625, 'ROC_AUC_score': 0.8567774936061381, 'F1': 0.6666666666666667, 'Precision': 0.5357142857142857, 'Recall': 0.8823529411764706}\n"
     ]
    },
    {
     "name": "stdout",
     "output_type": "stream",
     "text": [
      "\n",
      "Number of ZERO: 2351641;\n",
      "Percent of ZERO: 0.9967554211616516;\n",
      "        \n",
      "\n"
     ]
    },
    {
     "name": "stderr",
     "output_type": "stream",
     "text": [
      "2025-01-22 21:58:39,761 data INFO {'Accuracy': 0.825, 'ROC_AUC_score': 0.9360613810741688, 'F1': 0.787878787878788, 'Precision': 0.8125, 'Recall': 0.7647058823529411}\n",
      "2025-01-22 21:58:39,761 data INFO {'Accuracy': 0.825, 'ROC_AUC_score': 0.9360613810741688, 'F1': 0.787878787878788, 'Precision': 0.8125, 'Recall': 0.7647058823529411}\n",
      "2025-01-22 21:58:39,762 data INFO {'Accuracy': 0.75, 'ROC_AUC_score': 0.8439897698209718, 'F1': 0.6875, 'Precision': 0.7333333333333333, 'Recall': 0.6470588235294118}\n",
      "2025-01-22 21:58:39,762 data INFO {'Accuracy': 0.75, 'ROC_AUC_score': 0.8439897698209718, 'F1': 0.6875, 'Precision': 0.7333333333333333, 'Recall': 0.6470588235294118}\n"
     ]
    },
    {
     "name": "stdout",
     "output_type": "stream",
     "text": [
      "\n",
      "Number of ZERO: 581085;\n",
      "Percent of ZERO: 0.9851837158203125;\n",
      "        \n",
      "\n"
     ]
    },
    {
     "name": "stderr",
     "output_type": "stream",
     "text": [
      "2025-01-22 21:58:44,838 data INFO {'Accuracy': 0.825, 'ROC_AUC_score': 0.9360613810741688, 'F1': 0.787878787878788, 'Precision': 0.8125, 'Recall': 0.7647058823529411}\n",
      "2025-01-22 21:58:44,838 data INFO {'Accuracy': 0.825, 'ROC_AUC_score': 0.9360613810741688, 'F1': 0.787878787878788, 'Precision': 0.8125, 'Recall': 0.7647058823529411}\n",
      "2025-01-22 21:58:44,839 data INFO {'Accuracy': 0.5, 'ROC_AUC_score': 0.588235294117647, 'F1': 0.4444444444444444, 'Precision': 0.42105263157894735, 'Recall': 0.47058823529411764}\n",
      "2025-01-22 21:58:44,839 data INFO {'Accuracy': 0.5, 'ROC_AUC_score': 0.588235294117647, 'F1': 0.4444444444444444, 'Precision': 0.42105263157894735, 'Recall': 0.47058823529411764}\n"
     ]
    }
   ],
   "source": [
    "enum = enumerator.combainPruning(layers=layers, sigma=[1,2,3], scale=[1,1.5], inside=True, numberOfSample=40, decrease=0.9)"
   ],
   "metadata": {
    "collapsed": false,
    "pycharm": {
     "name": "#%%\n"
    }
   }
  },
  {
   "cell_type": "code",
   "execution_count": 9,
   "outputs": [
    {
     "data": {
      "text/plain": "[{'prunModel': <data.RationalWeightClass.RationalWeight at 0x1c1cfea10d0>,\n  'data': {'sigma': 1,\n   'scale': 1,\n   'inside': True,\n   'RESULT': {'Accuracy': 0.825,\n    'ROC_AUC_score': 0.9130434782608696,\n    'F1': 0.7999999999999999,\n    'Precision': 0.7777777777777778,\n    'Recall': 0.8235294117647058},\n   'Pruning_layers': ['bert.encoder.layer.0.intermediate.dense.weight',\n    'bert.encoder.layer.0.output.dense.weight',\n    'bert.encoder.layer.1.intermediate.dense.weight',\n    'bert.encoder.layer.1.output.dense.weight',\n    'bert.encoder.layer.2.intermediate.dense.weight',\n    'bert.encoder.layer.2.output.dense.weight',\n    'bert.encoder.layer.3.intermediate.dense.weight',\n    'bert.encoder.layer.3.output.dense.weight',\n    'bert.encoder.layer.8.output.dense.weight',\n    'bert.encoder.layer.9.intermediate.dense.weight',\n    'bert.encoder.layer.9.output.dense.weight',\n    'bert.encoder.layer.10.intermediate.dense.weight',\n    'bert.encoder.layer.10.output.dense.weight',\n    'bert.encoder.layer.11.output.dense.weight']}},\n {'prunModel': <data.RationalWeightClass.RationalWeight at 0x1c1e320dad0>,\n  'data': {'sigma': 1,\n   'scale': 1.5,\n   'inside': True,\n   'RESULT': {'Accuracy': 0.825,\n    'ROC_AUC_score': 0.8721227621483376,\n    'F1': 0.787878787878788,\n    'Precision': 0.8125,\n    'Recall': 0.7647058823529411},\n   'Pruning_layers': ['bert.encoder.layer.0.intermediate.dense.weight',\n    'bert.encoder.layer.0.output.dense.weight',\n    'bert.encoder.layer.1.intermediate.dense.weight',\n    'bert.encoder.layer.1.output.dense.weight',\n    'bert.encoder.layer.2.intermediate.dense.weight',\n    'bert.encoder.layer.2.output.dense.weight',\n    'bert.encoder.layer.3.intermediate.dense.weight',\n    'bert.encoder.layer.3.output.dense.weight',\n    'bert.encoder.layer.6.output.dense.weight']}},\n {'prunModel': <data.RationalWeightClass.RationalWeight at 0x1c21281bfd0>,\n  'data': {'sigma': 2,\n   'scale': 1,\n   'inside': True,\n   'RESULT': {'Accuracy': 0.875,\n    'ROC_AUC_score': 0.928388746803069,\n    'F1': 0.8648648648648648,\n    'Precision': 0.8,\n    'Recall': 0.9411764705882353},\n   'Pruning_layers': ['bert.encoder.layer.0.output.dense.weight',\n    'bert.encoder.layer.1.output.dense.weight',\n    'bert.encoder.layer.2.output.dense.weight',\n    'bert.encoder.layer.3.output.dense.weight',\n    'bert.encoder.layer.8.output.dense.weight',\n    'bert.encoder.layer.10.output.dense.weight',\n    'bert.encoder.layer.11.output.dense.weight']}},\n {'prunModel': <data.RationalWeightClass.RationalWeight at 0x1c2128a0050>,\n  'data': {'sigma': 2,\n   'scale': 1.5,\n   'inside': True,\n   'RESULT': {'Accuracy': 0.875,\n    'ROC_AUC_score': 0.959079283887468,\n    'F1': 0.8484848484848485,\n    'Precision': 0.875,\n    'Recall': 0.8235294117647058},\n   'Pruning_layers': ['bert.encoder.layer.0.intermediate.dense.weight',\n    'bert.encoder.layer.0.output.dense.weight',\n    'bert.encoder.layer.1.output.dense.weight',\n    'bert.encoder.layer.2.output.dense.weight',\n    'bert.encoder.layer.3.output.dense.weight',\n    'bert.encoder.layer.8.output.dense.weight',\n    'bert.encoder.layer.11.output.dense.weight']}},\n {'prunModel': <data.RationalWeightClass.RationalWeight at 0x1c1e2e52fd0>,\n  'data': {'sigma': 3,\n   'scale': 1,\n   'inside': True,\n   'RESULT': {'Accuracy': 0.875,\n    'ROC_AUC_score': 0.9156010230179028,\n    'F1': 0.8717948717948718,\n    'Precision': 0.7727272727272727,\n    'Recall': 1.0},\n   'Pruning_layers': ['bert.encoder.layer.0.output.dense.weight',\n    'bert.encoder.layer.1.output.dense.weight',\n    'bert.encoder.layer.6.output.dense.weight',\n    'bert.encoder.layer.7.intermediate.dense.weight',\n    'bert.encoder.layer.10.intermediate.dense.weight',\n    'bert.encoder.layer.10.output.dense.weight',\n    'bert.encoder.layer.11.output.dense.weight']}},\n {'prunModel': <data.RationalWeightClass.RationalWeight at 0x1c2128db610>,\n  'data': {'sigma': 3,\n   'scale': 1.5,\n   'inside': True,\n   'RESULT': {'Accuracy': 0.775,\n    'ROC_AUC_score': 0.8491048593350383,\n    'F1': 0.7272727272727272,\n    'Precision': 0.75,\n    'Recall': 0.7058823529411765},\n   'Pruning_layers': ['bert.encoder.layer.0.output.dense.weight',\n    'bert.encoder.layer.1.output.dense.weight',\n    'bert.encoder.layer.6.output.dense.weight',\n    'bert.encoder.layer.9.intermediate.dense.weight',\n    'bert.encoder.layer.10.intermediate.dense.weight',\n    'bert.encoder.layer.10.output.dense.weight']}}]"
     },
     "execution_count": 9,
     "metadata": {},
     "output_type": "execute_result"
    }
   ],
   "source": [
    "enum"
   ],
   "metadata": {
    "collapsed": false,
    "pycharm": {
     "name": "#%%\n"
    }
   }
  },
  {
   "cell_type": "code",
   "execution_count": 19,
   "outputs": [],
   "source": [
    "torch.save(enum[0][\"prunModel\"].model, \"model.safetensors\")"
   ],
   "metadata": {
    "collapsed": false,
    "pycharm": {
     "name": "#%%\n"
    }
   }
  },
  {
   "cell_type": "code",
   "execution_count": 31,
   "outputs": [],
   "source": [
    "torch.save(enum[0][\"prunModel\"].model.state_dict(), \"model_weight.pt\")"
   ],
   "metadata": {
    "collapsed": false,
    "pycharm": {
     "name": "#%%\n"
    }
   }
  },
  {
   "cell_type": "code",
   "execution_count": 34,
   "outputs": [],
   "source": [
    "id2label = {0: \"Negative\", 1: \"Positive\"}\n",
    "label2id = {\"Negative\": 0, \"Positive\": 1}\n",
    "data_files = {'train': 'train.parquet', 'test': 'test.parquet'}\n",
    "dataset = load_dataset('../datasets/imdbstfd', data_files=data_files)\n",
    "dataset = dataset.shuffle(seed=88)\n",
    "model = AutoModelForSequenceClassification.from_pretrained(\n",
    "    \"../models/prun-model-1-1-t\", num_labels=2, id2label=id2label, label2id=label2id\n",
    ")\n",
    "model.eval()\n",
    "tokenizer = AutoTokenizer.from_pretrained(\"../models/prun-model-1-1-t\", use_fast=True)"
   ],
   "metadata": {
    "collapsed": false,
    "pycharm": {
     "name": "#%%\n"
    }
   }
  },
  {
   "cell_type": "code",
   "execution_count": 30,
   "outputs": [
    {
     "name": "stdout",
     "output_type": "stream",
     "text": [
      "tensor(0) 0 tensor([[0.5576, 0.4424]])\n",
      "tensor(1) 1 tensor([[0.1402, 0.8598]])\n",
      "tensor(0) 0 tensor([[0.8740, 0.1260]])\n",
      "tensor(1) 0 tensor([[0.3586, 0.6414]])\n",
      "tensor(0) 1 tensor([[0.7825, 0.2175]])\n",
      "tensor(1) 1 tensor([[0.3340, 0.6660]])\n",
      "tensor(0) 0 tensor([[0.8749, 0.1251]])\n",
      "tensor(0) 0 tensor([[0.8278, 0.1722]])\n",
      "tensor(1) 1 tensor([[0.1144, 0.8856]])\n",
      "tensor(1) 0 tensor([[0.2516, 0.7484]])\n",
      "tensor(0) 0 tensor([[0.8930, 0.1070]])\n",
      "tensor(0) 1 tensor([[0.6354, 0.3646]])\n",
      "tensor(0) 0 tensor([[0.8178, 0.1822]])\n",
      "tensor(1) 1 tensor([[0.0768, 0.9232]])\n",
      "tensor(0) 0 tensor([[0.9290, 0.0710]])\n",
      "tensor(0) 0 tensor([[0.5985, 0.4015]])\n",
      "tensor(0) 1 tensor([[0.5758, 0.4242]])\n",
      "tensor(0) 0 tensor([[0.7499, 0.2501]])\n",
      "tensor(1) 1 tensor([[0.2878, 0.7122]])\n",
      "tensor(1) 1 tensor([[0.4658, 0.5342]])\n",
      "tensor(1) 1 tensor([[0.4391, 0.5609]])\n",
      "tensor(1) 1 tensor([[0.2857, 0.7143]])\n",
      "tensor(1) 0 tensor([[0.3181, 0.6819]])\n",
      "tensor(0) 0 tensor([[0.8453, 0.1547]])\n",
      "tensor(1) 1 tensor([[0.1393, 0.8607]])\n",
      "tensor(1) 1 tensor([[0.1077, 0.8923]])\n",
      "tensor(0) 0 tensor([[0.7069, 0.2931]])\n",
      "tensor(1) 1 tensor([[0.1432, 0.8568]])\n",
      "tensor(0) 0 tensor([[0.7840, 0.2160]])\n",
      "tensor(1) 1 tensor([[0.1992, 0.8008]])\n",
      "tensor(1) 1 tensor([[0.2905, 0.7095]])\n",
      "tensor(0) 0 tensor([[0.8690, 0.1310]])\n",
      "tensor(0) 0 tensor([[0.6726, 0.3274]])\n",
      "tensor(0) 0 tensor([[0.9310, 0.0690]])\n",
      "tensor(1) 0 tensor([[0.4661, 0.5339]])\n",
      "tensor(0) 0 tensor([[0.8130, 0.1870]])\n",
      "tensor(0) 0 tensor([[0.8503, 0.1497]])\n",
      "tensor(1) 1 tensor([[0.2141, 0.7859]])\n",
      "tensor(0) 0 tensor([[0.5407, 0.4593]])\n",
      "tensor(0) 0 tensor([[0.8791, 0.1209]])\n"
     ]
    }
   ],
   "source": [
    "PATH = \"../models/prun-model-1-1-t/model.safetensors\"\n",
    "model = torch.load(PATH, weights_only=False)\n",
    "model.eval()\n",
    "\n",
    "for i, prompt in enumerate(dataset['test']['text'][:40]):\n",
    "    inputs = tokenizer(prompt, return_tensors=\"pt\", truncation=True, max_length=512)\n",
    "    inputs = inputs[\"input_ids\"]\n",
    "\n",
    "    if torch.cuda.is_available():\n",
    "        inputs = inputs.to(\"cuda\")\n",
    "    label = dataset['test']['label'][i]\n",
    "\n",
    "    outputs = model(inputs)\n",
    "    softmax = torch.nn.Softmax(dim=1)\n",
    "    outSoftmax = softmax(outputs[\"logits\"]).cpu()\n",
    "    outIndex = torch.argmax(outSoftmax)\n",
    "    print(outIndex, label, outSoftmax)"
   ],
   "metadata": {
    "collapsed": false,
    "pycharm": {
     "name": "#%%\n"
    }
   }
  },
  {
   "cell_type": "code",
   "execution_count": 35,
   "outputs": [],
   "source": [
    "enum[1][\"prunModel\"].model.save_pretrained(\"./saving\")"
   ],
   "metadata": {
    "collapsed": false,
    "pycharm": {
     "name": "#%%\n"
    }
   }
  },
  {
   "cell_type": "code",
   "execution_count": null,
   "outputs": [],
   "source": [],
   "metadata": {
    "collapsed": false,
    "pycharm": {
     "name": "#%%\n"
    }
   }
  }
 ],
 "metadata": {
  "kernelspec": {
   "display_name": "Python 3",
   "language": "python",
   "name": "python3"
  },
  "language_info": {
   "codemirror_mode": {
    "name": "ipython",
    "version": 2
   },
   "file_extension": ".py",
   "mimetype": "text/x-python",
   "name": "python",
   "nbconvert_exporter": "python",
   "pygments_lexer": "ipython2",
   "version": "2.7.6"
  }
 },
 "nbformat": 4,
 "nbformat_minor": 0
}